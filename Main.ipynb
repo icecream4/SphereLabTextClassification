{
 "cells": [
  {
   "cell_type": "code",
   "execution_count": 1,
   "metadata": {
    "collapsed": true
   },
   "outputs": [],
   "source": [
    "from bs4 import BeautifulSoup\n",
    "import numpy as np\n",
    "import pandas as pd\n",
    "import datetime\n",
    "import requests\n",
    "import sys\n",
    "import os\n",
    "import json\n",
    "import time\n",
    "import re"
   ]
  },
  {
   "cell_type": "code",
   "execution_count": 2,
   "metadata": {
    "collapsed": true
   },
   "outputs": [],
   "source": [
    "headers0 = {\n",
    "    'user-agent': 'Mozilla/5.0 (Macintosh; Intel Mac OS X 10.11; rv:48.0) Gecko/20100101 Firefox/48.0',\n",
    "    'accept': \"text/html,application/xhtml+xml,application/xml;q=0.9,*/*;q=0.8\",\n",
    "    'accept-language': 'ru-RU,ru;q=0.8,en-US;q=0.5,en;q=0.3',\n",
    "    'keep-alive': 'keep-alive',\n",
    "    'cache-control': 'max-age=0',\n",
    "}"
   ]
  },
  {
   "cell_type": "markdown",
   "metadata": {},
   "source": [
    "Подключение."
   ]
  },
  {
   "cell_type": "code",
   "execution_count": 3,
   "metadata": {
    "collapsed": true
   },
   "outputs": [],
   "source": [
    "URL = 'http://admining.hadoop1.corp.mail.ru/login/'\n",
    "logn = 'a.tleubayev'\n",
    "passwd = ''\n",
    "client = requests.session()\n",
    "\n",
    "client.get(URL)\n",
    "csrftoken = client.cookies['csrftoken']\n",
    "\n",
    "login_data = dict(username=logn, password=passwd,\n",
    "                  csrfmiddlewaretoken=csrftoken, next='/')\n",
    "r = client.post(URL, data=login_data, headers=dict(Referer=URL))\n",
    "\n",
    "if len(r.content) < 5000:\n",
    "    print('Неверно введен логин или пароль')\n",
    "    exit(1)"
   ]
  },
  {
   "cell_type": "markdown",
   "metadata": {},
   "source": [
    "Скачиваем дерево."
   ]
  },
  {
   "cell_type": "code",
   "execution_count": 4,
   "metadata": {
    "collapsed": true
   },
   "outputs": [],
   "source": [
    "categoryRootName = u'Досуг'\n",
    "categoryRootId   = 405"
   ]
  },
  {
   "cell_type": "code",
   "execution_count": 5,
   "metadata": {
    "collapsed": true
   },
   "outputs": [],
   "source": [
    "url = 'http://admining.hadoop1.corp.mail.ru/api/load_tree/'\n",
    "try:\n",
    "    page = requests.get(url, timeout=10)\n",
    "except requests.exceptions.Timeout:\n",
    "    print('Ошибка подключения к admining.hadoop1.corp.mail.ru, проверьте подключение к VPN.')\n",
    "    exit(1)\n",
    "soup = BeautifulSoup(page.content, 'html.parser')\n",
    "tree = json.loads(str(soup))"
   ]
  },
  {
   "cell_type": "code",
   "execution_count": 6,
   "metadata": {
    "collapsed": true
   },
   "outputs": [],
   "source": [
    "def getDataId(tree, idCategory, flag=False):\n",
    "    dataId = {}\n",
    "    if tree['id'] == idCategory or flag:\n",
    "        dataId[tree['id']] = tree['text']\n",
    "        flag = True\n",
    "        \n",
    "    if tree['children'] != None:\n",
    "        for i in tree['children']:\n",
    "#             print(dataId)\n",
    "            dataId.update(getDataId(i, idCategory, flag))\n",
    "            \n",
    "    return dataId"
   ]
  },
  {
   "cell_type": "code",
   "execution_count": 7,
   "metadata": {
    "collapsed": true
   },
   "outputs": [],
   "source": [
    "dataId = {}\n",
    "for i in tree:\n",
    "    dataId.update(getDataId(i, categoryRootId))"
   ]
  },
  {
   "cell_type": "code",
   "execution_count": 8,
   "metadata": {},
   "outputs": [
    {
     "data": {
      "text/plain": [
       "dict_keys([405, 406, 407, 408, 409, 410, 411, 412, 413, 414, 415, 416, 417, 418, 456, 419, 420, 421, 422, 838, 839, 840, 841, 842, 843, 884, 423, 424, 425, 426, 427, 1497, 428, 429, 430, 997, 1028, 1029, 1030, 1031, 1046, 1144, 1121, 1127, 1261, 1262, 1334, 1430])"
      ]
     },
     "execution_count": 8,
     "metadata": {},
     "output_type": "execute_result"
    }
   ],
   "source": [
    "dataId.keys()"
   ]
  },
  {
   "cell_type": "code",
   "execution_count": 9,
   "metadata": {
    "collapsed": true
   },
   "outputs": [],
   "source": [
    "def getDataUrls(dataId):\n",
    "    urls = []\n",
    "    for categoryId in dataId:\n",
    "        data = client.get('http://admining.hadoop1.corp.mail.ru/load_patterns/{}/'.format(categoryId)).content\n",
    "        data_json = json.loads(data.decode())\n",
    "        urls.extend([[i.split(' ')[0], categoryId] for i in data_json[u'patterns'].split('\\n')])\n",
    "\n",
    "    urls = np.array(urls)\n",
    "    table = pd.DataFrame({'urls': urls.T[0], 'categoryId': urls.T[1]})\n",
    "    table = pd.get_dummies(table, columns=['categoryId'])\n",
    "    table = table.groupby('urls').sum()\n",
    "    \n",
    "    return table.index, table.values"
   ]
  },
  {
   "cell_type": "code",
   "execution_count": 10,
   "metadata": {
    "collapsed": true
   },
   "outputs": [],
   "source": [
    "dataUrls, dataCategories = getDataUrls(dataId)"
   ]
  },
  {
   "cell_type": "code",
   "execution_count": 11,
   "metadata": {
    "collapsed": true
   },
   "outputs": [],
   "source": [
    "from sklearn.model_selection import train_test_split"
   ]
  },
  {
   "cell_type": "code",
   "execution_count": 12,
   "metadata": {
    "collapsed": true
   },
   "outputs": [],
   "source": [
    "trainUrls, testUrls, trainCategory, testCategory = \\\n",
    "    train_test_split(dataUrls, dataCategories, test_size=0.2)"
   ]
  },
  {
   "cell_type": "code",
   "execution_count": 13,
   "metadata": {
    "collapsed": true
   },
   "outputs": [],
   "source": [
    "np.save('data/trainUrls.npy', trainUrls)\n",
    "np.save('data/trainCategory.npy', trainCategory)\n",
    "np.save('data/testUrls.npy', testUrls)\n",
    "np.save('data/testCategory.npy', testCategory)"
   ]
  },
  {
   "cell_type": "code",
   "execution_count": 3,
   "metadata": {
    "collapsed": true
   },
   "outputs": [],
   "source": [
    "from multiprocessing.pool import ThreadPool"
   ]
  },
  {
   "cell_type": "code",
   "execution_count": 4,
   "metadata": {
    "collapsed": true
   },
   "outputs": [],
   "source": [
    "class LoggingPool(ThreadPool):\n",
    "    def apply_async(self, func, args=(), kwds={}, callback=None):\n",
    "        return ThreadPool.apply_async(self, LogExceptions(func), args, kwds, callback)"
   ]
  },
  {
   "cell_type": "code",
   "execution_count": 5,
   "metadata": {
    "collapsed": true
   },
   "outputs": [],
   "source": [
    "trainUrls = np.load('data/trainUrls.npy')\n",
    "trainCategory = np.load('data/trainCategory.npy')\n",
    "testUrls = np.load('data/testUrls.npy')\n",
    "testCategory = np.load('data/testCategory.npy')\n",
    "\n",
    "# trainTextsToken = np.load('data/trainTextsToken.npy').tolist()\n",
    "# testTextsToken = np.load('data/testTextsToken.npy').tolist()"
   ]
  },
  {
   "cell_type": "code",
   "execution_count": 10,
   "metadata": {
    "collapsed": true
   },
   "outputs": [],
   "source": [
    "def getText(domain):\n",
    "    \" Cкачать текст с главной страницы домена domain \"\n",
    "    try:    \n",
    "        page = requests.get('http://'+domain, headers=headers0, timeout=100)\n",
    "        soup = BeautifulSoup(page.content)\n",
    "\n",
    "        for script in soup([\"script\", \"style\"]):\n",
    "            script.extract()\n",
    "\n",
    "        text = soup.get_text()\n",
    "        lines = (line.strip() for line in text.splitlines())\n",
    "        chunks = (phrase.strip() for line in lines for phrase in line.split(\"  \"))\n",
    "        text = '\\n'.join(chunk for chunk in chunks if chunk)\n",
    "        \n",
    "    except:\n",
    "        text = 'NOTEXT'\n",
    "    return text"
   ]
  },
  {
   "cell_type": "code",
   "execution_count": 11,
   "metadata": {
    "collapsed": true
   },
   "outputs": [],
   "source": [
    "pool = LoggingPool(processes=64)"
   ]
  },
  {
   "cell_type": "code",
   "execution_count": 12,
   "metadata": {},
   "outputs": [
    {
     "name": "stderr",
     "output_type": "stream",
     "text": [
      "/home/adil/.pyenv/versions/3.6.1/envs/python3/lib/python3.6/site-packages/bs4/__init__.py:181: UserWarning: No parser was explicitly specified, so I'm using the best available HTML parser for this system (\"html5lib\"). This usually isn't a problem, but if you run this code on another system, or in a different virtual environment, it may use a different parser and behave differently.\n",
      "\n",
      "The code that caused this warning is on line 884 of the file /home/adil/.pyenv/versions/3.6.1/lib/python3.6/threading.py. To get rid of this warning, change code that looks like this:\n",
      "\n",
      " BeautifulSoup(YOUR_MARKUP})\n",
      "\n",
      "to this:\n",
      "\n",
      " BeautifulSoup(YOUR_MARKUP, \"html5lib\")\n",
      "\n",
      "  markup_type=markup_type))\n"
     ]
    },
    {
     "name": "stdout",
     "output_type": "stream",
     "text": [
      "CPU times: user 15min 29s, sys: 41 s, total: 16min 10s\n",
      "Wall time: 15min 21s\n"
     ]
    }
   ],
   "source": [
    "%%time\n",
    "trainTexts = pool.map(getText, trainUrls)"
   ]
  },
  {
   "cell_type": "code",
   "execution_count": 13,
   "metadata": {},
   "outputs": [
    {
     "name": "stderr",
     "output_type": "stream",
     "text": [
      "/home/adil/.pyenv/versions/3.6.1/envs/python3/lib/python3.6/site-packages/bs4/__init__.py:181: UserWarning: No parser was explicitly specified, so I'm using the best available HTML parser for this system (\"html5lib\"). This usually isn't a problem, but if you run this code on another system, or in a different virtual environment, it may use a different parser and behave differently.\n",
      "\n",
      "The code that caused this warning is on line 884 of the file /home/adil/.pyenv/versions/3.6.1/lib/python3.6/threading.py. To get rid of this warning, change code that looks like this:\n",
      "\n",
      " BeautifulSoup(YOUR_MARKUP})\n",
      "\n",
      "to this:\n",
      "\n",
      " BeautifulSoup(YOUR_MARKUP, \"html5lib\")\n",
      "\n",
      "  markup_type=markup_type))\n"
     ]
    },
    {
     "name": "stdout",
     "output_type": "stream",
     "text": [
      "CPU times: user 4min 8s, sys: 13.1 s, total: 4min 21s\n",
      "Wall time: 4min 54s\n"
     ]
    }
   ],
   "source": [
    "%%time\n",
    "testTexts = pool.map(getText, testUrls)"
   ]
  },
  {
   "cell_type": "code",
   "execution_count": 14,
   "metadata": {
    "collapsed": true,
    "scrolled": false
   },
   "outputs": [],
   "source": [
    "import pymorphy2\n",
    "import re\n",
    "\n",
    "re_extract_words = re.compile('[^а-яёa-z0-9]')\n",
    "re_repeat_spaces = re.compile('[ ]+')\n",
    "\n",
    "morph = pymorphy2.MorphAnalyzer()\n",
    "\n",
    "\n",
    "def morph_tokenizer(text):\n",
    "    ext_text = re_extract_words.sub (u' ', text.lower())\n",
    "    words = re_repeat_spaces.sub (u' ', ext_text)\n",
    "    words = words.split (u' ')\n",
    "    \n",
    "    norms = [ morph.parse (w)[0].normal_form  for w in words  if (len (w) > 1) ]\n",
    "    return norms"
   ]
  },
  {
   "cell_type": "code",
   "execution_count": 15,
   "metadata": {},
   "outputs": [
    {
     "name": "stdout",
     "output_type": "stream",
     "text": [
      "CPU times: user 13min 36s, sys: 41.1 s, total: 14min 17s\n",
      "Wall time: 13min 14s\n"
     ]
    }
   ],
   "source": [
    "%%time\n",
    "trainTextsToken = pool.map(morph_tokenizer, trainTexts)"
   ]
  },
  {
   "cell_type": "code",
   "execution_count": 16,
   "metadata": {},
   "outputs": [
    {
     "name": "stdout",
     "output_type": "stream",
     "text": [
      "CPU times: user 3min 20s, sys: 10.6 s, total: 3min 30s\n",
      "Wall time: 3min 15s\n"
     ]
    }
   ],
   "source": [
    "%%time\n",
    "testTextsToken = pool.map(morph_tokenizer, testTexts)"
   ]
  },
  {
   "cell_type": "code",
   "execution_count": 17,
   "metadata": {
    "collapsed": true
   },
   "outputs": [],
   "source": [
    "np.save('data/trainTextsTokenNew.npy', trainTextsToken)\n",
    "np.save('data/testTextsTokenNew.npy', testTextsToken)"
   ]
  },
  {
   "cell_type": "markdown",
   "metadata": {},
   "source": [
    "# Признаки"
   ]
  },
  {
   "cell_type": "code",
   "execution_count": 3,
   "metadata": {},
   "outputs": [
    {
     "name": "stderr",
     "output_type": "stream",
     "text": [
      "/home/adil/.pyenv/versions/3.6.1/envs/python3/lib/python3.6/site-packages/sklearn/cross_validation.py:44: DeprecationWarning: This module was deprecated in version 0.18 in favor of the model_selection module into which all the refactored classes and functions are moved. Also note that the interface of the new CV iterators are different from that of this module. This module will be removed in 0.20.\n",
      "  \"This module will be removed in 0.20.\", DeprecationWarning)\n"
     ]
    }
   ],
   "source": [
    "from sklearn.feature_extraction.text import TfidfVectorizer\n",
    "from sklearn.neighbors import NearestCentroid, KNeighborsClassifier, NearestNeighbors\n",
    "from sklearn.cross_validation import cross_val_score\n",
    "from sklearn.multiclass import OneVsRestClassifier, OneVsOneClassifier\n",
    "from sklearn.svm import SVC\n",
    "from sklearn.metrics import accuracy_score, f1_score, roc_auc_score\n",
    "from sklearn.linear_model import RidgeClassifier, LinearRegression, LogisticRegression"
   ]
  },
  {
   "cell_type": "code",
   "execution_count": 4,
   "metadata": {
    "collapsed": true
   },
   "outputs": [],
   "source": [
    "labels = [405, 406, 407, 408, 409, 410, 411, 412, 413, 414,\\\n",
    "          415, 416, 417, 418, 456, 419, 420, 421, 422, 838,\\\n",
    "          839, 840, 841, 842, 843, 884, 423, 424, 425, 426,\\\n",
    "          427, 1497, 428, 429, 430, 997, 1028, 1029, 1030,\\\n",
    "          1031, 1046, 1144, 1121, 1127, 1261, 1262, 1334, 1430]"
   ]
  },
  {
   "cell_type": "code",
   "execution_count": 5,
   "metadata": {
    "collapsed": true
   },
   "outputs": [],
   "source": [
    "# delWords = ['div', 'js', 'td', 'document', 'color', 'url', 'span', 'li', 'true', 'screen', 'text',\\\n",
    "#             'type', 'com', 'jpg', 'group', 'value', 'block', 'vc', 'img', 'style', 'right', 'width',\\\n",
    "#             'border', 'new', 'src', 'content', 'http', 'hover', 'font', 'this', 'none', 'ru', 'background',\\\n",
    "#             'false', 'var', 'return', 'null', 'menu', 'if', 'left', 'height', 'margin', 'title', 'https',\\\n",
    "#             'important', 'image', 'function', 'padding', 'bottom', 'class', 'name', 'param', 'card', 'size',\\\n",
    "#             'window', 'top', 'script', 'push', 'data', 'ul', 'href', 'id', 'display', 'location', 'css', 'async',\\\n",
    "#             'tta', 'all', 'body', 'png', 'escape', 'html', 'parentnode', 'input', 'index', 'button', 'jquery',\\\n",
    "#             'opera', 'event', 'position', 'rgba', 'link', 'ga', 'main', 'metrika', 'btn', 'show', 'container',\\\n",
    "#             'form', 'header', 'center', 'javascript', 'webkit', 'search', 'typeof', 'box', 'www', 'click',\\\n",
    "#             'radius', 'length', 'getelementsbytagname', 'date', 'no', 'insertbefore', 'before', 'colordepth',\\\n",
    "#             'else', 'icon', 'write', 'post', 'for', 'wp', 'net', 'in', 'active', 'code', 'auto', 'item', 'align',\\\n",
    "#             'widget', 'createelement', 'cat', 'bx', 'place',\\\n",
    "delWords = ['а', 'без', 'в', 'во', 'на', 'с', 'со', 'до', 'для', 'за', 'из', 'из-за', 'к', 'ко', 'между', 'у',\\\n",
    "            'над', 'надо', 'без', 'не', 'о', 'об', 'обо', 'от', 'перед', 'по', 'под', 'подо', 'после', 'пред',\\\n",
    "            'при', 'про',\\\n",
    "            'чей', 'себя', 'сколько', 'любой', 'самый', 'что', 'некого', 'он', 'она', 'где', 'весь', 'я', 'ты',\\\n",
    "            'сам', 'какой', 'зачем', 'никто', 'наш', 'незачем', 'мы', 'свой', 'кто-то', 'другой', 'их',\\\n",
    "            'никакой', 'который', 'ничей', 'нечто', 'они', 'каковой', 'вы', 'такой', 'ничто', 'какой-либо',\\\n",
    "            'когда', 'этот', 'каждый', 'некто', 'тот', 'каков', 'всякий', 'нечего', 'ваш', 'таков', 'столько',\\\n",
    "            'что-нибудь', 'сей', 'иной', 'несколько', 'его', 'твой', 'оно', 'её', 'некоторый', 'мой', 'откуда',\\\n",
    "            'кто'\n",
    "           ]"
   ]
  },
  {
   "cell_type": "code",
   "execution_count": 6,
   "metadata": {
    "collapsed": true
   },
   "outputs": [],
   "source": [
    "trainUrls = np.load('data/trainUrls.npy')\n",
    "trainCategory = np.load('data/trainCategory.npy')\n",
    "testUrls = np.load('data/testUrls.npy')\n",
    "testCategory = np.load('data/testCategory.npy')\n",
    "\n",
    "trainTextsToken = np.load('data/trainTextsTokenNew.npy').tolist()\n",
    "testTextsToken = np.load('data/testTextsTokenNew.npy').tolist()"
   ]
  },
  {
   "cell_type": "code",
   "execution_count": 7,
   "metadata": {
    "collapsed": true
   },
   "outputs": [],
   "source": [
    "trainCategory[trainCategory != 0] = 1\n",
    "testCategory[testCategory != 0] = 1"
   ]
  },
  {
   "cell_type": "markdown",
   "metadata": {},
   "source": [
    "### Tfidf"
   ]
  },
  {
   "cell_type": "code",
   "execution_count": 8,
   "metadata": {
    "collapsed": true
   },
   "outputs": [],
   "source": [
    "trainTexts = [' '.join(i) for i in trainTextsToken]\n",
    "testTexts = [' '.join(i) for i in testTextsToken]"
   ]
  },
  {
   "cell_type": "code",
   "execution_count": 9,
   "metadata": {
    "collapsed": true
   },
   "outputs": [],
   "source": [
    "tfidfTransformer = TfidfVectorizer()\n",
    "trainFeatures  = tfidfTransformer.fit_transform(trainTexts)\n",
    "testFeatures = tfidfTransformer.transform(testTexts)"
   ]
  },
  {
   "cell_type": "markdown",
   "metadata": {},
   "source": [
    "### Filter+Tfidf"
   ]
  },
  {
   "cell_type": "code",
   "execution_count": 45,
   "metadata": {
    "collapsed": true
   },
   "outputs": [],
   "source": [
    "trainTextsFilter = [' '.join([j if j not in delWords \n",
    "                              and not bool(re.search(r'\\d', j))\n",
    "                              and bool(re.search(r'[а-я]', j))\n",
    "                              else '' for j in i]) for i in trainTextsToken]\n",
    "testTextsFilter = [' '.join([j if j not in delWords \n",
    "                              and not bool(re.search(r'\\d', j)) \n",
    "                              and bool(re.search(r'[а-я]', j))\n",
    "                              else '' for j in i]) for i in testTextsToken]"
   ]
  },
  {
   "cell_type": "code",
   "execution_count": 46,
   "metadata": {
    "collapsed": true
   },
   "outputs": [],
   "source": [
    "tfidfTransformer = TfidfVectorizer()\n",
    "trainFeatures  = tfidfTransformer.fit_transform(trainTextsFilter)\n",
    "testFeatures = tfidfTransformer.transform(testTextsFilter)"
   ]
  },
  {
   "cell_type": "markdown",
   "metadata": {},
   "source": [
    "### One class"
   ]
  },
  {
   "cell_type": "code",
   "execution_count": 12,
   "metadata": {},
   "outputs": [
    {
     "name": "stdout",
     "output_type": "stream",
     "text": [
      "Fit time:  25.61989712715149\n",
      "accuracy_score:  0.667414050822\n"
     ]
    }
   ],
   "source": [
    "_time = time.time()\n",
    "clf = LogisticRegression(penalty='l1', n_jobs=5)\n",
    "clf.fit(trainFeatures, trainCategory.argmax(axis=1))\n",
    "print('Fit time: ', time.time() - _time)\n",
    "predict = clf.predict(testFeatures)\n",
    "print('accuracy_score: ', accuracy_score(testCategory.argmax(axis=1), predict))"
   ]
  },
  {
   "cell_type": "markdown",
   "metadata": {},
   "source": [
    "l2:\n",
    "Fit time:  27.65433645248413\n",
    "accuracy_score:  0.67264573991\n",
    "\n",
    "l1:\n",
    "Fit time:  25.61989712715149\n",
    "accuracy_score:  0.667414050822"
   ]
  },
  {
   "cell_type": "code",
   "execution_count": 47,
   "metadata": {},
   "outputs": [
    {
     "name": "stdout",
     "output_type": "stream",
     "text": [
      "Fit time:  27.7691593170166\n",
      "accuracy_score:  0.712257100149\n"
     ]
    }
   ],
   "source": [
    "_time = time.time()\n",
    "clf = RidgeClassifier()\n",
    "clf.fit(trainFeatures, trainCategory.argmax(axis=1))\n",
    "print('Fit time: ', time.time() - _time)\n",
    "predict = clf.predict(testFeatures)\n",
    "print('accuracy_score: ', accuracy_score(testCategory.argmax(axis=1), predict))"
   ]
  },
  {
   "cell_type": "code",
   "execution_count": 10,
   "metadata": {},
   "outputs": [
    {
     "name": "stdout",
     "output_type": "stream",
     "text": [
      "Fit time:  0.21486854553222656\n",
      "accuracy_score:  0.659940209268\n"
     ]
    }
   ],
   "source": [
    "_time = time.time()\n",
    "clf = NearestCentroid()\n",
    "clf.fit(trainFeatures, trainCategory.argmax(axis=1))\n",
    "print('Fit time: ', time.time() - _time)\n",
    "predict = clf.predict(testFeatures)\n",
    "print('accuracy_score: ', accuracy_score(testCategory.argmax(axis=1), predict))"
   ]
  },
  {
   "cell_type": "code",
   "execution_count": 49,
   "metadata": {},
   "outputs": [
    {
     "name": "stdout",
     "output_type": "stream",
     "text": [
      "Fit time:  0.012741804122924805\n",
      "accuracy_score:  0.313153961136\n"
     ]
    }
   ],
   "source": [
    "_time = time.time()\n",
    "clf = KNeighborsClassifier()\n",
    "clf.fit(trainFeatures, trainCategory.argmax(axis=1))\n",
    "print('Fit time: ', time.time() - _time)\n",
    "predict = clf.predict(testFeatures)\n",
    "print('accuracy_score: ', accuracy_score(testCategory.argmax(axis=1), predict))"
   ]
  },
  {
   "cell_type": "code",
   "execution_count": 10,
   "metadata": {},
   "outputs": [
    {
     "name": "stdout",
     "output_type": "stream",
     "text": [
      "Fit time:  0.010978937149047852\n",
      "accuracy_score:  0.669656203288\n"
     ]
    }
   ],
   "source": [
    "_time = time.time()\n",
    "clf = KNeighborsClassifier(algorithm='brute', metric='cosine')\n",
    "clf.fit(trainFeatures, trainCategory.argmax(axis=1))\n",
    "print('Fit time: ', time.time() - _time)\n",
    "predict = clf.predict(testFeatures)\n",
    "print('accuracy_score: ', accuracy_score(testCategory.argmax(axis=1), predict))"
   ]
  },
  {
   "cell_type": "code",
   "execution_count": 51,
   "metadata": {},
   "outputs": [
    {
     "name": "stdout",
     "output_type": "stream",
     "text": [
      "Fit time:  69.89844346046448\n",
      "accuracy_score:  0.111360239163\n"
     ]
    }
   ],
   "source": [
    "_time = time.time()\n",
    "clf = SVC()\n",
    "clf.fit(trainFeatures, trainCategory.argmax(axis=1))\n",
    "print('Fit time: ', time.time() - _time)\n",
    "predict = clf.predict(testFeatures)\n",
    "print('accuracy_score: ', accuracy_score(testCategory.argmax(axis=1), predict))"
   ]
  },
  {
   "cell_type": "code",
   "execution_count": 52,
   "metadata": {},
   "outputs": [
    {
     "name": "stdout",
     "output_type": "stream",
     "text": [
      "Fit time:  91.82887244224548\n",
      "accuracy_score:  0.674140508221\n"
     ]
    }
   ],
   "source": [
    "_time = time.time()\n",
    "clf = SVC(gamma=0.5)\n",
    "clf.fit(trainFeatures, trainCategory.argmax(axis=1))\n",
    "print('Fit time: ', time.time() - _time)\n",
    "predict = clf.predict(testFeatures)\n",
    "print('accuracy_score: ', accuracy_score(testCategory.argmax(axis=1), predict))"
   ]
  },
  {
   "cell_type": "markdown",
   "metadata": {},
   "source": [
    "### Multi class"
   ]
  },
  {
   "cell_type": "code",
   "execution_count": 11,
   "metadata": {},
   "outputs": [
    {
     "name": "stdout",
     "output_type": "stream",
     "text": [
      "Fit time:  83.77743864059448\n"
     ]
    }
   ],
   "source": [
    "_time = time.time()\n",
    "clf = OneVsRestClassifier(LogisticRegression(C=1e9), n_jobs=5)\n",
    "clf.fit(trainFeatures, trainCategory)\n",
    "print('Fit time: ', time.time() - _time)"
   ]
  },
  {
   "cell_type": "code",
   "execution_count": 12,
   "metadata": {
    "collapsed": true
   },
   "outputs": [],
   "source": [
    "predict = clf.predict(testFeatures)"
   ]
  },
  {
   "cell_type": "code",
   "execution_count": 40,
   "metadata": {},
   "outputs": [
    {
     "data": {
      "text/plain": [
       "274"
      ]
     },
     "execution_count": 40,
     "metadata": {},
     "output_type": "execute_result"
    }
   ],
   "source": [
    "sum(testCategory.sum(axis=1) > 1) + sum(trainCategory.sum(axis=1) > 1)"
   ]
  },
  {
   "cell_type": "code",
   "execution_count": 47,
   "metadata": {
    "collapsed": true
   },
   "outputs": [],
   "source": [
    "pr = predict[testCategory.sum(axis=1) == 1]\n",
    "ts = testCategory[testCategory.sum(axis=1) == 1]\n",
    "ans = testUrls[testCategory.sum(axis=1) == 1]"
   ]
  },
  {
   "cell_type": "code",
   "execution_count": 57,
   "metadata": {},
   "outputs": [
    {
     "data": {
      "text/plain": [
       "array([False, False,  True, False,  True, False, False, False, False,\n",
       "       False, False, False, False, False, False, False, False, False,\n",
       "       False, False, False, False, False, False, False, False, False,\n",
       "       False, False, False, False, False, False, False, False, False,\n",
       "       False, False, False, False, False, False, False, False, False,\n",
       "       False, False, False], dtype=bool)"
      ]
     },
     "execution_count": 57,
     "metadata": {},
     "output_type": "execute_result"
    }
   ],
   "source": [
    "pr[pr.sum(axis=1) > 1][0] == 1"
   ]
  },
  {
   "cell_type": "code",
   "execution_count": 48,
   "metadata": {},
   "outputs": [
    {
     "data": {
      "text/plain": [
       "array(['crisscross.at.ua', 'craftsoap.ru', 'teatrbilet.ru',\n",
       "       'art-tvorchestvo.spb.ru', 'vdk.colornumbers.ru', 'brrc.ru',\n",
       "       'technohobby66.ru', 'rostovopera.ru', 'my-basket.ru',\n",
       "       'room-cafe.ru', 'astrokammerton.mybb.ru', 'schema.wwwreferats.net',\n",
       "       'markshtadt74.ru', 'udmurt.media', 'ticketmix.ru', 'ufa.biglion.ru',\n",
       "       'tourlib.net', 'msk-bilet.ru', 'biletservis.ru', 'bravo.ru',\n",
       "       'questhunt.ru', 'strazek.ru', 'vedicsoft.ru', 'ra6foo.qrz.ru',\n",
       "       'rc-go.by', 'kids-in-trips.ru', 'magnumshop.net',\n",
       "       'live-football.ru', 'kartinka74.ru', 'rc-x.ru',\n",
       "       'jazz-cafe.tomsk.ru', 'ytka.ru', 'other.nnm.me', 'webclubnicka.ru',\n",
       "       'sim-sim.ru', 'nk1.ru', 'radioair.ru', 'bg.ru',\n",
       "       'xn--b1acdcqi5ci.xn--p1ai', 'quadrozone.ru'], dtype=object)"
      ]
     },
     "execution_count": 48,
     "metadata": {},
     "output_type": "execute_result"
    }
   ],
   "source": [
    "ans[pr.sum(axis=1) > 1]"
   ]
  },
  {
   "cell_type": "code",
   "execution_count": 34,
   "metadata": {
    "collapsed": true
   },
   "outputs": [],
   "source": [
    "p2 = pr[pr.sum(axis=1) != 0]\n",
    "t2 = ts[pr.sum(axis=1) != 0]"
   ]
  },
  {
   "cell_type": "code",
   "execution_count": 37,
   "metadata": {
    "collapsed": true
   },
   "outputs": [
    {
     "name": "stdout",
     "output_type": "stream",
     "text": [
      "2 0.0\n",
      "2 1.0\n",
      "2 0.5\n",
      "2 1.0\n",
      "5 0.333333333333\n",
      "2 1.0\n",
      "2 1.0\n",
      "2 0.666666666667\n",
      "2 0.0\n",
      "2 1.0\n",
      "2 1.0\n",
      "2 1.0\n",
      "2 0.0\n",
      "2 0.666666666667\n",
      "3 1.0\n",
      "2 1.0\n",
      "2 1.0\n",
      "6 0.5\n",
      "2 1.0\n",
      "2 1.0\n",
      "2 1.0\n",
      "7 0.25\n",
      "9 0.2\n",
      "2 0.666666666667\n",
      "4 0.4\n",
      "2 0.666666666667\n",
      "2 1.0\n",
      "2 1.0\n",
      "2 0.666666666667\n",
      "2 0.666666666667\n",
      "2 1.0\n",
      "2 0.0\n",
      "2 0.666666666667\n",
      "2 1.0\n",
      "2 1.0\n",
      "2 1.0\n",
      "2 1.0\n",
      "0.725675675676\n"
     ]
    }
   ],
   "source": [
    "ans = 0\n",
    "for i in range(p2.shape[0]):\n",
    "    print(sum(t2[i]), f1_score(t2[i], p2[i]))\n",
    "    ans += f1_score(t2[i], p2[i])\n",
    "ans /= p2.shape[0]\n",
    "print(ans)"
   ]
  },
  {
   "cell_type": "code",
   "execution_count": 23,
   "metadata": {},
   "outputs": [
    {
     "name": "stderr",
     "output_type": "stream",
     "text": [
      "/home/adil/.pyenv/versions/3.6.1/envs/python3/lib/python3.6/site-packages/sklearn/metrics/classification.py:1113: UndefinedMetricWarning: F-score is ill-defined and being set to 0.0 due to no predicted samples.\n",
      "  'precision', 'predicted', average, warn_for)\n"
     ]
    },
    {
     "name": "stdout",
     "output_type": "stream",
     "text": [
      "0.592314399601\n"
     ]
    }
   ],
   "source": [
    "ans = 0\n",
    "for i in range(predict.shape[0]):\n",
    "    ans += f1_score(testCategory[i], predict[i])\n",
    "ans /= predict.shape[0]\n",
    "print(ans)"
   ]
  },
  {
   "cell_type": "code",
   "execution_count": 42,
   "metadata": {},
   "outputs": [
    {
     "name": "stderr",
     "output_type": "stream",
     "text": [
      "/home/adil/.pyenv/versions/3.6.1/envs/python3/lib/python3.6/site-packages/sklearn/metrics/classification.py:1113: UndefinedMetricWarning: F-score is ill-defined and being set to 0.0 due to no predicted samples.\n",
      "  'precision', 'predicted', average, warn_for)\n"
     ]
    },
    {
     "name": "stdout",
     "output_type": "stream",
     "text": [
      "0.01 0.656102806843\n",
      "0.02 0.650074127808\n",
      "0.03 0.646361598043\n",
      "0.04 0.644933803118\n",
      "0.05 0.641919353691\n",
      "0.06 0.639948977281\n",
      "0.07 0.636760138218\n",
      "0.08 0.63528672374\n",
      "0.09 0.630129773067\n",
      "0.1 0.629606604158\n"
     ]
    }
   ],
   "source": [
    "predict = clf.predict_proba(testFeatures)\n",
    "mas = [0.01, 0.02, 0.03, 0.04, 0.05, 0.06, 0.07, 0.08, 0.09, 0.1]\n",
    "for j in range(len(mas)):\n",
    "    pred = np.zeros(predict.shape)\n",
    "    pred[predict >= mas[j]] = 1\n",
    "\n",
    "    ans = 0\n",
    "    for i in range(predict.shape[0]):\n",
    "        ans += f1_score(testCategory[i], pred[i])\n",
    "    ans /= predict.shape[0]\n",
    "    print(mas[j], ans)"
   ]
  },
  {
   "cell_type": "code",
   "execution_count": 11,
   "metadata": {
    "collapsed": true
   },
   "outputs": [],
   "source": [
    "from sklearn.model_selection import GridSearchCV\n",
    "from sklearn.metrics import f1_score, make_scorer"
   ]
  },
  {
   "cell_type": "code",
   "execution_count": 18,
   "metadata": {},
   "outputs": [
    {
     "data": {
      "text/plain": [
       "({'estimator__C': array([  1.00000000e+00,   1.00000000e+03,   1.00000000e+06,\n",
       "           1.00000000e+09,   1.00000000e+12])},)"
      ]
     },
     "execution_count": 18,
     "metadata": {},
     "output_type": "execute_result"
    }
   ],
   "source": [
    "params"
   ]
  },
  {
   "cell_type": "code",
   "execution_count": 13,
   "metadata": {
    "collapsed": true
   },
   "outputs": [],
   "source": [
    "def plot_grid_searcher_results(grid_seacher, log_scale):\n",
    "    means = list()\n",
    "    param_values = list()\n",
    "\n",
    "    for score in grid_searcher.grid_scores_:\n",
    "        print(score.cv_validation_scores)\n",
    "        means.append(score.mean_validation_score)\n",
    "        param_values.append(list(score.parameters.values())[0])\n",
    "\n",
    "    parameter_name = list(grid_searcher.grid_scores_[0].parameters.keys())[0]\n",
    "    means = np.array(means)\n",
    "    \n",
    "    plt.plot(param_values, means)\n",
    "    if log_scale:\n",
    "        plt.xscale('log')\n",
    "    plt.xlabel(parameter_name)\n",
    "    plt.ylabel('Quality')"
   ]
  },
  {
   "cell_type": "code",
   "execution_count": 14,
   "metadata": {
    "collapsed": true
   },
   "outputs": [],
   "source": [
    "import matplotlib.pyplot as plt\n",
    "plt.rcParams[\"figure.figsize\"] = (20, 10)\n",
    "%matplotlib inline"
   ]
  },
  {
   "cell_type": "code",
   "execution_count": 32,
   "metadata": {
    "collapsed": true
   },
   "outputs": [
    {
     "name": "stderr",
     "output_type": "stream",
     "text": [
      "/home/adil/.pyenv/versions/3.6.1/envs/python3/lib/python3.6/site-packages/sklearn/metrics/classification.py:1113: UndefinedMetricWarning: F-score is ill-defined and being set to 0.0 in samples with no predicted labels.\n",
      "  'precision', 'predicted', average, warn_for)\n",
      "/home/adil/.pyenv/versions/3.6.1/envs/python3/lib/python3.6/site-packages/sklearn/metrics/classification.py:1113: UndefinedMetricWarning: F-score is ill-defined and being set to 0.0 in samples with no predicted labels.\n",
      "  'precision', 'predicted', average, warn_for)\n",
      "/home/adil/.pyenv/versions/3.6.1/envs/python3/lib/python3.6/site-packages/sklearn/metrics/classification.py:1113: UndefinedMetricWarning: F-score is ill-defined and being set to 0.0 in samples with no predicted labels.\n",
      "  'precision', 'predicted', average, warn_for)\n",
      "/home/adil/.pyenv/versions/3.6.1/envs/python3/lib/python3.6/site-packages/sklearn/metrics/classification.py:1113: UndefinedMetricWarning: F-score is ill-defined and being set to 0.0 in samples with no predicted labels.\n",
      "  'precision', 'predicted', average, warn_for)\n",
      "/home/adil/.pyenv/versions/3.6.1/envs/python3/lib/python3.6/site-packages/sklearn/metrics/classification.py:1113: UndefinedMetricWarning: F-score is ill-defined and being set to 0.0 in samples with no predicted labels.\n",
      "  'precision', 'predicted', average, warn_for)\n",
      "/home/adil/.pyenv/versions/3.6.1/envs/python3/lib/python3.6/site-packages/sklearn/metrics/classification.py:1113: UndefinedMetricWarning: F-score is ill-defined and being set to 0.0 in samples with no predicted labels.\n",
      "  'precision', 'predicted', average, warn_for)\n",
      "/home/adil/.pyenv/versions/3.6.1/envs/python3/lib/python3.6/site-packages/sklearn/metrics/classification.py:1113: UndefinedMetricWarning: F-score is ill-defined and being set to 0.0 in samples with no predicted labels.\n",
      "  'precision', 'predicted', average, warn_for)\n",
      "/home/adil/.pyenv/versions/3.6.1/envs/python3/lib/python3.6/site-packages/sklearn/metrics/classification.py:1113: UndefinedMetricWarning: F-score is ill-defined and being set to 0.0 in samples with no predicted labels.\n",
      "  'precision', 'predicted', average, warn_for)\n",
      "/home/adil/.pyenv/versions/3.6.1/envs/python3/lib/python3.6/site-packages/sklearn/metrics/classification.py:1113: UndefinedMetricWarning: F-score is ill-defined and being set to 0.0 in samples with no predicted labels.\n",
      "  'precision', 'predicted', average, warn_for)\n",
      "/home/adil/.pyenv/versions/3.6.1/envs/python3/lib/python3.6/site-packages/sklearn/metrics/classification.py:1113: UndefinedMetricWarning: F-score is ill-defined and being set to 0.0 in samples with no predicted labels.\n",
      "  'precision', 'predicted', average, warn_for)\n",
      "/home/adil/.pyenv/versions/3.6.1/envs/python3/lib/python3.6/site-packages/sklearn/metrics/classification.py:1113: UndefinedMetricWarning: F-score is ill-defined and being set to 0.0 in samples with no predicted labels.\n",
      "  'precision', 'predicted', average, warn_for)\n",
      "/home/adil/.pyenv/versions/3.6.1/envs/python3/lib/python3.6/site-packages/sklearn/metrics/classification.py:1113: UndefinedMetricWarning: F-score is ill-defined and being set to 0.0 in samples with no predicted labels.\n",
      "  'precision', 'predicted', average, warn_for)\n",
      "/home/adil/.pyenv/versions/3.6.1/envs/python3/lib/python3.6/site-packages/sklearn/metrics/classification.py:1113: UndefinedMetricWarning: F-score is ill-defined and being set to 0.0 in samples with no predicted labels.\n",
      "  'precision', 'predicted', average, warn_for)\n",
      "/home/adil/.pyenv/versions/3.6.1/envs/python3/lib/python3.6/site-packages/sklearn/metrics/classification.py:1113: UndefinedMetricWarning: F-score is ill-defined and being set to 0.0 in samples with no predicted labels.\n",
      "  'precision', 'predicted', average, warn_for)\n",
      "/home/adil/.pyenv/versions/3.6.1/envs/python3/lib/python3.6/site-packages/sklearn/metrics/classification.py:1113: UndefinedMetricWarning: F-score is ill-defined and being set to 0.0 in samples with no predicted labels.\n",
      "  'precision', 'predicted', average, warn_for)\n",
      "/home/adil/.pyenv/versions/3.6.1/envs/python3/lib/python3.6/site-packages/sklearn/metrics/classification.py:1113: UndefinedMetricWarning: F-score is ill-defined and being set to 0.0 in samples with no predicted labels.\n",
      "  'precision', 'predicted', average, warn_for)\n",
      "/home/adil/.pyenv/versions/3.6.1/envs/python3/lib/python3.6/site-packages/sklearn/metrics/classification.py:1113: UndefinedMetricWarning: F-score is ill-defined and being set to 0.0 in samples with no predicted labels.\n",
      "  'precision', 'predicted', average, warn_for)\n",
      "/home/adil/.pyenv/versions/3.6.1/envs/python3/lib/python3.6/site-packages/sklearn/metrics/classification.py:1113: UndefinedMetricWarning: F-score is ill-defined and being set to 0.0 in samples with no predicted labels.\n",
      "  'precision', 'predicted', average, warn_for)\n",
      "/home/adil/.pyenv/versions/3.6.1/envs/python3/lib/python3.6/site-packages/sklearn/metrics/classification.py:1113: UndefinedMetricWarning: F-score is ill-defined and being set to 0.0 in samples with no predicted labels.\n",
      "  'precision', 'predicted', average, warn_for)\n",
      "/home/adil/.pyenv/versions/3.6.1/envs/python3/lib/python3.6/site-packages/sklearn/metrics/classification.py:1113: UndefinedMetricWarning: F-score is ill-defined and being set to 0.0 in samples with no predicted labels.\n",
      "  'precision', 'predicted', average, warn_for)\n",
      "/home/adil/.pyenv/versions/3.6.1/envs/python3/lib/python3.6/site-packages/sklearn/metrics/classification.py:1113: UndefinedMetricWarning: F-score is ill-defined and being set to 0.0 in samples with no predicted labels.\n",
      "  'precision', 'predicted', average, warn_for)\n",
      "/home/adil/.pyenv/versions/3.6.1/envs/python3/lib/python3.6/site-packages/sklearn/metrics/classification.py:1113: UndefinedMetricWarning: F-score is ill-defined and being set to 0.0 in samples with no predicted labels.\n",
      "  'precision', 'predicted', average, warn_for)\n",
      "/home/adil/.pyenv/versions/3.6.1/envs/python3/lib/python3.6/site-packages/sklearn/metrics/classification.py:1113: UndefinedMetricWarning: F-score is ill-defined and being set to 0.0 in samples with no predicted labels.\n",
      "  'precision', 'predicted', average, warn_for)\n",
      "/home/adil/.pyenv/versions/3.6.1/envs/python3/lib/python3.6/site-packages/sklearn/metrics/classification.py:1113: UndefinedMetricWarning: F-score is ill-defined and being set to 0.0 in samples with no predicted labels.\n",
      "  'precision', 'predicted', average, warn_for)\n",
      "/home/adil/.pyenv/versions/3.6.1/envs/python3/lib/python3.6/site-packages/sklearn/metrics/classification.py:1113: UndefinedMetricWarning: F-score is ill-defined and being set to 0.0 in samples with no predicted labels.\n",
      "  'precision', 'predicted', average, warn_for)\n",
      "/home/adil/.pyenv/versions/3.6.1/envs/python3/lib/python3.6/site-packages/sklearn/metrics/classification.py:1113: UndefinedMetricWarning: F-score is ill-defined and being set to 0.0 in samples with no predicted labels.\n",
      "  'precision', 'predicted', average, warn_for)\n",
      "/home/adil/.pyenv/versions/3.6.1/envs/python3/lib/python3.6/site-packages/sklearn/metrics/classification.py:1113: UndefinedMetricWarning: F-score is ill-defined and being set to 0.0 in samples with no predicted labels.\n",
      "  'precision', 'predicted', average, warn_for)\n",
      "/home/adil/.pyenv/versions/3.6.1/envs/python3/lib/python3.6/site-packages/sklearn/metrics/classification.py:1113: UndefinedMetricWarning: F-score is ill-defined and being set to 0.0 in samples with no predicted labels.\n",
      "  'precision', 'predicted', average, warn_for)\n",
      "/home/adil/.pyenv/versions/3.6.1/envs/python3/lib/python3.6/site-packages/sklearn/metrics/classification.py:1113: UndefinedMetricWarning: F-score is ill-defined and being set to 0.0 in samples with no predicted labels.\n",
      "  'precision', 'predicted', average, warn_for)\n",
      "/home/adil/.pyenv/versions/3.6.1/envs/python3/lib/python3.6/site-packages/sklearn/metrics/classification.py:1113: UndefinedMetricWarning: F-score is ill-defined and being set to 0.0 in samples with no predicted labels.\n",
      "  'precision', 'predicted', average, warn_for)\n",
      "/home/adil/.pyenv/versions/3.6.1/envs/python3/lib/python3.6/site-packages/sklearn/metrics/classification.py:1113: UndefinedMetricWarning: F-score is ill-defined and being set to 0.0 in samples with no predicted labels.\n",
      "  'precision', 'predicted', average, warn_for)\n"
     ]
    },
    {
     "name": "stderr",
     "output_type": "stream",
     "text": [
      "/home/adil/.pyenv/versions/3.6.1/envs/python3/lib/python3.6/site-packages/sklearn/metrics/classification.py:1113: UndefinedMetricWarning: F-score is ill-defined and being set to 0.0 in samples with no predicted labels.\n",
      "  'precision', 'predicted', average, warn_for)\n",
      "/home/adil/.pyenv/versions/3.6.1/envs/python3/lib/python3.6/site-packages/sklearn/metrics/classification.py:1113: UndefinedMetricWarning: F-score is ill-defined and being set to 0.0 in samples with no predicted labels.\n",
      "  'precision', 'predicted', average, warn_for)\n",
      "/home/adil/.pyenv/versions/3.6.1/envs/python3/lib/python3.6/site-packages/sklearn/metrics/classification.py:1113: UndefinedMetricWarning: F-score is ill-defined and being set to 0.0 in samples with no predicted labels.\n",
      "  'precision', 'predicted', average, warn_for)\n",
      "/home/adil/.pyenv/versions/3.6.1/envs/python3/lib/python3.6/site-packages/sklearn/metrics/classification.py:1113: UndefinedMetricWarning: F-score is ill-defined and being set to 0.0 in samples with no predicted labels.\n",
      "  'precision', 'predicted', average, warn_for)\n",
      "/home/adil/.pyenv/versions/3.6.1/envs/python3/lib/python3.6/site-packages/sklearn/metrics/classification.py:1113: UndefinedMetricWarning: F-score is ill-defined and being set to 0.0 in samples with no predicted labels.\n",
      "  'precision', 'predicted', average, warn_for)\n",
      "/home/adil/.pyenv/versions/3.6.1/envs/python3/lib/python3.6/site-packages/sklearn/metrics/classification.py:1113: UndefinedMetricWarning: F-score is ill-defined and being set to 0.0 in samples with no predicted labels.\n",
      "  'precision', 'predicted', average, warn_for)\n",
      "/home/adil/.pyenv/versions/3.6.1/envs/python3/lib/python3.6/site-packages/sklearn/metrics/classification.py:1113: UndefinedMetricWarning: F-score is ill-defined and being set to 0.0 in samples with no predicted labels.\n",
      "  'precision', 'predicted', average, warn_for)\n",
      "/home/adil/.pyenv/versions/3.6.1/envs/python3/lib/python3.6/site-packages/sklearn/metrics/classification.py:1113: UndefinedMetricWarning: F-score is ill-defined and being set to 0.0 in samples with no predicted labels.\n",
      "  'precision', 'predicted', average, warn_for)\n",
      "/home/adil/.pyenv/versions/3.6.1/envs/python3/lib/python3.6/site-packages/sklearn/metrics/classification.py:1113: UndefinedMetricWarning: F-score is ill-defined and being set to 0.0 in samples with no predicted labels.\n",
      "  'precision', 'predicted', average, warn_for)\n",
      "/home/adil/.pyenv/versions/3.6.1/envs/python3/lib/python3.6/site-packages/sklearn/metrics/classification.py:1113: UndefinedMetricWarning: F-score is ill-defined and being set to 0.0 in samples with no predicted labels.\n",
      "  'precision', 'predicted', average, warn_for)\n",
      "/home/adil/.pyenv/versions/3.6.1/envs/python3/lib/python3.6/site-packages/sklearn/metrics/classification.py:1113: UndefinedMetricWarning: F-score is ill-defined and being set to 0.0 in samples with no predicted labels.\n",
      "  'precision', 'predicted', average, warn_for)\n",
      "/home/adil/.pyenv/versions/3.6.1/envs/python3/lib/python3.6/site-packages/sklearn/metrics/classification.py:1113: UndefinedMetricWarning: F-score is ill-defined and being set to 0.0 in samples with no predicted labels.\n",
      "  'precision', 'predicted', average, warn_for)\n",
      "/home/adil/.pyenv/versions/3.6.1/envs/python3/lib/python3.6/site-packages/sklearn/metrics/classification.py:1113: UndefinedMetricWarning: F-score is ill-defined and being set to 0.0 in samples with no predicted labels.\n",
      "  'precision', 'predicted', average, warn_for)\n",
      "/home/adil/.pyenv/versions/3.6.1/envs/python3/lib/python3.6/site-packages/sklearn/metrics/classification.py:1113: UndefinedMetricWarning: F-score is ill-defined and being set to 0.0 in samples with no predicted labels.\n",
      "  'precision', 'predicted', average, warn_for)\n",
      "/home/adil/.pyenv/versions/3.6.1/envs/python3/lib/python3.6/site-packages/sklearn/metrics/classification.py:1113: UndefinedMetricWarning: F-score is ill-defined and being set to 0.0 in samples with no predicted labels.\n",
      "  'precision', 'predicted', average, warn_for)\n",
      "/home/adil/.pyenv/versions/3.6.1/envs/python3/lib/python3.6/site-packages/sklearn/metrics/classification.py:1113: UndefinedMetricWarning: F-score is ill-defined and being set to 0.0 in samples with no predicted labels.\n",
      "  'precision', 'predicted', average, warn_for)\n",
      "/home/adil/.pyenv/versions/3.6.1/envs/python3/lib/python3.6/site-packages/sklearn/metrics/classification.py:1113: UndefinedMetricWarning: F-score is ill-defined and being set to 0.0 in samples with no predicted labels.\n",
      "  'precision', 'predicted', average, warn_for)\n",
      "/home/adil/.pyenv/versions/3.6.1/envs/python3/lib/python3.6/site-packages/sklearn/metrics/classification.py:1113: UndefinedMetricWarning: F-score is ill-defined and being set to 0.0 in samples with no predicted labels.\n",
      "  'precision', 'predicted', average, warn_for)\n",
      "/home/adil/.pyenv/versions/3.6.1/envs/python3/lib/python3.6/site-packages/sklearn/metrics/classification.py:1113: UndefinedMetricWarning: F-score is ill-defined and being set to 0.0 in samples with no predicted labels.\n",
      "  'precision', 'predicted', average, warn_for)\n"
     ]
    },
    {
     "data": {
      "text/plain": [
       "GridSearchCV(cv=5, error_score='raise',\n",
       "       estimator=OneVsRestClassifier(estimator=LogisticRegression(C=1.0, class_weight=None, dual=False, fit_intercept=True,\n",
       "          intercept_scaling=1, max_iter=100, multi_class='ovr', n_jobs=1,\n",
       "          penalty='l2', random_state=None, solver='liblinear', tol=0.0001,\n",
       "          verbose=0, warm_start=False),\n",
       "          n_jobs=1),\n",
       "       fit_params={}, iid=True, n_jobs=1,\n",
       "       param_grid=({'estimator__C': array([  1.00000e+05,   3.59381e+05,   1.29155e+06,   4.64159e+06,\n",
       "         1.66810e+07,   5.99484e+07,   2.15443e+08,   7.74264e+08,\n",
       "         2.78256e+09,   1.00000e+10])},),\n",
       "       pre_dispatch='2*n_jobs', refit=True, return_train_score=True,\n",
       "       scoring=make_scorer(f1_score, average=samples), verbose=0)"
      ]
     },
     "execution_count": 32,
     "metadata": {},
     "output_type": "execute_result"
    }
   ],
   "source": [
    "params = {'estimator__C': np.logspace(5, 10, 10)},\n",
    "\n",
    "clf = OneVsRestClassifier(LogisticRegression())\n",
    "\n",
    "grid_searcher = GridSearchCV(\n",
    "        clf,\n",
    "        params,\n",
    "        scoring=make_scorer(f1_score, average='samples'),\n",
    "        cv=5\n",
    ")\n",
    "\n",
    "grid_searcher.fit(trainFeatures, trainCategory)"
   ]
  },
  {
   "cell_type": "code",
   "execution_count": 35,
   "metadata": {},
   "outputs": [
    {
     "data": {
      "text/plain": [
       "({'estimator__C': array([  1.00000000e+05,   3.59381366e+05,   1.29154967e+06,\n",
       "           4.64158883e+06,   1.66810054e+07,   5.99484250e+07,\n",
       "           2.15443469e+08,   7.74263683e+08,   2.78255940e+09,\n",
       "           1.00000000e+10])},)"
      ]
     },
     "execution_count": 35,
     "metadata": {},
     "output_type": "execute_result"
    }
   ],
   "source": [
    "params"
   ]
  },
  {
   "cell_type": "code",
   "execution_count": 34,
   "metadata": {
    "collapsed": true
   },
   "outputs": [
    {
     "name": "stderr",
     "output_type": "stream",
     "text": [
      "/home/adil/.pyenv/versions/3.6.1/envs/python3/lib/python3.6/site-packages/sklearn/model_selection/_search.py:667: DeprecationWarning: The grid_scores_ attribute was deprecated in version 0.18 in favor of the more elaborate cv_results_ attribute. The grid_scores_ attribute will not be available from 0.20\n",
      "  DeprecationWarning)\n",
      "/home/adil/.pyenv/versions/3.6.1/envs/python3/lib/python3.6/site-packages/sklearn/model_selection/_search.py:667: DeprecationWarning: The grid_scores_ attribute was deprecated in version 0.18 in favor of the more elaborate cv_results_ attribute. The grid_scores_ attribute will not be available from 0.20\n",
      "  DeprecationWarning)\n"
     ]
    },
    {
     "name": "stdout",
     "output_type": "stream",
     "text": [
      "[ 0.56681205  0.57492212  0.57893488  0.56227414  0.54347575]\n",
      "[ 0.56553479  0.57398754  0.5780003   0.56492212  0.54627948]\n",
      "[ 0.56787124  0.57274143  0.57706572  0.56454829  0.54694704]\n",
      "[ 0.56787124  0.57679128  0.57675419  0.56548287  0.54507788]\n",
      "[ 0.56911734  0.57803738  0.57955793  0.56454829  0.54476636]\n",
      "[ 0.56849429  0.57492212  0.58018098  0.56454829  0.54783712]\n",
      "[ 0.56880582  0.57647975  0.57768877  0.5671028   0.54819315]\n",
      "[ 0.56911734  0.57429907  0.57862335  0.56454829  0.54725857]\n",
      "[ 0.56911734  0.57772586  0.57893488  0.56485981  0.54970628]\n",
      "[ 0.56974039  0.57647975  0.57675419  0.56548287  0.54725857]\n"
     ]
    },
    {
     "data": {
      "image/png": "[encoded data removed]",
      "text/plain": [
       "<matplotlib.figure.Figure at 0x7fb6ee591160>"
      ]
     },
     "metadata": {},
     "output_type": "display_data"
    }
   ],
   "source": [
    "plot_grid_searcher_results(grid_searcher, log_scale=True)"
   ]
  },
  {
   "cell_type": "code",
   "execution_count": 48,
   "metadata": {},
   "outputs": [
    {
     "ename": "KeyboardInterrupt",
     "evalue": "",
     "output_type": "error",
     "traceback": [
      "\u001b[0;31m---------------------------------------------------------------------------\u001b[0m",
      "\u001b[0;31mKeyboardInterrupt\u001b[0m                         Traceback (most recent call last)",
      "\u001b[0;32m<ipython-input-48-98f4ad28d0e6>\u001b[0m in \u001b[0;36m<module>\u001b[0;34m()\u001b[0m\n\u001b[1;32m      1\u001b[0m \u001b[0m_time\u001b[0m \u001b[0;34m=\u001b[0m \u001b[0mtime\u001b[0m\u001b[0;34m.\u001b[0m\u001b[0mtime\u001b[0m\u001b[0;34m(\u001b[0m\u001b[0;34m)\u001b[0m\u001b[0;34m\u001b[0m\u001b[0m\n\u001b[1;32m      2\u001b[0m \u001b[0mclf\u001b[0m \u001b[0;34m=\u001b[0m \u001b[0mOneVsRestClassifier\u001b[0m\u001b[0;34m(\u001b[0m\u001b[0mLinearRegression\u001b[0m\u001b[0;34m(\u001b[0m\u001b[0;34m)\u001b[0m\u001b[0;34m,\u001b[0m \u001b[0mn_jobs\u001b[0m\u001b[0;34m=\u001b[0m\u001b[0;36m6\u001b[0m\u001b[0;34m)\u001b[0m\u001b[0;34m\u001b[0m\u001b[0m\n\u001b[0;32m----> 3\u001b[0;31m \u001b[0mclf\u001b[0m\u001b[0;34m.\u001b[0m\u001b[0mfit\u001b[0m\u001b[0;34m(\u001b[0m\u001b[0mtrainFeatures\u001b[0m\u001b[0;34m,\u001b[0m \u001b[0mtrainCategory\u001b[0m\u001b[0;34m)\u001b[0m\u001b[0;34m\u001b[0m\u001b[0m\n\u001b[0m\u001b[1;32m      4\u001b[0m \u001b[0mprint\u001b[0m\u001b[0;34m(\u001b[0m\u001b[0;34m'Fit time: '\u001b[0m\u001b[0;34m,\u001b[0m \u001b[0mtime\u001b[0m\u001b[0;34m.\u001b[0m\u001b[0mtime\u001b[0m\u001b[0;34m(\u001b[0m\u001b[0;34m)\u001b[0m \u001b[0;34m-\u001b[0m \u001b[0m_time\u001b[0m\u001b[0;34m)\u001b[0m\u001b[0;34m\u001b[0m\u001b[0m\n",
      "\u001b[0;32m/home/adil/.pyenv/versions/3.6.1/envs/python3/lib/python3.6/site-packages/sklearn/multiclass.py\u001b[0m in \u001b[0;36mfit\u001b[0;34m(self, X, y)\u001b[0m\n\u001b[1;32m    214\u001b[0m                 \u001b[0;34m\"not %s\"\u001b[0m \u001b[0;34m%\u001b[0m \u001b[0mself\u001b[0m\u001b[0;34m.\u001b[0m\u001b[0mlabel_binarizer_\u001b[0m\u001b[0;34m.\u001b[0m\u001b[0mclasses_\u001b[0m\u001b[0;34m[\u001b[0m\u001b[0mi\u001b[0m\u001b[0;34m]\u001b[0m\u001b[0;34m,\u001b[0m\u001b[0;34m\u001b[0m\u001b[0m\n\u001b[1;32m    215\u001b[0m                 self.label_binarizer_.classes_[i]])\n\u001b[0;32m--> 216\u001b[0;31m             for i, column in enumerate(columns))\n\u001b[0m\u001b[1;32m    217\u001b[0m \u001b[0;34m\u001b[0m\u001b[0m\n\u001b[1;32m    218\u001b[0m         \u001b[0;32mreturn\u001b[0m \u001b[0mself\u001b[0m\u001b[0;34m\u001b[0m\u001b[0m\n",
      "\u001b[0;32m/home/adil/.pyenv/versions/3.6.1/envs/python3/lib/python3.6/site-packages/sklearn/externals/joblib/parallel.py\u001b[0m in \u001b[0;36m__call__\u001b[0;34m(self, iterable)\u001b[0m\n\u001b[1;32m    766\u001b[0m                 \u001b[0;31m# consumption.\u001b[0m\u001b[0;34m\u001b[0m\u001b[0;34m\u001b[0m\u001b[0m\n\u001b[1;32m    767\u001b[0m                 \u001b[0mself\u001b[0m\u001b[0;34m.\u001b[0m\u001b[0m_iterating\u001b[0m \u001b[0;34m=\u001b[0m \u001b[0;32mFalse\u001b[0m\u001b[0;34m\u001b[0m\u001b[0m\n\u001b[0;32m--> 768\u001b[0;31m             \u001b[0mself\u001b[0m\u001b[0;34m.\u001b[0m\u001b[0mretrieve\u001b[0m\u001b[0;34m(\u001b[0m\u001b[0;34m)\u001b[0m\u001b[0;34m\u001b[0m\u001b[0m\n\u001b[0m\u001b[1;32m    769\u001b[0m             \u001b[0;31m# Make sure that we get a last message telling us we are done\u001b[0m\u001b[0;34m\u001b[0m\u001b[0;34m\u001b[0m\u001b[0m\n\u001b[1;32m    770\u001b[0m             \u001b[0melapsed_time\u001b[0m \u001b[0;34m=\u001b[0m \u001b[0mtime\u001b[0m\u001b[0;34m.\u001b[0m\u001b[0mtime\u001b[0m\u001b[0;34m(\u001b[0m\u001b[0;34m)\u001b[0m \u001b[0;34m-\u001b[0m \u001b[0mself\u001b[0m\u001b[0;34m.\u001b[0m\u001b[0m_start_time\u001b[0m\u001b[0;34m\u001b[0m\u001b[0m\n",
      "\u001b[0;32m/home/adil/.pyenv/versions/3.6.1/envs/python3/lib/python3.6/site-packages/sklearn/externals/joblib/parallel.py\u001b[0m in \u001b[0;36mretrieve\u001b[0;34m(self)\u001b[0m\n\u001b[1;32m    717\u001b[0m                     \u001b[0mensure_ready\u001b[0m \u001b[0;34m=\u001b[0m \u001b[0mself\u001b[0m\u001b[0;34m.\u001b[0m\u001b[0m_managed_backend\u001b[0m\u001b[0;34m\u001b[0m\u001b[0m\n\u001b[1;32m    718\u001b[0m                     \u001b[0mbackend\u001b[0m\u001b[0;34m.\u001b[0m\u001b[0mabort_everything\u001b[0m\u001b[0;34m(\u001b[0m\u001b[0mensure_ready\u001b[0m\u001b[0;34m=\u001b[0m\u001b[0mensure_ready\u001b[0m\u001b[0;34m)\u001b[0m\u001b[0;34m\u001b[0m\u001b[0m\n\u001b[0;32m--> 719\u001b[0;31m                 \u001b[0;32mraise\u001b[0m \u001b[0mexception\u001b[0m\u001b[0;34m\u001b[0m\u001b[0m\n\u001b[0m\u001b[1;32m    720\u001b[0m \u001b[0;34m\u001b[0m\u001b[0m\n\u001b[1;32m    721\u001b[0m     \u001b[0;32mdef\u001b[0m \u001b[0m__call__\u001b[0m\u001b[0;34m(\u001b[0m\u001b[0mself\u001b[0m\u001b[0;34m,\u001b[0m \u001b[0miterable\u001b[0m\u001b[0;34m)\u001b[0m\u001b[0;34m:\u001b[0m\u001b[0;34m\u001b[0m\u001b[0m\n",
      "\u001b[0;32m/home/adil/.pyenv/versions/3.6.1/envs/python3/lib/python3.6/site-packages/sklearn/externals/joblib/parallel.py\u001b[0m in \u001b[0;36mretrieve\u001b[0;34m(self)\u001b[0m\n\u001b[1;32m    680\u001b[0m                 \u001b[0;31m# check if timeout supported in backend future implementation\u001b[0m\u001b[0;34m\u001b[0m\u001b[0;34m\u001b[0m\u001b[0m\n\u001b[1;32m    681\u001b[0m                 \u001b[0;32mif\u001b[0m \u001b[0;34m'timeout'\u001b[0m \u001b[0;32min\u001b[0m \u001b[0mgetfullargspec\u001b[0m\u001b[0;34m(\u001b[0m\u001b[0mjob\u001b[0m\u001b[0;34m.\u001b[0m\u001b[0mget\u001b[0m\u001b[0;34m)\u001b[0m\u001b[0;34m.\u001b[0m\u001b[0margs\u001b[0m\u001b[0;34m:\u001b[0m\u001b[0;34m\u001b[0m\u001b[0m\n\u001b[0;32m--> 682\u001b[0;31m                     \u001b[0mself\u001b[0m\u001b[0;34m.\u001b[0m\u001b[0m_output\u001b[0m\u001b[0;34m.\u001b[0m\u001b[0mextend\u001b[0m\u001b[0;34m(\u001b[0m\u001b[0mjob\u001b[0m\u001b[0;34m.\u001b[0m\u001b[0mget\u001b[0m\u001b[0;34m(\u001b[0m\u001b[0mtimeout\u001b[0m\u001b[0;34m=\u001b[0m\u001b[0mself\u001b[0m\u001b[0;34m.\u001b[0m\u001b[0mtimeout\u001b[0m\u001b[0;34m)\u001b[0m\u001b[0;34m)\u001b[0m\u001b[0;34m\u001b[0m\u001b[0m\n\u001b[0m\u001b[1;32m    683\u001b[0m                 \u001b[0;32melse\u001b[0m\u001b[0;34m:\u001b[0m\u001b[0;34m\u001b[0m\u001b[0m\n\u001b[1;32m    684\u001b[0m                     \u001b[0mself\u001b[0m\u001b[0;34m.\u001b[0m\u001b[0m_output\u001b[0m\u001b[0;34m.\u001b[0m\u001b[0mextend\u001b[0m\u001b[0;34m(\u001b[0m\u001b[0mjob\u001b[0m\u001b[0;34m.\u001b[0m\u001b[0mget\u001b[0m\u001b[0;34m(\u001b[0m\u001b[0;34m)\u001b[0m\u001b[0;34m)\u001b[0m\u001b[0;34m\u001b[0m\u001b[0m\n",
      "\u001b[0;32m/home/adil/.pyenv/versions/3.6.1/lib/python3.6/multiprocessing/pool.py\u001b[0m in \u001b[0;36mget\u001b[0;34m(self, timeout)\u001b[0m\n\u001b[1;32m    600\u001b[0m \u001b[0;34m\u001b[0m\u001b[0m\n\u001b[1;32m    601\u001b[0m     \u001b[0;32mdef\u001b[0m \u001b[0mget\u001b[0m\u001b[0;34m(\u001b[0m\u001b[0mself\u001b[0m\u001b[0;34m,\u001b[0m \u001b[0mtimeout\u001b[0m\u001b[0;34m=\u001b[0m\u001b[0;32mNone\u001b[0m\u001b[0;34m)\u001b[0m\u001b[0;34m:\u001b[0m\u001b[0;34m\u001b[0m\u001b[0m\n\u001b[0;32m--> 602\u001b[0;31m         \u001b[0mself\u001b[0m\u001b[0;34m.\u001b[0m\u001b[0mwait\u001b[0m\u001b[0;34m(\u001b[0m\u001b[0mtimeout\u001b[0m\u001b[0;34m)\u001b[0m\u001b[0;34m\u001b[0m\u001b[0m\n\u001b[0m\u001b[1;32m    603\u001b[0m         \u001b[0;32mif\u001b[0m \u001b[0;32mnot\u001b[0m \u001b[0mself\u001b[0m\u001b[0;34m.\u001b[0m\u001b[0mready\u001b[0m\u001b[0;34m(\u001b[0m\u001b[0;34m)\u001b[0m\u001b[0;34m:\u001b[0m\u001b[0;34m\u001b[0m\u001b[0m\n\u001b[1;32m    604\u001b[0m             \u001b[0;32mraise\u001b[0m \u001b[0mTimeoutError\u001b[0m\u001b[0;34m\u001b[0m\u001b[0m\n",
      "\u001b[0;32m/home/adil/.pyenv/versions/3.6.1/lib/python3.6/multiprocessing/pool.py\u001b[0m in \u001b[0;36mwait\u001b[0;34m(self, timeout)\u001b[0m\n\u001b[1;32m    597\u001b[0m \u001b[0;34m\u001b[0m\u001b[0m\n\u001b[1;32m    598\u001b[0m     \u001b[0;32mdef\u001b[0m \u001b[0mwait\u001b[0m\u001b[0;34m(\u001b[0m\u001b[0mself\u001b[0m\u001b[0;34m,\u001b[0m \u001b[0mtimeout\u001b[0m\u001b[0;34m=\u001b[0m\u001b[0;32mNone\u001b[0m\u001b[0;34m)\u001b[0m\u001b[0;34m:\u001b[0m\u001b[0;34m\u001b[0m\u001b[0m\n\u001b[0;32m--> 599\u001b[0;31m         \u001b[0mself\u001b[0m\u001b[0;34m.\u001b[0m\u001b[0m_event\u001b[0m\u001b[0;34m.\u001b[0m\u001b[0mwait\u001b[0m\u001b[0;34m(\u001b[0m\u001b[0mtimeout\u001b[0m\u001b[0;34m)\u001b[0m\u001b[0;34m\u001b[0m\u001b[0m\n\u001b[0m\u001b[1;32m    600\u001b[0m \u001b[0;34m\u001b[0m\u001b[0m\n\u001b[1;32m    601\u001b[0m     \u001b[0;32mdef\u001b[0m \u001b[0mget\u001b[0m\u001b[0;34m(\u001b[0m\u001b[0mself\u001b[0m\u001b[0;34m,\u001b[0m \u001b[0mtimeout\u001b[0m\u001b[0;34m=\u001b[0m\u001b[0;32mNone\u001b[0m\u001b[0;34m)\u001b[0m\u001b[0;34m:\u001b[0m\u001b[0;34m\u001b[0m\u001b[0m\n",
      "\u001b[0;32m/home/adil/.pyenv/versions/3.6.1/lib/python3.6/threading.py\u001b[0m in \u001b[0;36mwait\u001b[0;34m(self, timeout)\u001b[0m\n\u001b[1;32m    549\u001b[0m             \u001b[0msignaled\u001b[0m \u001b[0;34m=\u001b[0m \u001b[0mself\u001b[0m\u001b[0;34m.\u001b[0m\u001b[0m_flag\u001b[0m\u001b[0;34m\u001b[0m\u001b[0m\n\u001b[1;32m    550\u001b[0m             \u001b[0;32mif\u001b[0m \u001b[0;32mnot\u001b[0m \u001b[0msignaled\u001b[0m\u001b[0;34m:\u001b[0m\u001b[0;34m\u001b[0m\u001b[0m\n\u001b[0;32m--> 551\u001b[0;31m                 \u001b[0msignaled\u001b[0m \u001b[0;34m=\u001b[0m \u001b[0mself\u001b[0m\u001b[0;34m.\u001b[0m\u001b[0m_cond\u001b[0m\u001b[0;34m.\u001b[0m\u001b[0mwait\u001b[0m\u001b[0;34m(\u001b[0m\u001b[0mtimeout\u001b[0m\u001b[0;34m)\u001b[0m\u001b[0;34m\u001b[0m\u001b[0m\n\u001b[0m\u001b[1;32m    552\u001b[0m             \u001b[0;32mreturn\u001b[0m \u001b[0msignaled\u001b[0m\u001b[0;34m\u001b[0m\u001b[0m\n\u001b[1;32m    553\u001b[0m \u001b[0;34m\u001b[0m\u001b[0m\n",
      "\u001b[0;32m/home/adil/.pyenv/versions/3.6.1/lib/python3.6/threading.py\u001b[0m in \u001b[0;36mwait\u001b[0;34m(self, timeout)\u001b[0m\n\u001b[1;32m    293\u001b[0m         \u001b[0;32mtry\u001b[0m\u001b[0;34m:\u001b[0m    \u001b[0;31m# restore state no matter what (e.g., KeyboardInterrupt)\u001b[0m\u001b[0;34m\u001b[0m\u001b[0m\n\u001b[1;32m    294\u001b[0m             \u001b[0;32mif\u001b[0m \u001b[0mtimeout\u001b[0m \u001b[0;32mis\u001b[0m \u001b[0;32mNone\u001b[0m\u001b[0;34m:\u001b[0m\u001b[0;34m\u001b[0m\u001b[0m\n\u001b[0;32m--> 295\u001b[0;31m                 \u001b[0mwaiter\u001b[0m\u001b[0;34m.\u001b[0m\u001b[0macquire\u001b[0m\u001b[0;34m(\u001b[0m\u001b[0;34m)\u001b[0m\u001b[0;34m\u001b[0m\u001b[0m\n\u001b[0m\u001b[1;32m    296\u001b[0m                 \u001b[0mgotit\u001b[0m \u001b[0;34m=\u001b[0m \u001b[0;32mTrue\u001b[0m\u001b[0;34m\u001b[0m\u001b[0m\n\u001b[1;32m    297\u001b[0m             \u001b[0;32melse\u001b[0m\u001b[0;34m:\u001b[0m\u001b[0;34m\u001b[0m\u001b[0m\n",
      "\u001b[0;31mKeyboardInterrupt\u001b[0m: "
     ]
    }
   ],
   "source": [
    "_time = time.time()\n",
    "clf = OneVsRestClassifier(LinearRegression(), n_jobs=6)\n",
    "clf.fit(trainFeatures, trainCategory)\n",
    "print('Fit time: ', time.time() - _time)"
   ]
  },
  {
   "cell_type": "markdown",
   "metadata": {},
   "source": [
    "### Words"
   ]
  },
  {
   "cell_type": "code",
   "execution_count": 54,
   "metadata": {
    "collapsed": true
   },
   "outputs": [],
   "source": [
    "words = {}\n",
    "for i in trainTextsToken:\n",
    "    for j in i:\n",
    "        if j in words:\n",
    "            words[j] += 1\n",
    "        else:\n",
    "            words[j] = 1\n",
    "\n",
    "for i in testTextsToken:\n",
    "    for j in i:\n",
    "        if j in words:\n",
    "            words[j] += 1\n",
    "        else:\n",
    "            words[j] = 1"
   ]
  },
  {
   "cell_type": "code",
   "execution_count": 55,
   "metadata": {
    "collapsed": true
   },
   "outputs": [],
   "source": [
    "items = {y:x for x,y in words.items()}"
   ]
  },
  {
   "cell_type": "code",
   "execution_count": 56,
   "metadata": {
    "collapsed": true
   },
   "outputs": [],
   "source": [
    "col = np.array(list(items.keys()))\n",
    "col.sort()\n",
    "col = col[::-1]"
   ]
  },
  {
   "cell_type": "code",
   "execution_count": 63,
   "metadata": {
    "collapsed": true
   },
   "outputs": [
    {
     "name": "stdout",
     "output_type": "stream",
     "text": [
      "ru\n",
      "mail\n",
      "the\n",
      "com\n",
      "http\n",
      "amp\n",
      "of\n",
      "id\n",
      "array\n",
      "in\n",
      "by\n",
      "to\n",
      "is\n",
      "dji\n",
      "vip\n",
      "info\n",
      "copyright\n",
      "pro\n",
      "facebook\n",
      "paintboy\n",
      "de\n",
      "for\n",
      "alize\n",
      "iblock\n",
      "level\n",
      "parent\n",
      "depth\n",
      "item\n",
      "football\n",
      "section\n",
      "phantom\n",
      "you\n",
      "league\n",
      "premier\n",
      "fc\n",
      "ua\n",
      "fi\n",
      "type\n",
      "org\n",
      "twitter\n",
      "baby\n",
      "time\n",
      "link\n",
      "text\n",
      "javascript\n",
      "re\n",
      "la\n",
      "jpg\n",
      "shishas\n",
      "black\n",
      "no\n",
      "faq\n",
      "txt\n",
      "youtube\n",
      "motorola\n",
      "iphone\n",
      "hd\n",
      "rtf\n",
      "element\n",
      "picture\n",
      "cotton\n",
      "comments\n",
      "vertex\n",
      "blog\n",
      "permission\n",
      "additional\n",
      "batik\n",
      "child\n",
      "params\n",
      "bresser\n",
      "vector\n",
      "ipad\n",
      "arptemplate\n",
      "topas\n",
      "belmetal\n",
      "saint\n",
      "hubsan\n",
      "rus\n",
      "concertinfo\n",
      "image\n",
      "lt\n",
      "posted\n",
      "midland\n",
      "jun\n",
      "phobia\n",
      "qrz\n",
      "carpediem\n",
      "krafts\n",
      "string\n",
      "barclays\n",
      "ukraine\n",
      "et\n",
      "pуб\n",
      "room\n",
      "rows\n",
      "goods\n",
      "anya\n",
      "dxnews\n",
      "jewish\n",
      "coollib\n",
      "lock\n",
      "aug\n",
      "chiffr\n",
      "dictionary\n",
      "td\n",
      "planches\n",
      "gig\n",
      "msimagelist\n",
      "iglanew\n",
      "sharelink\n",
      "tis\n",
      "titre\n",
      "uploaded\n",
      "usg\n",
      "infokam\n",
      "valign\n",
      "euroriding\n",
      "kingsland\n",
      "waldhausen\n",
      "equiline\n",
      "vinham\n",
      "ruметро\n",
      "medwell\n",
      "umbria\n",
      "grunja\n",
      "cavalleria\n",
      "kruker\n",
      "ustyles\n",
      "uncategorizedдобавить\n",
      "gurkin\n",
      "dancesportglobal\n",
      "strv\n"
     ]
    }
   ],
   "source": [
    "for i in col:\n",
    "    if not bool(re.search(r'\\d', items[i])) and bool(re.search(r'[a-z]', items[i])):\n",
    "        print(items[i])"
   ]
  },
  {
   "cell_type": "code",
   "execution_count": 56,
   "metadata": {
    "collapsed": true
   },
   "outputs": [
    {
     "name": "stdout",
     "output_type": "stream",
     "text": [
      "2017\n",
      "рубль\n",
      "год\n",
      "это\n",
      "00\n",
      "как\n",
      "быть\n",
      "сайт\n",
      "книга\n",
      "или\n",
      "10\n",
      "день\n",
      "06\n",
      "купить\n",
      "июнь\n",
      "москва\n",
      "человек\n",
      "один\n",
      "мочь\n",
      "ru\n",
      "дробный\n",
      "20\n",
      "12\n",
      "2016\n",
      "время\n",
      "магазин\n",
      "новость\n",
      "цена\n",
      "гороскоп\n",
      "но\n",
      "15\n",
      "хороший\n",
      "11\n",
      "новый\n",
      "25\n",
      "то\n",
      "19\n",
      "17\n",
      "ребёнок\n",
      "большой\n",
      "работа\n",
      "читать\n",
      "30\n",
      "билет\n",
      "набор\n",
      "16\n",
      "товар\n",
      "18\n",
      "мир\n",
      "корзина\n",
      "знакомство\n",
      "22\n",
      "можно\n",
      "14\n",
      "только\n",
      "21\n",
      "жизнь\n",
      "так\n",
      "автор\n",
      "23\n",
      "театр\n",
      "дом\n",
      "игра\n",
      "если\n",
      "13\n",
      "детский\n",
      "вышивка\n",
      "заказ\n",
      "город\n",
      "имя\n",
      "главный\n",
      "интернет\n",
      "карта\n",
      "добавить\n"
     ]
    }
   ],
   "source": [
    "for i in col[:100]:\n",
    "    if items[i] not in delWords:\n",
    "        print(items[i])"
   ]
  },
  {
   "cell_type": "code",
   "execution_count": 144,
   "metadata": {},
   "outputs": [
    {
     "name": "stdout",
     "output_type": "stream",
     "text": [
      "{'price', 'gradient', 'media', 'самый', 'ffffff', 'знакомство', 'дом', 'referrer', 'этот', 'repeat', 'другой', 'php', 'vk', 'цена', 'max', 'товар', 'читать', 'mail', 'nav', 'random', 'float', 'alt', 'автор', 'email', 'можно', 'если', 'мир', 'site', 'новость', 'hash', 'linear', 'time', 'так', 'новый', 'ребёнок', 'корзина', 'director', 'театр', 'math', 'and', 'то', 'undefined', 'большой', 'protocol', 'fa', 'ajax', 'country', 'table', 'билет', 'try', 'гороскоп', 'object', 'min', 'catch', 'the', 'target', 'shadow', 'хороший', 'getelementbyid', 'images', 'bitrix', 'counter', 'line', 'только', 'ya', 'просмотр', 'вышивка', 'но', 'product', 'to', 'жизнь', 'addeventlistener', 'page', 'core', 'работа', 'набор', None, 'transform', 'grid', 'ua', 'family', 'weight', 'solid'}\n"
     ]
    }
   ],
   "source": [
    "print(set([items[i] if not bool(re.search(r'\\d', items[i])) else None for i in col[200:300]]))"
   ]
  },
  {
   "cell_type": "code",
   "execution_count": 146,
   "metadata": {
    "collapsed": true
   },
   "outputs": [],
   "source": [
    "delWords = ['div', 'js', 'td', 'document', 'color', 'url', 'span', 'li', 'true', 'screen', 'text',\\\n",
    "            'type', 'com', 'jpg', 'group', 'value', 'block', 'vc', 'img', 'style', 'right', 'width',\\\n",
    "            'border', 'new', 'src', 'content', 'http', 'hover', 'font', 'this', 'none', 'ru', 'background',\\\n",
    "            'false', 'var', 'return', 'null', 'menu', 'if', 'left', 'height', 'margin', 'title', 'https',\\\n",
    "            'important', 'image', 'function', 'padding', 'bottom', 'class', 'name', 'param', 'card', 'size',\\\n",
    "            'window', 'top', 'script', 'push', 'data', 'ul', 'href', 'id', 'display', 'location', 'css', 'async',\\\n",
    "            'tta', 'all', 'body', 'png', 'escape', 'html', 'parentnode', 'input', 'index', 'button', 'jquery',\\\n",
    "            'opera', 'event', 'position', 'rgba', 'link', 'ga', 'main', 'metrika', 'btn', 'show', 'container',\\\n",
    "            'form', 'header', 'center', 'javascript', 'webkit', 'search', 'typeof', 'box', 'www', 'click',\\\n",
    "            'radius', 'length', 'getelementsbytagname', 'date', 'no', 'insertbefore', 'before', 'colordepth',\\\n",
    "            'else', 'icon', 'write', 'post', 'for', 'wp', 'net', 'in', 'active', 'code', 'auto', 'item', 'align',\\\n",
    "            'widget', 'createelement', 'cat', 'bx', 'place',\\\n",
    "            'а', 'без', 'в', 'во', 'на', 'с', 'со', 'до', 'для', 'за', 'из', 'из-за', 'к', 'ко', 'между', 'у',\\\n",
    "            'над', 'надо', 'без', 'не', 'о', 'об', 'обо', 'от', 'перед', 'по', 'под', 'подо', 'после', 'пред',\\\n",
    "            'при', 'про']"
   ]
  },
  {
   "cell_type": "code",
   "execution_count": null,
   "metadata": {
    "collapsed": true
   },
   "outputs": [],
   "source": []
  }
 ],
 "metadata": {
  "kernelspec": {
   "display_name": "Python 3",
   "language": "python",
   "name": "python3"
  },
  "language_info": {
   "codemirror_mode": {
    "name": "ipython",
    "version": 3
   },
   "file_extension": ".py",
   "mimetype": "text/x-python",
   "name": "python",
   "nbconvert_exporter": "python",
   "pygments_lexer": "ipython3",
   "version": "3.6.1"
  }
 },
 "nbformat": 4,
 "nbformat_minor": 2
}
