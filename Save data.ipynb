{
 "cells": [
  {
   "cell_type": "code",
   "execution_count": 1,
   "metadata": {
    "collapsed": true
   },
   "outputs": [],
   "source": [
    "from bs4 import BeautifulSoup\n",
    "from multiprocessing.pool import ThreadPool\n",
    "import numpy as np\n",
    "import pandas as pd\n",
    "import make_data\n",
    "import datetime\n",
    "import requests\n",
    "import sys\n",
    "import os\n",
    "import json\n",
    "import time\n",
    "import re"
   ]
  },
  {
   "cell_type": "code",
   "execution_count": 18,
   "metadata": {
    "collapsed": true
   },
   "outputs": [],
   "source": [
    "headers0 = {\n",
    "    'user-agent': 'Mozilla/5.0 (Macintosh; Intel Mac OS X 10.11; rv:48.0) Gecko/20100101 Firefox/48.0',\n",
    "    'accept': \"text/html,application/xhtml+xml,application/xml;q=0.9,*/*;q=0.8\",\n",
    "    'accept-language': 'ru-RU,ru;q=0.8,en-US;q=0.5,en;q=0.3',\n",
    "    'keep-alive': 'keep-alive',\n",
    "    'cache-control': 'max-age=0',\n",
    "}"
   ]
  },
  {
   "cell_type": "code",
   "execution_count": 4,
   "metadata": {
    "collapsed": true
   },
   "outputs": [],
   "source": [
    "URL = 'http://admining.hadoop1.corp.mail.ru/login/'\n",
    "logn = 'a.tleubayev'\n",
    "passwd = ''\n",
    "client = requests.session()\n",
    "\n",
    "client.get(URL)\n",
    "csrftoken = client.cookies['csrftoken']\n",
    "\n",
    "login_data = dict(username=logn, password=passwd,\n",
    "                  csrfmiddlewaretoken=csrftoken, next='/')\n",
    "r = client.post(URL, data=login_data, headers=dict(Referer=URL))\n",
    "\n",
    "if len(r.content) < 5000:\n",
    "    print('Неверно введен логин или пароль')\n",
    "    exit(1)"
   ]
  },
  {
   "cell_type": "code",
   "execution_count": 5,
   "metadata": {
    "collapsed": true
   },
   "outputs": [],
   "source": [
    "url = 'http://admining.hadoop1.corp.mail.ru/api/load_tree/'\n",
    "try:\n",
    "    page = requests.get(url, timeout=10)\n",
    "except requests.exceptions.Timeout:\n",
    "    print('Ошибка подключения к admining.hadoop1.corp.mail.ru, проверьте подключение к VPN.')\n",
    "    exit(1)\n",
    "soup = BeautifulSoup(page.content, 'html.parser')\n",
    "tree = json.loads(str(soup))"
   ]
  },
  {
   "cell_type": "code",
   "execution_count": 6,
   "metadata": {
    "collapsed": true
   },
   "outputs": [],
   "source": [
    "def dfs(tree, st):\n",
    "    if 'test' in tree['a_attr']['title'].lower():\n",
    "        print(st + tree['a_attr']['title'])\n",
    "        return [], []\n",
    "    \n",
    "    nums = [tree['id']]\n",
    "    text = [tree['text']]\n",
    "    st += '    '\n",
    "    if tree['children'] != None:\n",
    "        for i in tree['children']:\n",
    "            t = dfs(i, st)\n",
    "            nums.extend(t[0])\n",
    "            text.extend(t[1])\n",
    "    return nums, text"
   ]
  },
  {
   "cell_type": "code",
   "execution_count": 7,
   "metadata": {
    "scrolled": true
   },
   "outputs": [
    {
     "name": "stdout",
     "output_type": "stream",
     "text": [
      "1207. test (Kirill)\n",
      "1331. test_pavel\n",
      "1342. Test (Denis)\n",
      "1344. test (Timur)\n",
      "1346. Test (ADIL)\n",
      "1352. Test_Nastya\n"
     ]
    }
   ],
   "source": [
    "nums = []\n",
    "text = []\n",
    "for i in tree:\n",
    "#     print(i['a_attr']['title'])\n",
    "    st = ''\n",
    "    t = dfs(i, st)\n",
    "    nums.extend(t[0])\n",
    "    text.extend(t[1])"
   ]
  },
  {
   "cell_type": "code",
   "execution_count": 15,
   "metadata": {
    "collapsed": true
   },
   "outputs": [],
   "source": [
    "def getDataUrls(dataId):\n",
    "    urls = []\n",
    "    for categoryId in dataId:\n",
    "        data = client.get('http://admining.hadoop1.corp.mail.ru/load_patterns/{}/'.format(categoryId)).content\n",
    "        data_json = json.loads(data.decode())\n",
    "        urls.extend([[i.split(' ')[0], categoryId] for i in data_json[u'patterns'].split('\\n')])\n",
    "\n",
    "    urls = np.array(urls)\n",
    "    table = pd.DataFrame({'urls': urls.T[0], 'categoryId': urls.T[1]})\n",
    "    table = pd.get_dummies(table, columns=['categoryId'])\n",
    "    table = table.groupby('urls').sum()\n",
    "    \n",
    "    return table.index, table.values"
   ]
  },
  {
   "cell_type": "code",
   "execution_count": 22,
   "metadata": {},
   "outputs": [
    {
     "name": "stdout",
     "output_type": "stream",
     "text": [
      "CPU times: user 10.6 s, sys: 1.14 s, total: 11.8 s\n",
      "Wall time: 12min 44s\n"
     ]
    }
   ],
   "source": [
    "%%time\n",
    "dataUrls, dataCategories = make_data.getDataUrls(client, nums)"
   ]
  },
  {
   "cell_type": "code",
   "execution_count": 40,
   "metadata": {},
   "outputs": [
    {
     "name": "stdout",
     "output_type": "stream",
     "text": [
      "899/899\ttime: 718.19336295127873"
     ]
    }
   ],
   "source": [
    "_time = time.time()\n",
    "for idx, categoryId in enumerate(nums):\n",
    "    data = client.get('http://admining.hadoop1.corp.mail.ru/load_patterns/{}/'.format(categoryId)).content\n",
    "    data_json = json.loads(data.decode())\n",
    "    \n",
    "    f = open('data/categories/{}_urls.txt'.format(categoryId), 'w')\n",
    "    for i in data_json[u'patterns'].split('\\n'):\n",
    "        f.write(i+'\\n')\n",
    "    f.close()\n",
    "    sys.stdout.write('\\r' + str(idx+1) + '/' + str(len(nums)) + '\\t' + 'time: ' + str(time.time() - _time))"
   ]
  },
  {
   "cell_type": "code",
   "execution_count": null,
   "metadata": {
    "collapsed": true
   },
   "outputs": [],
   "source": []
  },
  {
   "cell_type": "code",
   "execution_count": 2,
   "metadata": {
    "collapsed": true
   },
   "outputs": [],
   "source": [
    "class LoggingPool(ThreadPool):\n",
    "    def apply_async(self, func, args=(), kwds={}, callback=None):\n",
    "        return ThreadPool.apply_async(self, LogExceptions(func), args, kwds, callback)"
   ]
  },
  {
   "cell_type": "code",
   "execution_count": 71,
   "metadata": {
    "collapsed": true
   },
   "outputs": [],
   "source": [
    "from html.parser import HTMLParser  \n",
    "from urllib.request import urlopen  \n",
    "from urllib import parse\n",
    "\n",
    "# def getText(domain):\n",
    "#     \" Cкачать текст с главной страницы домена domain \"\n",
    "#     try:    \n",
    "#         page = requests.get(domain, headers=headers0, timeout=100)\n",
    "#         soup = BeautifulSoup(page.content)\n",
    "\n",
    "#         for script in soup([\"script\", \"style\"]):\n",
    "#             script.extract()\n",
    "\n",
    "#         text = soup.get_text()\n",
    "#         lines = (line.strip() for line in text.splitlines())\n",
    "#         chunks = (phrase.strip() for line in lines for phrase in line.split(\"  \"))\n",
    "#         text = '\\n'.join(chunk for chunk in chunks if chunk)\n",
    "        \n",
    "#     except:\n",
    "#         text = 'NOTEXT'\n",
    "#     return text\n",
    "\n",
    "def getText(domain):\n",
    "    \" Cкачать текст с главной страницы домена domain \"\n",
    "    try:    \n",
    "        response = urlopen(domain)\n",
    "        htmlBytes = response.read()\n",
    "        soup = BeautifulSoup(htmlBytes)\n",
    "\n",
    "        for script in soup([\"script\", \"style\"]):\n",
    "            script.extract()\n",
    "\n",
    "        text = soup.get_text()\n",
    "        lines = (line.strip() for line in text.splitlines())\n",
    "        chunks = (phrase.strip() for line in lines for phrase in line.split(\"  \"))\n",
    "        text = '\\n'.join(chunk for chunk in chunks if chunk)\n",
    "        \n",
    "    except:\n",
    "        text = 'NOTEXT'\n",
    "    return text"
   ]
  },
  {
   "cell_type": "code",
   "execution_count": 4,
   "metadata": {
    "collapsed": true
   },
   "outputs": [],
   "source": [
    "import pymorphy2\n",
    "import re\n",
    "\n",
    "re_extract_words = re.compile('[^а-яёa-z0-9]')\n",
    "re_repeat_spaces = re.compile('[ ]+')\n",
    "\n",
    "morph = pymorphy2.MorphAnalyzer()\n",
    "\n",
    "def morph_tokenizer(text):\n",
    "    ext_text = re_extract_words.sub (u' ', text.lower())\n",
    "    words = re_repeat_spaces.sub (u' ', ext_text)\n",
    "    words = words.split (u' ')\n",
    "    \n",
    "    norms = [ morph.parse (w)[0].normal_form  for w in words  if (len (w) > 1) ]\n",
    "    return norms"
   ]
  },
  {
   "cell_type": "code",
   "execution_count": 51,
   "metadata": {
    "collapsed": true
   },
   "outputs": [],
   "source": [
    "pool = LoggingPool(processes=64)\n",
    "_time = time.time()\n",
    "\n",
    "categoryId = 91\n",
    "f = open('data/categories/{}_urls.txt'.format(categoryId))\n",
    "lines = f.readlines()\n",
    "f.close()\n",
    "\n",
    "urls = [i.split(' ')[0].replace('\\n', '') for i in lines]\n",
    "# texts = pool.map(getText, urls)\n",
    "# textsToken = pool.map(morph_tokenizer, texts)\n",
    "# texts = [' '.join(i) for i in textsToken]"
   ]
  },
  {
   "cell_type": "code",
   "execution_count": 26,
   "metadata": {},
   "outputs": [
    {
     "name": "stderr",
     "output_type": "stream",
     "text": [
      "/home/adil/.pyenv/versions/3.6.1/envs/python3/lib/python3.6/site-packages/bs4/__init__.py:181: UserWarning: No parser was explicitly specified, so I'm using the best available HTML parser for this system (\"html5lib\"). This usually isn't a problem, but if you run this code on another system, or in a different virtual environment, it may use a different parser and behave differently.\n",
      "\n",
      "The code that caused this warning is on line 884 of the file /home/adil/.pyenv/versions/3.6.1/lib/python3.6/threading.py. To get rid of this warning, change code that looks like this:\n",
      "\n",
      " BeautifulSoup(YOUR_MARKUP})\n",
      "\n",
      "to this:\n",
      "\n",
      " BeautifulSoup(YOUR_MARKUP, \"html5lib\")\n",
      "\n",
      "  markup_type=markup_type))\n"
     ]
    }
   ],
   "source": [
    "urls = ['cyberforum.ru', 'olx.kz', 'price.ru', 'online-pc.ru']\n",
    "\n",
    "texts = pool.map(getText, urls)\n",
    "textsToken = pool.map(morph_tokenizer, texts)\n",
    "texts = [' '.join(i) for i in textsToken]"
   ]
  },
  {
   "cell_type": "code",
   "execution_count": 28,
   "metadata": {
    "scrolled": true
   },
   "outputs": [
    {
     "data": {
      "text/plain": [
       "'продажа компьютер по низкий цена от 9000р компьютерный магазин предлагать за 9000р 155000р купить компьютер офис сборка на заказ наш интернет магазин компьютер главный компания контакт гарантия доставка способ оплата не дозвониться оставить ваш телефон мы перезвонить ваш имя ваш телефон указать причинуникто не брать трубкупроблема соединениеммна быть удобно если вы презвонить выбрать менеджер оценить мы похвалить пожаловаться посоветовать читать отзыв каталогноутбукипланшетыкомпьютер игровой домашний офисный эконом стандарт комфорт премиум миниатюрный неттоп микро компьютер минь компьютер рабочий станция для создание дизайн для 3d графика для видеомонтаж для проектирование для работа на биржа выгодный комплект без компромисс стильный мощный моноблок сервер hp lenovo acer сборка на заказмониторыпринтёр мфусканерымультимедиасетевой оборудованиеустройство ручной вводаtv тюнерыибп сетевой фильтрыкорпусапрограммный обеспечениеоргтехникадополнительный компьютерамкомплектовать поиск разделыдоставкаусловие online agr гарантияконтактыый компанииспособ оплатыакция покупатель на меть этот строка вставить код ниже процессор люба amd intel sun microsystems via линейка любой a10 a4 a6 a8 a8 3800 athlon ii x2 athlon ii x3 athlon ii x4 atom celeron core i3 core i5 core i7 350 apu e2 fx 4100 fx 4300 fx 4350 fx 6100 fx 6300 fx 8120 fx 8150 fx 8320 fx 8350 fx 9370 pentium pentium dual core phenom sempron u4025 xeonоперативный память от гбдо гб видеокарта любой geforce 660 ti geforce 9400 mpgu geforce gt 545 geforce gt 610 geforce gt 620 geforce gt 630 geforce gt 640 geforce gt 720 geforce gt 730 geforce gt 740 geforce gtx 650 geforce gtx 650 ti geforce gtx 660 geforce gtx 660 ti geforce gtx 670 geforce gtx 680 geforce gtx 690 geforce gtx 750 geforce gtx 760 geforce gtx 770 geforce gtx 780 geforce gtx 950 geforce gtx 960 geforce gtx 970 geforce gtx 980 geforce gtx titan geforce gtx titan gma 3000 gma 3150 gma 950 gma hd gma x3100 hd 6310 intel intel hd graphics ion ion gt218 quadro 2000 quadro 400 quadro 4000 quadro 600 radeon hd 6370d radeon hd 6410 radeon hd 6450 radeon hd 6530d radeon hd 6570 radeon hd 6670 radeon hd 7480d radeon hd 7560d radeon hd 7750 radeon hd 7770 radeon hd 7850 radeon hd 7950 radeon hd 7990 radeon hd 8240 radeon hd 8370d radeon hd 8570d radeon hd7970 radeon r5 230 radeon r7 240 radeon r7 250 radeon r7 260x radeon r7 360 radeon r7 370 radeon r9 270x radeon r9 280x radeon r9 290 radeon r9 290x radeon r9 380цена от до уже более 15 год мы работать для вы мы вы смочь получить компьютер гарантия до ти год на место эксплуатация вернуть мы купить компьютер если вы ошибиться при выбор давать день на тест драйв за минута получить честной профессиональный консультация подбор компьютер по телефон сэкономить время на поиск даже деньга мы знать какой технология быть излишний для ваш задача какой необходимый выбрать один из 500 компьютер идеально соответствующий ваш задачамвыбрать дизайн корпус компьютераизменить любой часть представить на сайт компьютераа ещё мы самый низкий цена смотреть сам так какой вы компьютер игровой компьютер от простой до самый мощный для дом экономно включая мощный пк стандартно комфортно тихо премиальный бесшумно для офис экономно стандартно комфортно тихо премиальный бесшумно очень быстро миниатюрный компьютер маленькая крошечный хотеть сборка на заказ вы сюда компьютер hp lenovo acer наш надёжный компьютер покупать ведущий организация россия мфсый спартак государственный академическийбольша театр россия учреждение российский академия наука институт спектроскопия рана зао нпо энерпром matrix officelight rl05изменить дизайн11597 рубль 7ггца ядро amd a4 2048мба ddr3 hdd 500гб видео radeon hd 8370d линейка light подробный характеристикиmatrix homelight hl01изменить дизайн14859 рубль 3ггца ядро amd a4 2048мба ddr3 hdd 500гб видео geforce gt 610 1024мба dvd rw бп 350вт линейка light подробный характеристикиmatrix gamemasterlight gl04изменить дизайн21076 рубль 6ггца ядро amd a8 4096мба ddr3 hdd 500гб видео radeon r7 240 2048мба dvd rw бп 450вт линейка light подробный характеристикиподбор по параметр процессор люба amd intel sun microsystems viaлинейка любой a10 a4 a6 a8 a8 3800 athlon ii x2 athlon ii x3 athlon ii x4 atom celeron core i3 core i5 core i7 350 apu e2 fx 4100 fx 4300 fx 4350 fx 6100 fx 6300 fx 8120 fx 8150 fx 8320 fx 8350 fx 9370 pentium pentium dual core phenom sempron u4025 xeonоператить память гбайтота до видеокарта любой geforce 660 ti geforce 9400 mpgu geforce gt 545 geforce gt 610 geforce gt 620 geforce gt 630 geforce gt 640 geforce gt 720 geforce gt 730 geforce gt 740 geforce gtx 650 geforce gtx 650 ti geforce gtx 660 geforce gtx 660 ti geforce gtx 670 geforce gtx 680 geforce gtx 690 geforce gtx 750 geforce gtx 760 geforce gtx 770 geforce gtx 780 geforce gtx 950 geforce gtx 960 geforce gtx 970 geforce gtx 980 geforce gtx titan geforce gtx titan gma 3000 gma 3150 gma 950 gma hd gma x3100 hd 6310 intel intel hd graphics ion ion gt218 quadro 2000 quadro 400 quadro 4000 quadro 600 radeon hd 6370d radeon hd 6410 radeon hd 6450 radeon hd 6530d radeon hd 6570 radeon hd 6670 radeon hd 7480d radeon hd 7560d radeon hd 7750 radeon hd 7770 radeon hd 7850 radeon hd 7950 radeon hd 7990 radeon hd 8240 radeon hd 8370d radeon hd 8570d radeon hd7970 radeon r5 230 radeon r7 240 radeon r7 250 radeon r7 260x radeon r7 360 radeon r7 370 radeon r9 270x radeon r9 280x radeon r9 290 radeon r9 290x radeon r9 380ценаот до всегда ассортимент компьютер средний сила matrix officelight rl16изменить дизайн16922 рубль 5ггца ядро intel core i3 haswell 2048мба ddr3 hdd 1000гб видео intel hd graphics 384мба линейка light подробный характеристикиmatrix gamemasterlight gl06изменить дизайн20993 рубль 1ггца ядро intel pentium dual core haswell 4096мба ddr3 hdd 500гб видео geforce gtx 750 2048мба dvd rw бп 450вт линейка light подробный характеристикиmatrix homelight hl12изменить дизайн21294 рубль 5ггца ядро intel core i3 haswell 4096мба ddr3 hdd 500гб видео geforce gt 730 1024мба dvd rw бп 350вт линейка light подробный характеристикиа так же самый мощный matrix gamemasterlight gl51изменить дизайн36832 рубль 2ггца ядро intel core i5 haswell 8192мба ddr3 hdd 1000гб видео geforce gtx 960 2048мба dvd rw бп 500вт линейка light подробный характеристикиmatrix gamemasterlight gl42изменить дизайн47065 рубль 2ггца ядро intel core i5 haswell 8192мба ddr3 hdd 1000гб видео geforce gtx 970 4096мба dvd rw бп 650вт линейка light подробный характеристикиmatrix gamemasterlight gl50изменить дизайн66578 рубль 6ггца ядро intel core i7 haswell 8192мба ddr3 hdd 1000гб видео geforce gtx 980 4096мба dvd rw бп 700вт линейка light подробный характеристикиесть миниатюрный компьютер matrix minim01 13718 рубещё скидка от до 8ггца ядро intel atom 2048мба ddr3 hdd 250гб видео gma 3150 линейка подробный характеристикиmatrix minim07 25368 рубещё скидка от до 8ггца ядро intel pentium dual core 4096мба ddr3 hdd 500гб видео gma 3150 dvd rw линейка подробный характеристикиmatrix minim09 32080 рубещё скидка от до 2ггца ядро intel core i3 8196мба ddr3 hdd 1000гб видео gma 3150 dvd rw линейка подробный характеристикиа так же стильный очень мощный matrix highstyle s07изменить дизайн101856 рубещё скидка от до 5ггца ядро amd fx 8320 16384мба ddr3 hdd 2000гб видео geforce gtx 680 2048мба dvd rw wifi бп 850вт линейка подробный характеристикиmatrix highstyle s09изменить дизайн126774 рубещё скидка от до 6ггца ядро intel core i7 32768мба ddr3 hdd 3000гб видео geforce gtx 680 2048мба dvd rw wifi бп 1000вт линейка подробный характеристикиmatrix magicelephant me08изменить дизайн349574 рубещё скидка от до 3ггца ядро intel core i7 65536мба ddr3 hdd 3000гб ssd 256гб видео radeon hd 7990 12248мба blu ray wifi бп 1200вт линейка подробный характеристика eще более 500 конфигурация каталог игровой компьютер от простой до самый мощный компьютер для дом экономно включая мощный пк стандартно комфортно тихо премиальный бесшумно компьютер для офис экономно стандартно комфортно тихо премиальный бесшумно очень быстро миниатюрный компьютер маленькая крошечный хотеть сборка на заказ вы сюда компьютер hp lenovo acer нужный помощь выбор звонить помочь 495 540 5939ить писать мы продажа компьютер профильный направление наш интернет магазин мы очень приятно приветствовать вы на страница наш компьютерный магазин уже более 15 год мы заниматься продажа компьютер по низкий цена мы мочь себя это позволить поскольку оборот наш компания постоянно увеличиваться применять наш компьютерный магазин технология оптимизация процесс сборка пк позволять мы сделать продажный цена на персональный компьютер ещё ниже квалификация наш специалист всегда на высокий уровень достаточный для компетентный ответ на вопрос как выбрать компьютер идеально подходящий ваш потребность мы мочь гордо сказать что наш компания профессионал область продажа компьютер комплектовать чтобы совершить покупка наш интернет магазин вы нужно только позвонить мы продажа компьютер наш профессия чтобы упростить процесс покупка компьютер мы изучить основной область они применение составить несколько линейка уже готовый системный блок разный производительность всегда продажа персональный машинка для офис игровой система мультимедийный центр другой вид наш компания иметь большой опыт подбор продажа компьютер через интернет магазин свой новый пк купить мы внимание выбрать компьютер наш интернет каталог цена от 4500р до 77000р вы мочь приехать наш оффлайна компьютерный магазин приобрести устройство там или получить любой консультация купить компьютер наш магазин легко продажа компьютер для офис игра компьютер англ computer это устройство для вычисление ввод вывод также хранение передача информация многие покупатель уже знакомый прекрасный качество наш изделие давно доверять мы считать мы лидер по продажа компьютер мы свой очередь рад предложить имя более низкий цена на компьютер наш компьютерный магазин это гарантия качество низкий цена купить компьютер офис мы продажа пк для офис для тот чтобы работать офисный программа пользоваться интернет просматривать видео так же вести бухгалтерия вовсе не нужно покупать мощный дорогой устройство если вы решить подобрать компьютер для офис то сэкономить можно на видеокарта использовать материнский карта с встроить видеоадаптер так же на объём оперативный память винчестер для работа офисный компьютер вполне достаточно всего 256 мегабайт оперативный память обращаться лидер по продажа компьютер вы не прийтись забивать себя голова вникать специфика комплектовать часть мы уже собрать идеальный компьютер офис вы оставаться только позвонить мы заказать доставка через несколько часы ваш офис быть готовый работа продажа игровой компьютер игровой компьютер который вы мочь выбрать наш интернет магазин смочь удовлетворить амбиция самый серьёзный геймер корпус этот устройство мы заключить мощный видеокарта быстрый процессор великолепный генератор объёмный звук весь это позволить вы потеряться игра или захватывать фильм для ознакомление ассортимент игровой компьютер продажа перейти соответствующий раздел каталог наш интернет магазин затем выбрать модель купить компьютер свой мечта цена наш компьютерный магазин продажа компьютер наш постоянный работа мы всегда держать низкий цена на компьютер присоединяться наш постоянный покупатель покупать техника matrix получать новое скидка вы мочь сделать заказ через интернет магазин из люба точка россия мы не ограничиваться продажа компьютер комплектовать только на территория москва область как это делать другой компьютерный магазин москва сделать заказ мы доставить ваш заказ люба регион россия наш интернет магазин компьютер мы мочь осуществить сборка на заказ если вы не найти подходящий конфигурация наш каталог или вы нужно приобрести редкий комплектовать мы быть рад проконсультировать вы по телефон осуществить продажа компьютер под заказ звонить мы мы мочь собрать люба пк наш распоряжение хороший комплектовать представить на компьютерный рынок россия мы гарантировать низкий цена на системный блок при продажа люба регион наш магазин компьютер предоставить вы высококачественный комплектовать ведущий производитель компьютер решить подобрать себя пк или комплектовать весь линейка пк комплектовать присутствующий продажа мы мочь увидеть каталог наш магазин хотеть обратить внимание что наш магазин для любой пк вы мочь подобрать себя корпус по вкус попробовать подобрать системный блок красивый корпус кроме продажа комплектовать наш интернет магазин предлагать широкий ассортимент периферия вы мочь собрать себя заказ самостоятельно или позвонить мы мы обязательно помочь вы так же рад сообщить вы что продажа компьютер открытый наш новый проект немой собрать ведущий компьютерный магазин интернет вы смочь купить компьютер по самый низка цена наш преимущество цена на компьютер мы всегда ниже по сравнение другой компьютерный магазин наш мастер собрать системный блок способный удовлетворить любой ваш желание при продажа компьютер на готовый пк по желание устанавливаться лицензионный версия windows перед покупка выбрать устройство вы мочь поменять корпус на свой вкус наш компьютерный магазин интернет любой время позволять вы подобрать необходимый количество комплектовать для компьютер процессор видеокарта монитор для компьютер дисковод системный блок компьютерный мышь винчестер звуковой карта другой составлять компьютер вы мочь сметь приобретать комплектовать наш магазин абсолютно на весь наименование каталог наш интернет магазин предоставляться официальный гарантия производитель доставка компьютер осуществляться курьер удобный для вы время предел мкада оплата заказ происходить при получение пк мы доставлять компьютер не только москва московский область но так же санкт петербург калининград новгород другой город россия для весь постоянный клиент покупать компьютер наш магазин предусмотреть особый условие внимание перепечатка текст главный страница наш интернет магазин компьютер запретить полностью даже частично мы юридически фиксировать факт нарушение matrix officelight rl01изменить дизайн9960 рубль 41ггца ядро intel celeron 2048мба ddr3 hdd 500гб видео intel hd graphics 384мбофисный компьютер начальный уровняmatrix gamemasterlight gl01изменить дизайн14692 рубль 8ггца ядро intel celeron haswell 4096мба ddr3 hdd 500гб видео geforce gt 710 2048мба бп 400втигровый компьютер начальный уровень из серия gamemaster линейка light matrix optimalight pl01изменить дизайн19067 рубль 41ггца ядро intel celeron 2048мба ddr3 hdd 500гб видео intel hd graphics 384мбкомплект компьютер монитор клавиатура мышь колонка сет фильтр продажа компьютер комплектовать компьютер copyright 2017 online pc ru sitemap пресс релиз статья'"
      ]
     },
     "execution_count": 28,
     "metadata": {},
     "output_type": "execute_result"
    }
   ],
   "source": [
    "texts[-1]"
   ]
  },
  {
   "cell_type": "code",
   "execution_count": null,
   "metadata": {
    "collapsed": true
   },
   "outputs": [],
   "source": []
  },
  {
   "cell_type": "code",
   "execution_count": null,
   "metadata": {
    "collapsed": true
   },
   "outputs": [],
   "source": []
  },
  {
   "cell_type": "code",
   "execution_count": 5,
   "metadata": {
    "collapsed": true
   },
   "outputs": [],
   "source": [
    "nums = ['Aktiv', 'Citilink']"
   ]
  },
  {
   "cell_type": "code",
   "execution_count": 72,
   "metadata": {},
   "outputs": [
    {
     "name": "stderr",
     "output_type": "stream",
     "text": [
      "/home/adil/.pyenv/versions/3.6.1/envs/python3/lib/python3.6/site-packages/bs4/__init__.py:181: UserWarning: No parser was explicitly specified, so I'm using the best available HTML parser for this system (\"lxml\"). This usually isn't a problem, but if you run this code on another system, or in a different virtual environment, it may use a different parser and behave differently.\n",
      "\n",
      "The code that caused this warning is on line 884 of the file /home/adil/.pyenv/versions/3.6.1/lib/python3.6/threading.py. To get rid of this warning, change code that looks like this:\n",
      "\n",
      " BeautifulSoup(YOUR_MARKUP})\n",
      "\n",
      "to this:\n",
      "\n",
      " BeautifulSoup(YOUR_MARKUP, \"lxml\")\n",
      "\n",
      "  markup_type=markup_type))\n"
     ]
    }
   ],
   "source": [
    "i = 5\n",
    "categ = data[0][i][0]\n",
    "regul = data[0][i][1]\n",
    "urls = data[1][i]\n",
    "texts = pool.map(getText, urls)\n",
    "textsToken = pool.map(morph_tokenizer, texts)\n",
    "texts = [' '.join(i) for i in textsToken]"
   ]
  },
  {
   "cell_type": "code",
   "execution_count": 67,
   "metadata": {},
   "outputs": [],
   "source": []
  },
  {
   "cell_type": "code",
   "execution_count": null,
   "metadata": {
    "collapsed": true
   },
   "outputs": [],
   "source": []
  },
  {
   "cell_type": "code",
   "execution_count": 39,
   "metadata": {
    "collapsed": true
   },
   "outputs": [],
   "source": []
  },
  {
   "cell_type": "code",
   "execution_count": 79,
   "metadata": {},
   "outputs": [
    {
     "name": "stderr",
     "output_type": "stream",
     "text": [
      "/home/adil/.pyenv/versions/3.6.1/envs/python3/lib/python3.6/site-packages/bs4/__init__.py:181: UserWarning: No parser was explicitly specified, so I'm using the best available HTML parser for this system (\"lxml\"). This usually isn't a problem, but if you run this code on another system, or in a different virtual environment, it may use a different parser and behave differently.\n",
      "\n",
      "The code that caused this warning is on line 884 of the file /home/adil/.pyenv/versions/3.6.1/lib/python3.6/threading.py. To get rid of this warning, change code that looks like this:\n",
      "\n",
      " BeautifulSoup(YOUR_MARKUP})\n",
      "\n",
      "to this:\n",
      "\n",
      " BeautifulSoup(YOUR_MARKUP, \"lxml\")\n",
      "\n",
      "  markup_type=markup_type))\n"
     ]
    },
    {
     "name": "stdout",
     "output_type": "stream",
     "text": [
      "\r",
      "1/2\ttime: 1457.2975914478302"
     ]
    },
    {
     "ename": "KeyboardInterrupt",
     "evalue": "",
     "output_type": "error",
     "traceback": [
      "\u001b[0;31m---------------------------------------------------------------------------\u001b[0m",
      "\u001b[0;31mKeyboardInterrupt\u001b[0m                         Traceback (most recent call last)",
      "\u001b[0;32m<ipython-input-79-871dd87c58d2>\u001b[0m in \u001b[0;36m<module>\u001b[0;34m()\u001b[0m\n\u001b[1;32m     10\u001b[0m         \u001b[0;32mif\u001b[0m \u001b[0mtt\u001b[0m \u001b[0;32min\u001b[0m \u001b[0mdata\u001b[0m\u001b[0;34m[\u001b[0m\u001b[0;36m1\u001b[0m\u001b[0;34m]\u001b[0m\u001b[0;34m:\u001b[0m\u001b[0;34m\u001b[0m\u001b[0m\n\u001b[1;32m     11\u001b[0m             \u001b[0murls\u001b[0m \u001b[0;34m=\u001b[0m \u001b[0mdata\u001b[0m\u001b[0;34m[\u001b[0m\u001b[0;36m1\u001b[0m\u001b[0;34m]\u001b[0m\u001b[0;34m[\u001b[0m\u001b[0mtt\u001b[0m\u001b[0;34m]\u001b[0m\u001b[0;34m\u001b[0m\u001b[0m\n\u001b[0;32m---> 12\u001b[0;31m             \u001b[0mtexts\u001b[0m \u001b[0;34m=\u001b[0m \u001b[0mpool\u001b[0m\u001b[0;34m.\u001b[0m\u001b[0mmap\u001b[0m\u001b[0;34m(\u001b[0m\u001b[0mgetText\u001b[0m\u001b[0;34m,\u001b[0m \u001b[0murls\u001b[0m\u001b[0;34m)\u001b[0m\u001b[0;34m\u001b[0m\u001b[0m\n\u001b[0m\u001b[1;32m     13\u001b[0m             \u001b[0mtextsToken\u001b[0m \u001b[0;34m=\u001b[0m \u001b[0mpool\u001b[0m\u001b[0;34m.\u001b[0m\u001b[0mmap\u001b[0m\u001b[0;34m(\u001b[0m\u001b[0mmorph_tokenizer\u001b[0m\u001b[0;34m,\u001b[0m \u001b[0mtexts\u001b[0m\u001b[0;34m)\u001b[0m\u001b[0;34m\u001b[0m\u001b[0m\n\u001b[1;32m     14\u001b[0m             \u001b[0mtexts\u001b[0m \u001b[0;34m=\u001b[0m \u001b[0;34m[\u001b[0m\u001b[0;34m' '\u001b[0m\u001b[0;34m.\u001b[0m\u001b[0mjoin\u001b[0m\u001b[0;34m(\u001b[0m\u001b[0mi\u001b[0m\u001b[0;34m)\u001b[0m \u001b[0;32mfor\u001b[0m \u001b[0mi\u001b[0m \u001b[0;32min\u001b[0m \u001b[0mtextsToken\u001b[0m\u001b[0;34m]\u001b[0m\u001b[0;34m\u001b[0m\u001b[0m\n",
      "\u001b[0;32m/home/adil/.pyenv/versions/3.6.1/lib/python3.6/multiprocessing/pool.py\u001b[0m in \u001b[0;36mmap\u001b[0;34m(self, func, iterable, chunksize)\u001b[0m\n\u001b[1;32m    258\u001b[0m         \u001b[0;32min\u001b[0m \u001b[0ma\u001b[0m \u001b[0mlist\u001b[0m \u001b[0mthat\u001b[0m \u001b[0;32mis\u001b[0m \u001b[0mreturned\u001b[0m\u001b[0;34m.\u001b[0m\u001b[0;34m\u001b[0m\u001b[0m\n\u001b[1;32m    259\u001b[0m         '''\n\u001b[0;32m--> 260\u001b[0;31m         \u001b[0;32mreturn\u001b[0m \u001b[0mself\u001b[0m\u001b[0;34m.\u001b[0m\u001b[0m_map_async\u001b[0m\u001b[0;34m(\u001b[0m\u001b[0mfunc\u001b[0m\u001b[0;34m,\u001b[0m \u001b[0miterable\u001b[0m\u001b[0;34m,\u001b[0m \u001b[0mmapstar\u001b[0m\u001b[0;34m,\u001b[0m \u001b[0mchunksize\u001b[0m\u001b[0;34m)\u001b[0m\u001b[0;34m.\u001b[0m\u001b[0mget\u001b[0m\u001b[0;34m(\u001b[0m\u001b[0;34m)\u001b[0m\u001b[0;34m\u001b[0m\u001b[0m\n\u001b[0m\u001b[1;32m    261\u001b[0m \u001b[0;34m\u001b[0m\u001b[0m\n\u001b[1;32m    262\u001b[0m     \u001b[0;32mdef\u001b[0m \u001b[0mstarmap\u001b[0m\u001b[0;34m(\u001b[0m\u001b[0mself\u001b[0m\u001b[0;34m,\u001b[0m \u001b[0mfunc\u001b[0m\u001b[0;34m,\u001b[0m \u001b[0miterable\u001b[0m\u001b[0;34m,\u001b[0m \u001b[0mchunksize\u001b[0m\u001b[0;34m=\u001b[0m\u001b[0;32mNone\u001b[0m\u001b[0;34m)\u001b[0m\u001b[0;34m:\u001b[0m\u001b[0;34m\u001b[0m\u001b[0m\n",
      "\u001b[0;32m/home/adil/.pyenv/versions/3.6.1/lib/python3.6/multiprocessing/pool.py\u001b[0m in \u001b[0;36mget\u001b[0;34m(self, timeout)\u001b[0m\n\u001b[1;32m    600\u001b[0m \u001b[0;34m\u001b[0m\u001b[0m\n\u001b[1;32m    601\u001b[0m     \u001b[0;32mdef\u001b[0m \u001b[0mget\u001b[0m\u001b[0;34m(\u001b[0m\u001b[0mself\u001b[0m\u001b[0;34m,\u001b[0m \u001b[0mtimeout\u001b[0m\u001b[0;34m=\u001b[0m\u001b[0;32mNone\u001b[0m\u001b[0;34m)\u001b[0m\u001b[0;34m:\u001b[0m\u001b[0;34m\u001b[0m\u001b[0m\n\u001b[0;32m--> 602\u001b[0;31m         \u001b[0mself\u001b[0m\u001b[0;34m.\u001b[0m\u001b[0mwait\u001b[0m\u001b[0;34m(\u001b[0m\u001b[0mtimeout\u001b[0m\u001b[0;34m)\u001b[0m\u001b[0;34m\u001b[0m\u001b[0m\n\u001b[0m\u001b[1;32m    603\u001b[0m         \u001b[0;32mif\u001b[0m \u001b[0;32mnot\u001b[0m \u001b[0mself\u001b[0m\u001b[0;34m.\u001b[0m\u001b[0mready\u001b[0m\u001b[0;34m(\u001b[0m\u001b[0;34m)\u001b[0m\u001b[0;34m:\u001b[0m\u001b[0;34m\u001b[0m\u001b[0m\n\u001b[1;32m    604\u001b[0m             \u001b[0;32mraise\u001b[0m \u001b[0mTimeoutError\u001b[0m\u001b[0;34m\u001b[0m\u001b[0m\n",
      "\u001b[0;32m/home/adil/.pyenv/versions/3.6.1/lib/python3.6/multiprocessing/pool.py\u001b[0m in \u001b[0;36mwait\u001b[0;34m(self, timeout)\u001b[0m\n\u001b[1;32m    597\u001b[0m \u001b[0;34m\u001b[0m\u001b[0m\n\u001b[1;32m    598\u001b[0m     \u001b[0;32mdef\u001b[0m \u001b[0mwait\u001b[0m\u001b[0;34m(\u001b[0m\u001b[0mself\u001b[0m\u001b[0;34m,\u001b[0m \u001b[0mtimeout\u001b[0m\u001b[0;34m=\u001b[0m\u001b[0;32mNone\u001b[0m\u001b[0;34m)\u001b[0m\u001b[0;34m:\u001b[0m\u001b[0;34m\u001b[0m\u001b[0m\n\u001b[0;32m--> 599\u001b[0;31m         \u001b[0mself\u001b[0m\u001b[0;34m.\u001b[0m\u001b[0m_event\u001b[0m\u001b[0;34m.\u001b[0m\u001b[0mwait\u001b[0m\u001b[0;34m(\u001b[0m\u001b[0mtimeout\u001b[0m\u001b[0;34m)\u001b[0m\u001b[0;34m\u001b[0m\u001b[0m\n\u001b[0m\u001b[1;32m    600\u001b[0m \u001b[0;34m\u001b[0m\u001b[0m\n\u001b[1;32m    601\u001b[0m     \u001b[0;32mdef\u001b[0m \u001b[0mget\u001b[0m\u001b[0;34m(\u001b[0m\u001b[0mself\u001b[0m\u001b[0;34m,\u001b[0m \u001b[0mtimeout\u001b[0m\u001b[0;34m=\u001b[0m\u001b[0;32mNone\u001b[0m\u001b[0;34m)\u001b[0m\u001b[0;34m:\u001b[0m\u001b[0;34m\u001b[0m\u001b[0m\n",
      "\u001b[0;32m/home/adil/.pyenv/versions/3.6.1/lib/python3.6/threading.py\u001b[0m in \u001b[0;36mwait\u001b[0;34m(self, timeout)\u001b[0m\n\u001b[1;32m    549\u001b[0m             \u001b[0msignaled\u001b[0m \u001b[0;34m=\u001b[0m \u001b[0mself\u001b[0m\u001b[0;34m.\u001b[0m\u001b[0m_flag\u001b[0m\u001b[0;34m\u001b[0m\u001b[0m\n\u001b[1;32m    550\u001b[0m             \u001b[0;32mif\u001b[0m \u001b[0;32mnot\u001b[0m \u001b[0msignaled\u001b[0m\u001b[0;34m:\u001b[0m\u001b[0;34m\u001b[0m\u001b[0m\n\u001b[0;32m--> 551\u001b[0;31m                 \u001b[0msignaled\u001b[0m \u001b[0;34m=\u001b[0m \u001b[0mself\u001b[0m\u001b[0;34m.\u001b[0m\u001b[0m_cond\u001b[0m\u001b[0;34m.\u001b[0m\u001b[0mwait\u001b[0m\u001b[0;34m(\u001b[0m\u001b[0mtimeout\u001b[0m\u001b[0;34m)\u001b[0m\u001b[0;34m\u001b[0m\u001b[0m\n\u001b[0m\u001b[1;32m    552\u001b[0m             \u001b[0;32mreturn\u001b[0m \u001b[0msignaled\u001b[0m\u001b[0;34m\u001b[0m\u001b[0m\n\u001b[1;32m    553\u001b[0m \u001b[0;34m\u001b[0m\u001b[0m\n",
      "\u001b[0;32m/home/adil/.pyenv/versions/3.6.1/lib/python3.6/threading.py\u001b[0m in \u001b[0;36mwait\u001b[0;34m(self, timeout)\u001b[0m\n\u001b[1;32m    293\u001b[0m         \u001b[0;32mtry\u001b[0m\u001b[0;34m:\u001b[0m    \u001b[0;31m# restore state no matter what (e.g., KeyboardInterrupt)\u001b[0m\u001b[0;34m\u001b[0m\u001b[0m\n\u001b[1;32m    294\u001b[0m             \u001b[0;32mif\u001b[0m \u001b[0mtimeout\u001b[0m \u001b[0;32mis\u001b[0m \u001b[0;32mNone\u001b[0m\u001b[0;34m:\u001b[0m\u001b[0;34m\u001b[0m\u001b[0m\n\u001b[0;32m--> 295\u001b[0;31m                 \u001b[0mwaiter\u001b[0m\u001b[0;34m.\u001b[0m\u001b[0macquire\u001b[0m\u001b[0;34m(\u001b[0m\u001b[0;34m)\u001b[0m\u001b[0;34m\u001b[0m\u001b[0m\n\u001b[0m\u001b[1;32m    296\u001b[0m                 \u001b[0mgotit\u001b[0m \u001b[0;34m=\u001b[0m \u001b[0;32mTrue\u001b[0m\u001b[0;34m\u001b[0m\u001b[0m\n\u001b[1;32m    297\u001b[0m             \u001b[0;32melse\u001b[0m\u001b[0;34m:\u001b[0m\u001b[0;34m\u001b[0m\u001b[0m\n",
      "\u001b[0;31mKeyboardInterrupt\u001b[0m: "
     ]
    }
   ],
   "source": [
    "pool = LoggingPool(processes=64)\n",
    "_time = time.time()\n",
    "    \n",
    "for idx, categoryId in enumerate(nums):\n",
    "    f = open('myNewData/text{}.txt'.format(categoryId), 'w')\n",
    "    data = np.load('myNewData/data{}.npy'.format(categoryId))\n",
    "    for tt in range(data[0].shape[0]):\n",
    "        categ = data[0][tt][0]\n",
    "        regul = data[0][tt][1]\n",
    "        if tt in data[1]:\n",
    "            urls = data[1][tt]\n",
    "            texts = pool.map(getText, urls)\n",
    "            textsToken = pool.map(morph_tokenizer, texts)\n",
    "            texts = [' '.join(i) for i in textsToken]\n",
    "#             print(len(texts))\n",
    "\n",
    "            for idx2, k in enumerate(texts):\n",
    "                f.write(categ + ' ' + regul + ' ' + urls[idx2] + ' ' + k +'\\n')\n",
    "    f.close()\n",
    "    sys.stdout.write('\\r' + str(idx+1) + '/' + str(len(nums)) + '\\t' + 'time: ' + str(time.time() - _time))"
   ]
  },
  {
   "cell_type": "code",
   "execution_count": 6,
   "metadata": {},
   "outputs": [],
   "source": [
    "# pool = LoggingPool(processes=64)\n",
    "# _time = time.time()\n",
    "\n",
    "# for idx, categoryId in enumerate(nums):\n",
    "#     f = open('data/categories/{}_urls.txt'.format(categoryId))\n",
    "#     lines = f.readlines()\n",
    "#     f.close()\n",
    "\n",
    "#     urls = [i.split(' ')[0].replace('\\n', '') for i in lines]\n",
    "#     texts = pool.map(getText, urls)\n",
    "#     textsToken = pool.map(morph_tokenizer, texts)\n",
    "#     texts = [' '.join(i) for i in textsToken]\n",
    "\n",
    "#     f = open('data/categories/{}_text.txt'.format(categoryId), 'w')\n",
    "#     for i in texts:\n",
    "#         f.write(i+'\\n')\n",
    "#     f.close()\n",
    "#     sys.stdout.write('\\r' + str(idx+1) + '/' + str(len(nums)) + '\\t' + 'time: ' + str(time.time() - _time))"
   ]
  },
  {
   "cell_type": "code",
   "execution_count": 97,
   "metadata": {},
   "outputs": [
    {
     "data": {
      "text/plain": [
       "83383"
      ]
     },
     "execution_count": 97,
     "metadata": {},
     "output_type": "execute_result"
    }
   ],
   "source": [
    "sm"
   ]
  },
  {
   "cell_type": "code",
   "execution_count": 41,
   "metadata": {
    "collapsed": true
   },
   "outputs": [],
   "source": [
    "def getText(domain):\n",
    "    \" Cкачать текст с главной страницы домена domain \"\n",
    "    try:    \n",
    "#         page = requests.get('http://'+domain)#, headers=headers0, timeout=100)\n",
    "        page = urllib.request.urlopen('http://'+domain)\n",
    "#         response = http.request('GET', 'http://'+domain)\n",
    "#         response\n",
    "        soup = BeautifulSoup(page.read(), 'html5lib')\n",
    "\n",
    "        for script in soup([\"script\", \"style\"]):\n",
    "            script.extract()\n",
    "\n",
    "        text = soup.get_text()\n",
    "#         lines = (line.strip() for line in text.splitlines())\n",
    "#         chunks = (phrase.strip() for line in lines for phrase in line.split(\"  \"))\n",
    "#         text = '\\n'.join(chunk for chunk in chunks if chunk)\n",
    "        \n",
    "    except:\n",
    "        text = 'NOTEXT'\n",
    "    return text"
   ]
  },
  {
   "cell_type": "code",
   "execution_count": 100,
   "metadata": {},
   "outputs": [
    {
     "name": "stderr",
     "output_type": "stream",
     "text": [
      "/home/adil/.pyenv/versions/3.6.1/envs/python3/lib/python3.6/site-packages/bs4/__init__.py:181: UserWarning: No parser was explicitly specified, so I'm using the best available HTML parser for this system (\"html5lib\"). This usually isn't a problem, but if you run this code on another system, or in a different virtual environment, it may use a different parser and behave differently.\n",
      "\n",
      "The code that caused this warning is on line 884 of the file /home/adil/.pyenv/versions/3.6.1/lib/python3.6/threading.py. To get rid of this warning, change code that looks like this:\n",
      "\n",
      " BeautifulSoup(YOUR_MARKUP})\n",
      "\n",
      "to this:\n",
      "\n",
      " BeautifulSoup(YOUR_MARKUP, \"html5lib\")\n",
      "\n",
      "  markup_type=markup_type))\n"
     ]
    },
    {
     "ename": "KeyboardInterrupt",
     "evalue": "",
     "output_type": "error",
     "traceback": [
      "\u001b[0;31m---------------------------------------------------------------------------\u001b[0m",
      "\u001b[0;31mKeyboardInterrupt\u001b[0m                         Traceback (most recent call last)",
      "\u001b[0;32m<ipython-input-100-2554c9892d61>\u001b[0m in \u001b[0;36m<module>\u001b[0;34m()\u001b[0m\n\u001b[1;32m      6\u001b[0m \u001b[0;34m\u001b[0m\u001b[0m\n\u001b[1;32m      7\u001b[0m \u001b[0murls\u001b[0m \u001b[0;34m=\u001b[0m \u001b[0;34m[\u001b[0m\u001b[0mi\u001b[0m\u001b[0;34m.\u001b[0m\u001b[0msplit\u001b[0m\u001b[0;34m(\u001b[0m\u001b[0;34m' '\u001b[0m\u001b[0;34m)\u001b[0m\u001b[0;34m[\u001b[0m\u001b[0;36m0\u001b[0m\u001b[0;34m]\u001b[0m\u001b[0;34m.\u001b[0m\u001b[0mreplace\u001b[0m\u001b[0;34m(\u001b[0m\u001b[0;34m'\\n'\u001b[0m\u001b[0;34m,\u001b[0m \u001b[0;34m''\u001b[0m\u001b[0;34m)\u001b[0m \u001b[0;32mfor\u001b[0m \u001b[0mi\u001b[0m \u001b[0;32min\u001b[0m \u001b[0mlines\u001b[0m\u001b[0;34m]\u001b[0m\u001b[0;34m\u001b[0m\u001b[0m\n\u001b[0;32m----> 8\u001b[0;31m \u001b[0mtexts\u001b[0m \u001b[0;34m=\u001b[0m \u001b[0mpool\u001b[0m\u001b[0;34m.\u001b[0m\u001b[0mmap\u001b[0m\u001b[0;34m(\u001b[0m\u001b[0mgetText\u001b[0m\u001b[0;34m,\u001b[0m \u001b[0murls\u001b[0m\u001b[0;34m)\u001b[0m\u001b[0;34m\u001b[0m\u001b[0m\n\u001b[0m\u001b[1;32m      9\u001b[0m \u001b[0mtextsToken\u001b[0m \u001b[0;34m=\u001b[0m \u001b[0mpool\u001b[0m\u001b[0;34m.\u001b[0m\u001b[0mmap\u001b[0m\u001b[0;34m(\u001b[0m\u001b[0mmorph_tokenizer\u001b[0m\u001b[0;34m,\u001b[0m \u001b[0mtexts\u001b[0m\u001b[0;34m)\u001b[0m\u001b[0;34m\u001b[0m\u001b[0m\n\u001b[1;32m     10\u001b[0m \u001b[0mtexts\u001b[0m \u001b[0;34m=\u001b[0m \u001b[0;34m[\u001b[0m\u001b[0;34m' '\u001b[0m\u001b[0;34m.\u001b[0m\u001b[0mjoin\u001b[0m\u001b[0;34m(\u001b[0m\u001b[0mi\u001b[0m\u001b[0;34m)\u001b[0m \u001b[0;32mfor\u001b[0m \u001b[0mi\u001b[0m \u001b[0;32min\u001b[0m \u001b[0mtextsToken\u001b[0m\u001b[0;34m]\u001b[0m\u001b[0;34m\u001b[0m\u001b[0m\n",
      "\u001b[0;32m/home/adil/.pyenv/versions/3.6.1/lib/python3.6/multiprocessing/pool.py\u001b[0m in \u001b[0;36mmap\u001b[0;34m(self, func, iterable, chunksize)\u001b[0m\n\u001b[1;32m    258\u001b[0m         \u001b[0;32min\u001b[0m \u001b[0ma\u001b[0m \u001b[0mlist\u001b[0m \u001b[0mthat\u001b[0m \u001b[0;32mis\u001b[0m \u001b[0mreturned\u001b[0m\u001b[0;34m.\u001b[0m\u001b[0;34m\u001b[0m\u001b[0m\n\u001b[1;32m    259\u001b[0m         '''\n\u001b[0;32m--> 260\u001b[0;31m         \u001b[0;32mreturn\u001b[0m \u001b[0mself\u001b[0m\u001b[0;34m.\u001b[0m\u001b[0m_map_async\u001b[0m\u001b[0;34m(\u001b[0m\u001b[0mfunc\u001b[0m\u001b[0;34m,\u001b[0m \u001b[0miterable\u001b[0m\u001b[0;34m,\u001b[0m \u001b[0mmapstar\u001b[0m\u001b[0;34m,\u001b[0m \u001b[0mchunksize\u001b[0m\u001b[0;34m)\u001b[0m\u001b[0;34m.\u001b[0m\u001b[0mget\u001b[0m\u001b[0;34m(\u001b[0m\u001b[0;34m)\u001b[0m\u001b[0;34m\u001b[0m\u001b[0m\n\u001b[0m\u001b[1;32m    261\u001b[0m \u001b[0;34m\u001b[0m\u001b[0m\n\u001b[1;32m    262\u001b[0m     \u001b[0;32mdef\u001b[0m \u001b[0mstarmap\u001b[0m\u001b[0;34m(\u001b[0m\u001b[0mself\u001b[0m\u001b[0;34m,\u001b[0m \u001b[0mfunc\u001b[0m\u001b[0;34m,\u001b[0m \u001b[0miterable\u001b[0m\u001b[0;34m,\u001b[0m \u001b[0mchunksize\u001b[0m\u001b[0;34m=\u001b[0m\u001b[0;32mNone\u001b[0m\u001b[0;34m)\u001b[0m\u001b[0;34m:\u001b[0m\u001b[0;34m\u001b[0m\u001b[0m\n",
      "\u001b[0;32m/home/adil/.pyenv/versions/3.6.1/lib/python3.6/multiprocessing/pool.py\u001b[0m in \u001b[0;36mget\u001b[0;34m(self, timeout)\u001b[0m\n\u001b[1;32m    600\u001b[0m \u001b[0;34m\u001b[0m\u001b[0m\n\u001b[1;32m    601\u001b[0m     \u001b[0;32mdef\u001b[0m \u001b[0mget\u001b[0m\u001b[0;34m(\u001b[0m\u001b[0mself\u001b[0m\u001b[0;34m,\u001b[0m \u001b[0mtimeout\u001b[0m\u001b[0;34m=\u001b[0m\u001b[0;32mNone\u001b[0m\u001b[0;34m)\u001b[0m\u001b[0;34m:\u001b[0m\u001b[0;34m\u001b[0m\u001b[0m\n\u001b[0;32m--> 602\u001b[0;31m         \u001b[0mself\u001b[0m\u001b[0;34m.\u001b[0m\u001b[0mwait\u001b[0m\u001b[0;34m(\u001b[0m\u001b[0mtimeout\u001b[0m\u001b[0;34m)\u001b[0m\u001b[0;34m\u001b[0m\u001b[0m\n\u001b[0m\u001b[1;32m    603\u001b[0m         \u001b[0;32mif\u001b[0m \u001b[0;32mnot\u001b[0m \u001b[0mself\u001b[0m\u001b[0;34m.\u001b[0m\u001b[0mready\u001b[0m\u001b[0;34m(\u001b[0m\u001b[0;34m)\u001b[0m\u001b[0;34m:\u001b[0m\u001b[0;34m\u001b[0m\u001b[0m\n\u001b[1;32m    604\u001b[0m             \u001b[0;32mraise\u001b[0m \u001b[0mTimeoutError\u001b[0m\u001b[0;34m\u001b[0m\u001b[0m\n",
      "\u001b[0;32m/home/adil/.pyenv/versions/3.6.1/lib/python3.6/multiprocessing/pool.py\u001b[0m in \u001b[0;36mwait\u001b[0;34m(self, timeout)\u001b[0m\n\u001b[1;32m    597\u001b[0m \u001b[0;34m\u001b[0m\u001b[0m\n\u001b[1;32m    598\u001b[0m     \u001b[0;32mdef\u001b[0m \u001b[0mwait\u001b[0m\u001b[0;34m(\u001b[0m\u001b[0mself\u001b[0m\u001b[0;34m,\u001b[0m \u001b[0mtimeout\u001b[0m\u001b[0;34m=\u001b[0m\u001b[0;32mNone\u001b[0m\u001b[0;34m)\u001b[0m\u001b[0;34m:\u001b[0m\u001b[0;34m\u001b[0m\u001b[0m\n\u001b[0;32m--> 599\u001b[0;31m         \u001b[0mself\u001b[0m\u001b[0;34m.\u001b[0m\u001b[0m_event\u001b[0m\u001b[0;34m.\u001b[0m\u001b[0mwait\u001b[0m\u001b[0;34m(\u001b[0m\u001b[0mtimeout\u001b[0m\u001b[0;34m)\u001b[0m\u001b[0;34m\u001b[0m\u001b[0m\n\u001b[0m\u001b[1;32m    600\u001b[0m \u001b[0;34m\u001b[0m\u001b[0m\n\u001b[1;32m    601\u001b[0m     \u001b[0;32mdef\u001b[0m \u001b[0mget\u001b[0m\u001b[0;34m(\u001b[0m\u001b[0mself\u001b[0m\u001b[0;34m,\u001b[0m \u001b[0mtimeout\u001b[0m\u001b[0;34m=\u001b[0m\u001b[0;32mNone\u001b[0m\u001b[0;34m)\u001b[0m\u001b[0;34m:\u001b[0m\u001b[0;34m\u001b[0m\u001b[0m\n",
      "\u001b[0;32m/home/adil/.pyenv/versions/3.6.1/lib/python3.6/threading.py\u001b[0m in \u001b[0;36mwait\u001b[0;34m(self, timeout)\u001b[0m\n\u001b[1;32m    549\u001b[0m             \u001b[0msignaled\u001b[0m \u001b[0;34m=\u001b[0m \u001b[0mself\u001b[0m\u001b[0;34m.\u001b[0m\u001b[0m_flag\u001b[0m\u001b[0;34m\u001b[0m\u001b[0m\n\u001b[1;32m    550\u001b[0m             \u001b[0;32mif\u001b[0m \u001b[0;32mnot\u001b[0m \u001b[0msignaled\u001b[0m\u001b[0;34m:\u001b[0m\u001b[0;34m\u001b[0m\u001b[0m\n\u001b[0;32m--> 551\u001b[0;31m                 \u001b[0msignaled\u001b[0m \u001b[0;34m=\u001b[0m \u001b[0mself\u001b[0m\u001b[0;34m.\u001b[0m\u001b[0m_cond\u001b[0m\u001b[0;34m.\u001b[0m\u001b[0mwait\u001b[0m\u001b[0;34m(\u001b[0m\u001b[0mtimeout\u001b[0m\u001b[0;34m)\u001b[0m\u001b[0;34m\u001b[0m\u001b[0m\n\u001b[0m\u001b[1;32m    552\u001b[0m             \u001b[0;32mreturn\u001b[0m \u001b[0msignaled\u001b[0m\u001b[0;34m\u001b[0m\u001b[0m\n\u001b[1;32m    553\u001b[0m \u001b[0;34m\u001b[0m\u001b[0m\n",
      "\u001b[0;32m/home/adil/.pyenv/versions/3.6.1/lib/python3.6/threading.py\u001b[0m in \u001b[0;36mwait\u001b[0;34m(self, timeout)\u001b[0m\n\u001b[1;32m    293\u001b[0m         \u001b[0;32mtry\u001b[0m\u001b[0;34m:\u001b[0m    \u001b[0;31m# restore state no matter what (e.g., KeyboardInterrupt)\u001b[0m\u001b[0;34m\u001b[0m\u001b[0m\n\u001b[1;32m    294\u001b[0m             \u001b[0;32mif\u001b[0m \u001b[0mtimeout\u001b[0m \u001b[0;32mis\u001b[0m \u001b[0;32mNone\u001b[0m\u001b[0;34m:\u001b[0m\u001b[0;34m\u001b[0m\u001b[0m\n\u001b[0;32m--> 295\u001b[0;31m                 \u001b[0mwaiter\u001b[0m\u001b[0;34m.\u001b[0m\u001b[0macquire\u001b[0m\u001b[0;34m(\u001b[0m\u001b[0;34m)\u001b[0m\u001b[0;34m\u001b[0m\u001b[0m\n\u001b[0m\u001b[1;32m    296\u001b[0m                 \u001b[0mgotit\u001b[0m \u001b[0;34m=\u001b[0m \u001b[0;32mTrue\u001b[0m\u001b[0;34m\u001b[0m\u001b[0m\n\u001b[1;32m    297\u001b[0m             \u001b[0;32melse\u001b[0m\u001b[0;34m:\u001b[0m\u001b[0;34m\u001b[0m\u001b[0m\n",
      "\u001b[0;31mKeyboardInterrupt\u001b[0m: "
     ]
    }
   ],
   "source": [
    "categoryId = 1458\n",
    "_time = time.time()\n",
    "f = open('data/categories/{}_urls.txt'.format(categoryId))\n",
    "lines = f.readlines()\n",
    "f.close()\n",
    "\n",
    "urls = [i.split(' ')[0].replace('\\n', '') for i in lines]\n",
    "texts = pool.map(getText, urls)\n",
    "textsToken = pool.map(morph_tokenizer, texts)\n",
    "texts = [' '.join(i) for i in textsToken]\n",
    "\n",
    "f = open('{}_text.txt'.format(categoryId), 'w')\n",
    "for i in texts:\n",
    "    f.write(i+'\\n')\n",
    "f.close()\n",
    "print(time.time() - _time)"
   ]
  },
  {
   "cell_type": "code",
   "execution_count": 14,
   "metadata": {
    "collapsed": true
   },
   "outputs": [],
   "source": [
    "categoryId = 1458\n",
    "_time = time.time()\n",
    "f = open('data/categories/{}_urls.txt'.format(categoryId))\n",
    "lines = f.readlines()\n",
    "f.close()\n",
    "\n",
    "urls = [i.split(' ')[0].replace('\\n', '') for i in lines]"
   ]
  },
  {
   "cell_type": "code",
   "execution_count": 42,
   "metadata": {},
   "outputs": [
    {
     "name": "stdout",
     "output_type": "stream",
     "text": [
      "131.08696937561035\n"
     ]
    }
   ],
   "source": [
    "pool = LoggingPool(processes=64)\n",
    "_time = time.time()\n",
    "texts = pool.map(getText, urls[:50])\n",
    "# textsToken = pool.map(morph_tokenizer, texts)\n",
    "# texts = [' '.join(i) for i in textsToken]\n",
    "print(time.time() - _time)"
   ]
  },
  {
   "cell_type": "code",
   "execution_count": null,
   "metadata": {
    "collapsed": true
   },
   "outputs": [],
   "source": [
    "texts"
   ]
  },
  {
   "cell_type": "code",
   "execution_count": 20,
   "metadata": {
    "collapsed": true
   },
   "outputs": [],
   "source": [
    "import urllib3\n",
    "import urllib"
   ]
  },
  {
   "cell_type": "code",
   "execution_count": 36,
   "metadata": {
    "collapsed": true
   },
   "outputs": [],
   "source": [
    "page = urllib.request.urlopen('http://'+urls[0])"
   ]
  },
  {
   "cell_type": "code",
   "execution_count": 44,
   "metadata": {
    "collapsed": true
   },
   "outputs": [
    {
     "name": "stdout",
     "output_type": "stream",
     "text": [
      "[91, 111, 106, 104, 101, 327, 331, 332, 335, 94, 346, 348, 352, 401, 798, 92, 245, 325, 97, 1198, 1124, 1126, 1205, 1206, 1183, 1204, 1186, 1187, 1188, 1190, 1191, 90, 147, 159, 161, 1080, 157, 1081, 1100, 1101, 1102, 1103, 150, 173, 174, 175, 443, 1099, 154, 176, 177, 178, 179, 180, 156, 158, 162, 163, 1104, 1237, 164, 165, 166, 167, 916, 919, 168, 169, 170, 171, 172, 917, 918, 1105, 89, 141, 142, 143, 139, 136, 137, 138, 133, 135, 134, 131, 126, 130, 129, 127, 128, 123, 125, 124, 116, 122, 119, 121, 120, 117, 118, 936, 105, 114, 115, 113, 112, 110, 108, 107, 937, 103, 93, 98, 102, 99, 100, 96, 95, 132, 144, 145, 146, 148, 149, 151, 152, 153, 457, 458, 637, 638, 459, 460, 461, 639, 640, 462, 464, 641, 466, 595, 596, 597, 636, 181, 182, 193, 200, 446, 197, 218, 219, 220, 221, 222, 223, 224, 225, 198, 201, 235, 202, 240, 243, 448, 449, 451, 452, 203, 204, 445, 970, 226, 228, 229, 230, 231, 227, 199, 249, 250, 263, 274, 276, 277, 1388, 1422, 292, 1389, 303, 306, 307, 308, 1384, 1385, 1386, 1387, 310, 312, 314, 316, 1424, 1145, 405, 406, 407, 408, 409, 410, 411, 412, 413, 414, 415, 416, 417, 418, 456, 419, 420, 421, 422, 838, 839, 840, 841, 842, 843, 884, 423, 424, 425, 426, 427, 1497, 428, 429, 430, 997, 1028, 1029, 1030, 1031, 1046, 1144, 1121, 1127, 1261, 1262, 1334, 1430, 431, 1189, 432, 433, 435, 436, 437, 439, 442, 453, 454, 1079, 705, 194, 196, 210, 1499, 1500, 1501, 706, 707, 708, 709, 711, 725, 712, 713, 714, 715, 716, 717, 767, 768, 1143, 1214, 1345, 720, 721, 722, 1213, 723, 474, 475, 476, 477, 478, 479, 480, 481, 482, 483, 484, 485, 486, 487, 488, 489, 490, 491, 492, 493, 494, 495, 496, 497, 498, 499, 500, 501, 502, 503, 504, 505, 506, 507, 560, 563, 564, 566, 570, 589, 1074, 576, 585, 578, 586, 579, 587, 583, 590, 591, 592, 1082, 598, 508, 509, 535, 510, 538, 1463, 539, 540, 547, 553, 554, 557, 573, 581, 1390, 892, 1219, 1377, 1234, 599, 605, 606, 607, 608, 609, 611, 610, 612, 601, 600, 603, 1464, 1465, 604, 1220, 1397, 1221, 1223, 613, 629, 1240, 1241, 1242, 1243, 1244, 1250, 1289, 614, 615, 616, 617, 618, 620, 621, 1327, 630, 1245, 1323, 1328, 631, 1320, 1321, 1322, 634, 1247, 1248, 1249, 1083, 619, 1292, 1294, 1084, 1326, 1286, 1288, 1290, 622, 623, 624, 625, 626, 627, 628, 635, 1291, 1295, 1299, 1316, 1317, 632, 1246, 1252, 1253, 1254, 1255, 633, 1296, 1297, 1298, 1318, 1319, 1324, 1325, 1287, 1293, 1236, 1376, 1455, 1456, 1457, 1458, 1461, 1462, 642, 643, 648, 649, 1182, 650, 959, 651, 652, 1157, 653, 654, 759, 644, 655, 1158, 656, 657, 658, 645, 659, 660, 1227, 647, 664, 1235, 1348, 1378, 1353, 1356, 1355, 1360, 1362, 1365, 1366, 1367, 1368, 1382, 1383, 1369, 1370, 1371, 1372, 661, 646, 662, 663, 799, 1132, 1133, 668, 669, 674, 1229, 672, 673, 676, 677, 695, 697, 698, 699, 700, 670, 678, 679, 680, 683, 701, 702, 703, 704, 681, 1215, 1216, 1217, 1315, 728, 729, 730, 732, 733, 769, 770, 771, 772, 773, 774, 775, 776, 1222, 734, 738, 739, 762, 743, 745, 747, 748, 764, 744, 749, 754, 755, 757, 750, 752, 753, 777, 836, 844, 845, 1494, 1495, 1496, 846, 1407, 1415, 1418, 1420, 1451, 1409, 1414, 1492, 1493, 849, 850, 887, 847, 1406, 1410, 1413, 1416, 1417, 1452, 1419, 1453, 1485, 1486, 848, 888, 1412, 1487, 1488, 1489, 1490, 890, 891, 1421, 1408, 889, 1411, 851, 853, 852, 857, 858, 859, 1146, 1147, 1148, 1338, 1339, 1340, 1341, 854, 855, 856, 1276, 860, 861, 862, 885, 886, 1238, 1239, 1263, 1264, 1265, 1266, 1267, 1268, 1269, 1270, 1271, 1272, 1273, 1274, 1275, 1285, 1278, 1279, 1280, 1281, 1284, 778, 779, 780, 781, 782, 783, 784, 785, 786, 800, 801, 787, 791, 790, 792, 793, 795, 796, 797, 802, 803, 804, 805, 1427, 1159, 1391, 808, 809, 811, 812, 1260, 813, 1392, 810, 866, 958, 1059, 1060, 1062, 1063, 1064, 1065, 1066, 1067, 1068, 1069, 1070, 1071, 1072, 1073, 1141, 1142, 1380, 1423, 1160, 1473, 788, 806, 807, 814, 815, 816, 817, 818, 819, 820, 821, 822, 823, 824, 825, 1119, 1107, 1122, 1330, 826, 827, 828, 829, 830, 831, 832, 833, 834, 835, 1108, 867, 868, 869, 1096, 1231, 1232, 1233, 1098, 1503, 870, 871, 872, 873, 874, 875, 1011, 1018, 1019, 1109, 1110, 1111, 1112, 1113, 1114, 1115, 1116, 1117, 1118, 1200, 1202, 1203, 1225, 1498, 876, 877, 878, 879, 881, 882, 883, 1364, 893, 894, 948, 949, 950, 912, 913, 946, 947, 1396, 914, 915, 943, 944, 945, 951, 952, 920, 921, 922, 923, 924, 925, 684, 686, 1230, 926, 1329, 927, 928, 930, 938, 940, 931, 932, 933, 934, 935, 1403, 1404, 1405, 1047, 1052, 1053, 1054, 1049, 1050, 1051, 1055, 1256, 1123, 1258, 1048, 1257, 1259, 960, 961, 972, 962, 963, 964, 965, 973, 974, 975, 976, 977, 978, 979, 966, 967, 968, 969, 971, 980, 982, 985, 880, 989, 986, 987, 988, 1502, 1001, 1002, 1004, 1005, 1006, 1007, 1131, 990, 991, 993, 994, 995, 992, 1128, 1129, 1130, 1033, 1057, 1058, 1034, 1056, 1038, 1039, 1043, 1044, 1035, 1040, 1042, 1045, 1036, 1135, 1218, 1426, 1467, 1037]\n"
     ]
    }
   ],
   "source": [
    "print(nums)"
   ]
  },
  {
   "cell_type": "code",
   "execution_count": 2,
   "metadata": {
    "collapsed": true
   },
   "outputs": [],
   "source": [
    "nums = [91, 111, 106, 104, 101, 327, 331, 332, 335, 94, 346, 348, 352, 401, 798, 92, 245, 325, 97, 1198, 1124, 1126, 1205, 1206, 1183, 1204, 1186, 1187, 1188, 1190, 1191, 90, 147, 159, 161, 1080, 157, 1081, 1100, 1101, 1102, 1103, 150, 173, 174, 175, 443, 1099, 154, 176, 177, 178, 179, 180, 156, 158, 162, 163, 1104, 1237, 164, 165, 166, 167, 916, 919, 168, 169, 170, 171, 172, 917, 918, 1105, 89, 141, 142, 143, 139, 136, 137, 138, 133, 135, 134, 131, 126, 130, 129, 127, 128, 123, 125, 124, 116, 122, 119, 121, 120, 117, 118, 936, 105, 114, 115, 113, 112, 110, 108, 107, 937, 103, 93, 98, 102, 99, 100, 96, 95, 132, 144, 145, 146, 148, 149, 151, 152, 153, 457, 458, 637, 638, 459, 460, 461, 639, 640, 462, 464, 641, 466, 595, 596, 597, 636, 181, 182, 193, 200, 446, 197, 218, 219, 220, 221, 222, 223, 224, 225, 198, 201, 235, 202, 240, 243, 448, 449, 451, 452, 203, 204, 445, 970, 226, 228, 229, 230, 231, 227, 199, 249, 250, 263, 274, 276, 277, 1388, 1422, 292, 1389, 303, 306, 307, 308, 1384, 1385, 1386, 1387, 310, 312, 314, 316, 1424, 1145, 405, 406, 407, 408, 409, 410, 411, 412, 413, 414, 415, 416, 417, 418, 456, 419, 420, 421, 422, 838, 839, 840, 841, 842, 843, 884, 423, 424, 425, 426, 427, 1497, 428, 429, 430, 997, 1028, 1029, 1030, 1031, 1046, 1144, 1121, 1127, 1261, 1262, 1334, 1430, 431, 1189, 432, 433, 435, 436, 437, 439, 442, 453, 454, 1079, 705, 194, 196, 210, 1499, 1500, 1501, 706, 707, 708, 709, 711, 725, 712, 713, 714, 715, 716, 717, 767, 768, 1143, 1214, 1345, 720, 721, 722, 1213, 723, 474, 475, 476, 477, 478, 479, 480, 481, 482, 483, 484, 485, 486, 487, 488, 489, 490, 491, 492, 493, 494, 495, 496, 497, 498, 499, 500, 501, 502, 503, 504, 505, 506, 507, 560, 563, 564, 566, 570, 589, 1074, 576, 585, 578, 586, 579, 587, 583, 590, 591, 592, 1082, 598, 508, 509, 535, 510, 538, 1463, 539, 540, 547, 553, 554, 557, 573, 581, 1390, 892, 1219, 1377, 1234, 599, 605, 606, 607, 608, 609, 611, 610, 612, 601, 600, 603, 1464, 1465, 604, 1220, 1397, 1221, 1223, 613, 629, 1240, 1241, 1242, 1243, 1244, 1250, 1289, 614, 615, 616, 617, 618, 620, 621, 1327, 630, 1245, 1323, 1328, 631, 1320, 1321, 1322, 634, 1247, 1248, 1249, 1083, 619, 1292, 1294, 1084, 1326, 1286, 1288, 1290, 622, 623, 624, 625, 626, 627, 628, 635, 1291, 1295, 1299, 1316, 1317, 632, 1246, 1252, 1253, 1254, 1255, 633, 1296, 1297, 1298, 1318, 1319, 1324, 1325, 1287, 1293, 1236, 1376, 1455, 1456, 1457, 1458, 1461, 1462, 642, 643, 648, 649, 1182, 650, 959, 651, 652, 1157, 653, 654, 759, 644, 655, 1158, 656, 657, 658, 645, 659, 660, 1227, 647, 664, 1235, 1348, 1378, 1353, 1356, 1355, 1360, 1362, 1365, 1366, 1367, 1368, 1382, 1383, 1369, 1370, 1371, 1372, 661, 646, 662, 663, 799, 1132, 1133, 668, 669, 674, 1229, 672, 673, 676, 677, 695, 697, 698, 699, 700, 670, 678, 679, 680, 683, 701, 702, 703, 704, 681, 1215, 1216, 1217, 1315, 728, 729, 730, 732, 733, 769, 770, 771, 772, 773, 774, 775, 776, 1222, 734, 738, 739, 762, 743, 745, 747, 748, 764, 744, 749, 754, 755, 757, 750, 752, 753, 777, 836, 844, 845, 1494, 1495, 1496, 846, 1407, 1415, 1418, 1420, 1451, 1409, 1414, 1492, 1493, 849, 850, 887, 847, 1406, 1410, 1413, 1416, 1417, 1452, 1419, 1453, 1485, 1486, 848, 888, 1412, 1487, 1488, 1489, 1490, 890, 891, 1421, 1408, 889, 1411, 851, 853, 852, 857, 858, 859, 1146, 1147, 1148, 1338, 1339, 1340, 1341, 854, 855, 856, 1276, 860, 861, 862, 885, 886, 1238, 1239, 1263, 1264, 1265, 1266, 1267, 1268, 1269, 1270, 1271, 1272, 1273, 1274, 1275, 1285, 1278, 1279, 1280, 1281, 1284, 778, 779, 780, 781, 782, 783, 784, 785, 786, 800, 801, 787, 791, 790, 792, 793, 795, 796, 797, 802, 803, 804, 805, 1427, 1159, 1391, 808, 809, 811, 812, 1260, 813, 1392, 810, 866, 958, 1059, 1060, 1062, 1063, 1064, 1065, 1066, 1067, 1068, 1069, 1070, 1071, 1072, 1073, 1141, 1142, 1380, 1423, 1160, 1473, 788, 806, 807, 814, 815, 816, 817, 818, 819, 820, 821, 822, 823, 824, 825, 1119, 1107, 1122, 1330, 826, 827, 828, 829, 830, 831, 832, 833, 834, 835, 1108, 867, 868, 869, 1096, 1231, 1232, 1233, 1098, 1503, 870, 871, 872, 873, 874, 875, 1011, 1018, 1019, 1109, 1110, 1111, 1112, 1113, 1114, 1115, 1116, 1117, 1118, 1200, 1202, 1203, 1225, 1498, 876, 877, 878, 879, 881, 882, 883, 1364, 893, 894, 948, 949, 950, 912, 913, 946, 947, 1396, 914, 915, 943, 944, 945, 951, 952, 920, 921, 922, 923, 924, 925, 684, 686, 1230, 926, 1329, 927, 928, 930, 938, 940, 931, 932, 933, 934, 935, 1403, 1404, 1405, 1047, 1052, 1053, 1054, 1049, 1050, 1051, 1055, 1256, 1123, 1258, 1048, 1257, 1259, 960, 961, 972, 962, 963, 964, 965, 973, 974, 975, 976, 977, 978, 979, 966, 967, 968, 969, 971, 980, 982, 985, 880, 989, 986, 987, 988, 1502, 1001, 1002, 1004, 1005, 1006, 1007, 1131, 990, 991, 993, 994, 995, 992, 1128, 1129, 1130, 1033, 1057, 1058, 1034, 1056, 1038, 1039, 1043, 1044, 1035, 1040, 1042, 1045, 1036, 1135, 1218, 1426, 1467, 1037]"
   ]
  },
  {
   "cell_type": "code",
   "execution_count": 3,
   "metadata": {},
   "outputs": [
    {
     "data": {
      "text/plain": [
       "123795"
      ]
     },
     "execution_count": 3,
     "metadata": {},
     "output_type": "execute_result"
    }
   ],
   "source": [
    "sm = 0\n",
    "for idx, categoryId in enumerate(nums):\n",
    "    f = open('data/categories/{}_urls.txt'.format(categoryId))\n",
    "    lines = f.readlines()\n",
    "    sm += len(lines)\n",
    "    f.close()\n",
    "sm"
   ]
  },
  {
   "cell_type": "code",
   "execution_count": 4,
   "metadata": {},
   "outputs": [
    {
     "data": {
      "text/plain": [
       "83395"
      ]
     },
     "execution_count": 4,
     "metadata": {},
     "output_type": "execute_result"
    }
   ],
   "source": [
    "sm = 0\n",
    "for idx, categoryId in enumerate(nums):\n",
    "    f = open('data/categories/{}_urls.txt'.format(categoryId))\n",
    "    lines = f.readlines()\n",
    "    sm += len(lines)\n",
    "    f.close()\n",
    "    if idx == 579:\n",
    "        break\n",
    "sm"
   ]
  },
  {
   "cell_type": "code",
   "execution_count": null,
   "metadata": {
    "collapsed": true
   },
   "outputs": [],
   "source": []
  }
 ],
 "metadata": {
  "kernelspec": {
   "display_name": "Python 3",
   "language": "python",
   "name": "python3"
  },
  "language_info": {
   "codemirror_mode": {
    "name": "ipython",
    "version": 3
   },
   "file_extension": ".py",
   "mimetype": "text/x-python",
   "name": "python",
   "nbconvert_exporter": "python",
   "pygments_lexer": "ipython3",
   "version": "3.6.1"
  }
 },
 "nbformat": 4,
 "nbformat_minor": 2
}
