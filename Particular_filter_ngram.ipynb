{
 "cells": [
  {
   "cell_type": "code",
   "execution_count": 1,
   "metadata": {
    "collapsed": true
   },
   "outputs": [],
   "source": [
    "from bs4 import BeautifulSoup\n",
    "from multiprocessing.pool import ThreadPool\n",
    "import numpy as np\n",
    "import pandas as pd\n",
    "import make_data\n",
    "import datetime\n",
    "import requests\n",
    "import glob\n",
    "import sys\n",
    "import os\n",
    "import json\n",
    "import time\n",
    "import re"
   ]
  },
  {
   "cell_type": "code",
   "execution_count": 2,
   "metadata": {
    "collapsed": true
   },
   "outputs": [],
   "source": [
    "names = [405, 406, 407, 408, 409, 410, 411, 412, 413, 414, 415, 416, 417, 418, 456, 419, 420, 421, 422, 838, 839, 840, 841, 842, 843, 884, 423, 424, 425, 426, 427, 1497, 428, 429, 430, 997, 1028, 1029, 1030, 1031, 1046, 1144, 1121, 1127, 1261, 1262, 1334, 1430]"
   ]
  },
  {
   "cell_type": "code",
   "execution_count": 3,
   "metadata": {},
   "outputs": [
    {
     "data": {
      "text/plain": [
       "48"
      ]
     },
     "execution_count": 3,
     "metadata": {},
     "output_type": "execute_result"
    }
   ],
   "source": [
    "len(names)"
   ]
  },
  {
   "cell_type": "code",
   "execution_count": 4,
   "metadata": {},
   "outputs": [
    {
     "name": "stdout",
     "output_type": "stream",
     "text": [
      "7238\n"
     ]
    }
   ],
   "source": [
    "sm = 0\n",
    "for i in names:\n",
    "    f = open('data/categories/{}_urls.txt'.format(i))\n",
    "    lines = f.readlines()\n",
    "    sm += len(lines)\n",
    "    f.close()\n",
    "print(sm)"
   ]
  },
  {
   "cell_type": "raw",
   "metadata": {
    "collapsed": true
   },
   "source": [
    "headers0 = {\n",
    "    'user-agent': 'Mozilla/5.0 (Macintosh; Intel Mac OS X 10.11; rv:48.0) Gecko/20100101 Firefox/48.0',\n",
    "    'accept': \"text/html,application/xhtml+xml,application/xml;q=0.9,*/*;q=0.8\",\n",
    "    'accept-language': 'ru-RU,ru;q=0.8,en-US;q=0.5,en;q=0.3',\n",
    "    'keep-alive': 'keep-alive',\n",
    "    'cache-control': 'max-age=0',\n",
    "}"
   ]
  },
  {
   "cell_type": "raw",
   "metadata": {},
   "source": [
    "URL = 'http://admining.hadoop1.corp.mail.ru/login/'\n",
    "logn = 'a.tleubayev'\n",
    "passwd = ''\n",
    "client = requests.session()\n",
    "\n",
    "client.get(URL)\n",
    "csrftoken = client.cookies['csrftoken']\n",
    "\n",
    "login_data = dict(username=logn, password=passwd,\n",
    "                  csrfmiddlewaretoken=csrftoken, next='/')\n",
    "r = client.post(URL, data=login_data, headers=dict(Referer=URL))\n",
    "\n",
    "if len(r.content) < 5000:\n",
    "    print('Неверно введен логин или пароль')\n",
    "    exit(1)"
   ]
  },
  {
   "cell_type": "raw",
   "metadata": {
    "collapsed": true
   },
   "source": [
    "url = 'http://admining.hadoop1.corp.mail.ru/api/load_tree/'\n",
    "try:\n",
    "    page = requests.get(url, timeout=10)\n",
    "except requests.exceptions.Timeout:\n",
    "    print('Ошибка подключения к admining.hadoop1.corp.mail.ru, проверьте подключение к VPN.')\n",
    "    exit(1)\n",
    "soup = BeautifulSoup(page.content, 'html.parser')\n",
    "tree = json.loads(str(soup))"
   ]
  },
  {
   "cell_type": "code",
   "execution_count": 5,
   "metadata": {
    "collapsed": true
   },
   "outputs": [],
   "source": [
    "tree = np.load('data/tree.npy')"
   ]
  },
  {
   "cell_type": "code",
   "execution_count": 6,
   "metadata": {
    "collapsed": true
   },
   "outputs": [],
   "source": [
    "def dfs(tree, parents, childrens):\n",
    "    mas = []\n",
    "    if tree['children'] != None:\n",
    "        for i in tree['children']:\n",
    "            parents[i['a_attr']['title'].split('.')[0]] = tree['a_attr']['title'].split('.')[0]\n",
    "            mas.extend([i['a_attr']['title'].split('.')[0]])\n",
    "            dfs(i, parents, childrens)\n",
    "    childrens[tree['a_attr']['title'].split('.')[0]] = mas"
   ]
  },
  {
   "cell_type": "code",
   "execution_count": 7,
   "metadata": {
    "collapsed": true
   },
   "outputs": [],
   "source": [
    "parents = {'0':'0'}\n",
    "childrens = {}\n",
    "for i in tree:\n",
    "    parents[i['a_attr']['title'].split('.')[0]] = '0'\n",
    "    dfs(i, parents, childrens)"
   ]
  },
  {
   "cell_type": "code",
   "execution_count": 8,
   "metadata": {
    "collapsed": true
   },
   "outputs": [],
   "source": [
    "def getData(tree, names, allUrls, parent_numb, st):\n",
    "    dataUrls = []\n",
    "    dataText = []\n",
    "    dataCategories = []\n",
    "    \n",
    "    number = int(tree['a_attr']['title'].split('.')[0])\n",
    "    if number in names and number in files:\n",
    "        f = open('data/filterData/categories/{}.txt'.format(number))\n",
    "        lines = f.readlines()\n",
    "        categUrls = [i.split(', ', 1)[0] for i in lines]\n",
    "        categText = [i.split(', ', 1)[1] for i in lines]\n",
    "        f.close()\n",
    "        \n",
    "        for i in range(len(categUrls)):\n",
    "            if categUrls[i] not in allUrls:\n",
    "                dataUrls.extend([categUrls[i]])\n",
    "                dataText.append([categText[i].replace('\\n', '')])\n",
    "                dataCategories.extend([number])\n",
    "\n",
    "                allUrls.add(categUrls[i])\n",
    "            \n",
    "    if len(tree['children']) != 0:\n",
    "        for i in tree['children']:\n",
    "            a, b, c = getData(i, names, allUrls, number, st)\n",
    "            dataUrls.extend(a)\n",
    "            dataText.extend(b)\n",
    "            dataCategories.extend(c)\n",
    "    \n",
    "    else:\n",
    "        if number in names and number in files \\\n",
    "            and (len(categUrls) - len(dataUrls)) / len(categUrls) > 0.8:\n",
    "            dataCategories = (np.ones(len(dataCategories)) * parent_numb).tolist()\n",
    "\n",
    "    return dataUrls, dataText, dataCategories"
   ]
  },
  {
   "cell_type": "code",
   "execution_count": 9,
   "metadata": {
    "collapsed": true
   },
   "outputs": [],
   "source": [
    "files = glob.glob('data/filterData/categories/*')\n",
    "files = [int(i[27:].split('.')[0]) for i in files]"
   ]
  },
  {
   "cell_type": "code",
   "execution_count": 10,
   "metadata": {
    "collapsed": true
   },
   "outputs": [],
   "source": [
    "allUrls = set()\n",
    "dataUrls = []\n",
    "dataText = []\n",
    "dataCategories = []\n",
    "st = '   '\n",
    "parent_numb = 1\n",
    "for i in tree:\n",
    "    a, b, c = getData(i, names, allUrls, parent_numb, st)\n",
    "    dataUrls.extend(a)\n",
    "    dataText.extend(b)\n",
    "    dataCategories.extend(c)"
   ]
  },
  {
   "cell_type": "code",
   "execution_count": 11,
   "metadata": {
    "collapsed": true
   },
   "outputs": [],
   "source": [
    "dataUrls = np.array(dataUrls)\n",
    "dataText = np.array(dataText,  dtype='O')\n",
    "dataCategories = np.array(dataCategories)"
   ]
  },
  {
   "cell_type": "code",
   "execution_count": 12,
   "metadata": {},
   "outputs": [
    {
     "data": {
      "text/plain": [
       "47"
      ]
     },
     "execution_count": 12,
     "metadata": {},
     "output_type": "execute_result"
    }
   ],
   "source": [
    "len(set(dataCategories))"
   ]
  },
  {
   "cell_type": "code",
   "execution_count": 13,
   "metadata": {},
   "outputs": [
    {
     "data": {
      "text/plain": [
       "6255"
      ]
     },
     "execution_count": 13,
     "metadata": {},
     "output_type": "execute_result"
    }
   ],
   "source": [
    "len(dataUrls)"
   ]
  },
  {
   "cell_type": "code",
   "execution_count": 14,
   "metadata": {
    "collapsed": true
   },
   "outputs": [],
   "source": [
    "dataAns = [(dataUrls[i], dataCategories[i]) for i in range(dataUrls.shape[0])]"
   ]
  },
  {
   "cell_type": "code",
   "execution_count": 15,
   "metadata": {
    "collapsed": true
   },
   "outputs": [],
   "source": [
    "from sklearn.model_selection import train_test_split"
   ]
  },
  {
   "cell_type": "code",
   "execution_count": 16,
   "metadata": {
    "collapsed": true
   },
   "outputs": [],
   "source": [
    "trainText, testText, trainAns, testAns = \\\n",
    "    train_test_split(dataText, dataAns, test_size=0.2)"
   ]
  },
  {
   "cell_type": "code",
   "execution_count": 17,
   "metadata": {},
   "outputs": [
    {
     "name": "stderr",
     "output_type": "stream",
     "text": [
      "/home/adil/.pyenv/versions/3.6.1/envs/python3/lib/python3.6/site-packages/sklearn/cross_validation.py:44: DeprecationWarning: This module was deprecated in version 0.18 in favor of the model_selection module into which all the refactored classes and functions are moved. Also note that the interface of the new CV iterators are different from that of this module. This module will be removed in 0.20.\n",
      "  \"This module will be removed in 0.20.\", DeprecationWarning)\n"
     ]
    }
   ],
   "source": [
    "from sklearn.feature_extraction.text import TfidfVectorizer\n",
    "from sklearn.neighbors import NearestCentroid, KNeighborsClassifier, NearestNeighbors\n",
    "from sklearn.cross_validation import cross_val_score\n",
    "from sklearn.multiclass import OneVsRestClassifier, OneVsOneClassifier\n",
    "from sklearn.svm import SVC\n",
    "from sklearn.metrics import accuracy_score, f1_score, roc_auc_score, confusion_matrix\n",
    "from sklearn.linear_model import RidgeClassifier, LinearRegression, LogisticRegression"
   ]
  },
  {
   "cell_type": "code",
   "execution_count": 18,
   "metadata": {
    "collapsed": true
   },
   "outputs": [],
   "source": [
    "trainText = np.load('data/filterData/patTrainText.npy')\n",
    "trainAns = np.load('data/filterData/patTrainAns.npy')\n",
    "testText = np.load('data/filterData/patTestText.npy')\n",
    "testAns = np.load('data/filterData/patTestAns.npy')"
   ]
  },
  {
   "cell_type": "code",
   "execution_count": 19,
   "metadata": {
    "collapsed": true
   },
   "outputs": [],
   "source": [
    "f = open('fasttext/train.txt', 'w')\n",
    "for i in range(trainText.shape[0]):\n",
    "    f.writelines('__label__'+trainAns[i][1]+' '+trainText[i]+'\\n')\n",
    "f.close()\n",
    "\n",
    "f = open('fasttext/testA.txt', 'w')\n",
    "for i in range(testText.shape[0]):\n",
    "    f.writelines('__label__'+testAns[i][1]+' '+testText[i]+'\\n')\n",
    "f.close()\n",
    "\n",
    "f = open('fasttext/testN.txt', 'w')\n",
    "for i in range(testText.shape[0]):\n",
    "    f.writelines(testText[i]+'\\n')\n",
    "f.close()"
   ]
  },
  {
   "cell_type": "code",
   "execution_count": 20,
   "metadata": {
    "collapsed": true
   },
   "outputs": [],
   "source": [
    "trainCategory = [float(i[1]) for i in trainAns]\n",
    "testCategory = [float(i[1]) for i in testAns]"
   ]
  },
  {
   "cell_type": "code",
   "execution_count": 22,
   "metadata": {
    "collapsed": true
   },
   "outputs": [],
   "source": [
    "f = open('fasttext/ans.txt')\n",
    "lines = f.readlines()\n",
    "predict = np.array([float(i.replace('__label__', '').replace('\\n', '')) for i in lines])"
   ]
  },
  {
   "cell_type": "code",
   "execution_count": 23,
   "metadata": {},
   "outputs": [
    {
     "name": "stdout",
     "output_type": "stream",
     "text": [
      "0.701838529177\n",
      "0.7897681854516387\n"
     ]
    }
   ],
   "source": [
    "sm = 0\n",
    "print(accuracy_score(testCategory, predict))\n",
    "for i in range(len(testCategory)):\n",
    "    if testCategory[i] == predict[i] or \\\n",
    "        parents[str(int(testCategory[i]))] == str(int(predict[i])) or\\\n",
    "        str(int(predict[i])) in childrens[str(int(testCategory[i]))]:\n",
    "        sm += 1\n",
    "print(sm / len(testCategory))"
   ]
  },
  {
   "cell_type": "code",
   "execution_count": 21,
   "metadata": {},
   "outputs": [
    {
     "ename": "FileNotFoundError",
     "evalue": "[Errno 2] No such file or directory: 'fasttext/ans.txt'",
     "output_type": "error",
     "traceback": [
      "\u001b[0;31m---------------------------------------------------------------------------\u001b[0m",
      "\u001b[0;31mFileNotFoundError\u001b[0m                         Traceback (most recent call last)",
      "\u001b[0;32m<ipython-input-21-2ca9198fb543>\u001b[0m in \u001b[0;36m<module>\u001b[0;34m()\u001b[0m\n\u001b[1;32m      1\u001b[0m \u001b[0;32mimport\u001b[0m \u001b[0mos\u001b[0m\u001b[0;34m\u001b[0m\u001b[0m\n\u001b[0;32m----> 2\u001b[0;31m \u001b[0mos\u001b[0m\u001b[0;34m.\u001b[0m\u001b[0mremove\u001b[0m\u001b[0;34m(\u001b[0m\u001b[0;34m'fasttext/ans.txt'\u001b[0m\u001b[0;34m)\u001b[0m\u001b[0;34m\u001b[0m\u001b[0m\n\u001b[0m",
      "\u001b[0;31mFileNotFoundError\u001b[0m: [Errno 2] No such file or directory: 'fasttext/ans.txt'"
     ]
    }
   ],
   "source": [
    "import os\n",
    "os.remove('fasttext/ans.txt')"
   ]
  },
  {
   "cell_type": "code",
   "execution_count": null,
   "metadata": {
    "collapsed": true
   },
   "outputs": [],
   "source": []
  },
  {
   "cell_type": "code",
   "execution_count": null,
   "metadata": {
    "collapsed": true
   },
   "outputs": [],
   "source": []
  },
  {
   "cell_type": "code",
   "execution_count": null,
   "metadata": {
    "collapsed": true
   },
   "outputs": [],
   "source": []
  },
  {
   "cell_type": "code",
   "execution_count": 49,
   "metadata": {
    "collapsed": true
   },
   "outputs": [],
   "source": [
    "trainCategory = [float(i[1]) for i in trainAns]\n",
    "testCategory = [float(i[1]) for i in testAns]"
   ]
  },
  {
   "cell_type": "code",
   "execution_count": 16,
   "metadata": {
    "collapsed": true
   },
   "outputs": [],
   "source": [
    "trainTexts = trainText\n",
    "testTexts = testText"
   ]
  },
  {
   "cell_type": "raw",
   "metadata": {},
   "source": [
    "words = {}\n",
    "for i in trainText:\n",
    "    for j in i[0].split():\n",
    "        if j in words:\n",
    "            words[j] += 1\n",
    "        else:\n",
    "            words[j] = 1"
   ]
  },
  {
   "cell_type": "raw",
   "metadata": {
    "collapsed": true
   },
   "source": [
    "mas = [[x,y] for x,y in list(words.items())]\n",
    "mas = np.array(mas, dtype='O')\n",
    "wordsSort = mas[mas[:,1].argsort()]\n",
    "oneWord = wordsSort[wordsSort[:,1] < 5][:,0]\n",
    "\n",
    "stopWord = {i:0 for i in oneWord}"
   ]
  },
  {
   "cell_type": "raw",
   "metadata": {
    "collapsed": true
   },
   "source": [
    "mas = [[x,y] for x,y in list(words.items())]\n",
    "mas = np.array(mas, dtype='O')\n",
    "wordsSort = mas[mas[:,1].argsort()]\n",
    "oneWord = wordsSort[wordsSort[:,1] < 5][:,0]\n",
    "\n",
    "stopWord = {i:0 for i in oneWord}"
   ]
  },
  {
   "cell_type": "raw",
   "metadata": {
    "collapsed": true
   },
   "source": [
    "for idx, i in enumerate(trainText):\n",
    "    for j in i[0].split():\n",
    "        if j in stopWord:\n",
    "            stopWord[j] = idx"
   ]
  },
  {
   "cell_type": "raw",
   "metadata": {
    "collapsed": true
   },
   "source": [
    "_time = time.time()\n",
    "for i in stopWord:\n",
    "    trainText[stopWord[i], 0] = trainText[stopWord[i], 0].replace(i, '')\n",
    "print(time.time() - _time)"
   ]
  },
  {
   "cell_type": "code",
   "execution_count": 19,
   "metadata": {
    "collapsed": true
   },
   "outputs": [],
   "source": [
    "trainTexts = [i[0] for i in trainText]\n",
    "testTexts = [i[0] for i in testText]"
   ]
  },
  {
   "cell_type": "markdown",
   "metadata": {},
   "source": [
    "### tf-idf"
   ]
  },
  {
   "cell_type": "code",
   "execution_count": 37,
   "metadata": {
    "collapsed": true
   },
   "outputs": [],
   "source": [
    "tfidfTransformer = TfidfVectorizer(ngram_range=(1,3))\n",
    "trainFeatures  = tfidfTransformer.fit_transform(trainTexts)\n",
    "testFeatures = tfidfTransformer.transform(testTexts)"
   ]
  },
  {
   "cell_type": "code",
   "execution_count": 38,
   "metadata": {},
   "outputs": [
    {
     "data": {
      "text/plain": [
       "<5003x4368432 sparse matrix of type '<class 'numpy.float64'>'\n",
       "\twith 7253108 stored elements in Compressed Sparse Row format>"
      ]
     },
     "execution_count": 38,
     "metadata": {},
     "output_type": "execute_result"
    }
   ],
   "source": [
    "trainFeatures"
   ]
  },
  {
   "cell_type": "code",
   "execution_count": 22,
   "metadata": {
    "collapsed": true
   },
   "outputs": [],
   "source": [
    "# from sklearn.feature_extraction.text import CountVectorizer"
   ]
  },
  {
   "cell_type": "code",
   "execution_count": 21,
   "metadata": {
    "collapsed": true
   },
   "outputs": [],
   "source": [
    "# ngramTransformer = CountVectorizer(ngram_range=(3,3))\n",
    "# trainFeatures = ngramTransformer.fit_transform(trainTexts)\n",
    "# testFeatures = ngramTransformer.transform(testTexts)"
   ]
  },
  {
   "cell_type": "raw",
   "metadata": {
    "collapsed": true
   },
   "source": [
    "import scipy.sparse as sp"
   ]
  },
  {
   "cell_type": "raw",
   "metadata": {},
   "source": [
    "trainFeatures = sp.hstack((trainFeatures1, trainFeatures2), format='csr')\n",
    "testFeatures = sp.hstack((testFeatures1, testFeatures2), format='csr')"
   ]
  },
  {
   "cell_type": "markdown",
   "metadata": {},
   "source": [
    "# CLF"
   ]
  },
  {
   "cell_type": "markdown",
   "metadata": {},
   "source": [
    "### 1,2"
   ]
  },
  {
   "cell_type": "code",
   "execution_count": 39,
   "metadata": {},
   "outputs": [
    {
     "name": "stdout",
     "output_type": "stream",
     "text": [
      "Fit time:  353.3719129562378\n",
      "0.678657074341\n",
      "0.7474020783373302\n"
     ]
    }
   ],
   "source": [
    "_time = time.time()\n",
    "clf = LogisticRegression()\n",
    "clf.fit(trainFeatures, trainCategory)\n",
    "print('Fit time: ', time.time() - _time)\n",
    "predict = clf.predict(testFeatures)\n",
    "\n",
    "sm = 0\n",
    "print(accuracy_score(testCategory, predict))\n",
    "for i in range(len(testCategory)):\n",
    "    if testCategory[i] == predict[i] or \\\n",
    "        parents[str(int(testCategory[i]))] == str(int(predict[i])) or\\\n",
    "        str(int(predict[i])) in childrens[str(int(testCategory[i]))]:\n",
    "        sm += 1\n",
    "print(sm / len(testCategory))"
   ]
  },
  {
   "cell_type": "raw",
   "metadata": {},
   "source": [
    "Fit time:  141.06673216819763\n",
    "0.679456434852\n",
    "0.7474020783373302"
   ]
  },
  {
   "cell_type": "code",
   "execution_count": 22,
   "metadata": {},
   "outputs": [
    {
     "name": "stdout",
     "output_type": "stream",
     "text": [
      "Fit time:  196.75042819976807\n",
      "0.749000799361\n",
      "0.8225419664268585\n"
     ]
    }
   ],
   "source": [
    "_time = time.time()\n",
    "clf = RidgeClassifier()\n",
    "clf.fit(trainFeatures, trainCategory)\n",
    "print('Fit time: ', time.time() - _time)\n",
    "predict = clf.predict(testFeatures)\n",
    "\n",
    "sm = 0\n",
    "print(accuracy_score(testCategory, predict))\n",
    "for i in range(len(testCategory)):\n",
    "    if testCategory[i] == predict[i] or \\\n",
    "        parents[str(int(testCategory[i]))] == str(int(predict[i])) or\\\n",
    "        str(int(predict[i])) in childrens[str(int(testCategory[i]))]:\n",
    "        sm += 1\n",
    "print(sm / len(testCategory))"
   ]
  },
  {
   "cell_type": "raw",
   "metadata": {},
   "source": [
    "Fit time:  149.5062391757965\n",
    "0.747402078337\n",
    "0.8137490007993605"
   ]
  },
  {
   "cell_type": "code",
   "execution_count": 23,
   "metadata": {},
   "outputs": [
    {
     "name": "stdout",
     "output_type": "stream",
     "text": [
      "Fit time:  1.2476506233215332\n",
      "0.673061550759\n",
      "0.8353317346123101\n"
     ]
    }
   ],
   "source": [
    "_time = time.time()\n",
    "clf = NearestCentroid()\n",
    "clf.fit(trainFeatures, trainCategory)\n",
    "print('Fit time: ', time.time() - _time)\n",
    "predict = clf.predict(testFeatures)\n",
    "\n",
    "sm = 0\n",
    "print(accuracy_score(testCategory, predict))\n",
    "for i in range(len(testCategory)):\n",
    "    if testCategory[i] == predict[i] or \\\n",
    "        parents[str(int(testCategory[i]))] == str(int(predict[i])) or\\\n",
    "        str(int(predict[i])) in childrens[str(int(testCategory[i]))]:\n",
    "        sm += 1\n",
    "print(sm / len(testCategory))"
   ]
  },
  {
   "cell_type": "raw",
   "metadata": {},
   "source": [
    "Fit time:  1.2131810188293457\n",
    "0.66826538769\n",
    "0.8353317346123101"
   ]
  },
  {
   "cell_type": "code",
   "execution_count": 24,
   "metadata": {},
   "outputs": [
    {
     "name": "stdout",
     "output_type": "stream",
     "text": [
      "Fit time:  0.024344205856323242\n",
      "0.639488409273\n",
      "0.7242206235011991\n"
     ]
    }
   ],
   "source": [
    "_time = time.time()\n",
    "clf = KNeighborsClassifier()\n",
    "clf.fit(trainFeatures, trainCategory)\n",
    "print('Fit time: ', time.time() - _time)\n",
    "predict = clf.predict(testFeatures)\n",
    "\n",
    "sm = 0\n",
    "print(accuracy_score(testCategory, predict))\n",
    "for i in range(len(testCategory)):\n",
    "    if testCategory[i] == predict[i] or \\\n",
    "        parents[str(int(testCategory[i]))] == str(int(predict[i])) or\\\n",
    "        str(int(predict[i])) in childrens[str(int(testCategory[i]))]:\n",
    "        sm += 1\n",
    "print(sm / len(testCategory))"
   ]
  },
  {
   "cell_type": "raw",
   "metadata": {},
   "source": [
    "Fit time:  0.0359187126159668\n",
    "0.635491606715\n",
    "0.7234212629896083"
   ]
  },
  {
   "cell_type": "code",
   "execution_count": 25,
   "metadata": {},
   "outputs": [
    {
     "name": "stdout",
     "output_type": "stream",
     "text": [
      "Fit time:  0.02592611312866211\n",
      "0.674660271783\n",
      "0.768185451638689\n"
     ]
    }
   ],
   "source": [
    "_time = time.time()\n",
    "clf = KNeighborsClassifier(algorithm='brute', metric='cosine')\n",
    "clf.fit(trainFeatures, trainCategory)\n",
    "print('Fit time: ', time.time() - _time)\n",
    "predict = clf.predict(testFeatures)\n",
    "\n",
    "sm = 0\n",
    "print(accuracy_score(testCategory, predict))\n",
    "for i in range(len(testCategory)):\n",
    "    if testCategory[i] == predict[i] or \\\n",
    "        parents[str(int(testCategory[i]))] == str(int(predict[i])) or\\\n",
    "        str(int(predict[i])) in childrens[str(int(testCategory[i]))]:\n",
    "        sm += 1\n",
    "print(sm / len(testCategory))"
   ]
  },
  {
   "cell_type": "raw",
   "metadata": {},
   "source": [
    "Fit time:  0.02403712272644043\n",
    "0.677058353317\n",
    "0.7617905675459632"
   ]
  },
  {
   "cell_type": "code",
   "execution_count": 26,
   "metadata": {},
   "outputs": [
    {
     "name": "stdout",
     "output_type": "stream",
     "text": [
      "Fit time:  124.82207012176514\n",
      "0.116706634692\n",
      "0.1486810551558753\n"
     ]
    }
   ],
   "source": [
    "_time = time.time()\n",
    "clf = SVC()\n",
    "clf.fit(trainFeatures, trainCategory)\n",
    "print('Fit time: ', time.time() - _time)\n",
    "predict = clf.predict(testFeatures)\n",
    "\n",
    "sm = 0\n",
    "print(accuracy_score(testCategory, predict))\n",
    "for i in range(len(testCategory)):\n",
    "    if testCategory[i] == predict[i] or \\\n",
    "        parents[str(int(testCategory[i]))] == str(int(predict[i])) or\\\n",
    "        str(int(predict[i])) in childrens[str(int(testCategory[i]))]:\n",
    "        sm += 1\n",
    "print(sm / len(testCategory))"
   ]
  },
  {
   "cell_type": "raw",
   "metadata": {},
   "source": [
    "Fit time:  130.78621292114258\n",
    "0.117505995204\n",
    "0.14308553157474022"
   ]
  },
  {
   "cell_type": "code",
   "execution_count": 27,
   "metadata": {},
   "outputs": [
    {
     "name": "stdout",
     "output_type": "stream",
     "text": [
      "Fit time:  221.21249890327454\n",
      "0.686650679456\n",
      "0.7697841726618705\n"
     ]
    }
   ],
   "source": [
    "_time = time.time()\n",
    "clf = SVC(gamma=0.5)\n",
    "clf.fit(trainFeatures, trainCategory)\n",
    "print('Fit time: ', time.time() - _time)\n",
    "predict = clf.predict(testFeatures)\n",
    "\n",
    "sm = 0\n",
    "print(accuracy_score(testCategory, predict))\n",
    "for i in range(len(testCategory)):\n",
    "    if testCategory[i] == predict[i] or \\\n",
    "        parents[str(int(testCategory[i]))] == str(int(predict[i])) or\\\n",
    "        str(int(predict[i])) in childrens[str(int(testCategory[i]))]:\n",
    "        sm += 1\n",
    "print(sm / len(testCategory))"
   ]
  },
  {
   "cell_type": "raw",
   "metadata": {},
   "source": [
    "Fit time:  214.2538468837738\n",
    "0.66346922462\n",
    "0.7498001598721024"
   ]
  },
  {
   "cell_type": "markdown",
   "metadata": {
    "collapsed": true
   },
   "source": [
    "### 2,2"
   ]
  },
  {
   "cell_type": "code",
   "execution_count": 30,
   "metadata": {},
   "outputs": [
    {
     "name": "stdout",
     "output_type": "stream",
     "text": [
      "Fit time:  131.48263025283813\n",
      "0.482813749001\n",
      "0.5315747402078337\n"
     ]
    }
   ],
   "source": [
    "_time = time.time()\n",
    "clf = LogisticRegression()\n",
    "clf.fit(trainFeatures, trainCategory)\n",
    "print('Fit time: ', time.time() - _time)\n",
    "predict = clf.predict(testFeatures)\n",
    "\n",
    "sm = 0\n",
    "print(accuracy_score(testCategory, predict))\n",
    "for i in range(len(testCategory)):\n",
    "    if testCategory[i] == predict[i] or \\\n",
    "        parents[str(int(testCategory[i]))] == str(int(predict[i])) or\\\n",
    "        str(int(predict[i])) in childrens[str(int(testCategory[i]))]:\n",
    "        sm += 1\n",
    "print(sm / len(testCategory))"
   ]
  },
  {
   "cell_type": "code",
   "execution_count": 31,
   "metadata": {},
   "outputs": [
    {
     "name": "stdout",
     "output_type": "stream",
     "text": [
      "Fit time:  157.82303643226624\n",
      "0.687450039968\n",
      "0.7601918465227818\n"
     ]
    }
   ],
   "source": [
    "_time = time.time()\n",
    "clf = RidgeClassifier()\n",
    "clf.fit(trainFeatures, trainCategory)\n",
    "print('Fit time: ', time.time() - _time)\n",
    "predict = clf.predict(testFeatures)\n",
    "\n",
    "sm = 0\n",
    "print(accuracy_score(testCategory, predict))\n",
    "for i in range(len(testCategory)):\n",
    "    if testCategory[i] == predict[i] or \\\n",
    "        parents[str(int(testCategory[i]))] == str(int(predict[i])) or\\\n",
    "        str(int(predict[i])) in childrens[str(int(testCategory[i]))]:\n",
    "        sm += 1\n",
    "print(sm / len(testCategory))"
   ]
  },
  {
   "cell_type": "code",
   "execution_count": 32,
   "metadata": {},
   "outputs": [
    {
     "name": "stdout",
     "output_type": "stream",
     "text": [
      "Fit time:  1.7989120483398438\n",
      "0.585131894484\n",
      "0.7442046362909672\n"
     ]
    }
   ],
   "source": [
    "_time = time.time()\n",
    "clf = NearestCentroid()\n",
    "clf.fit(trainFeatures, trainCategory)\n",
    "print('Fit time: ', time.time() - _time)\n",
    "predict = clf.predict(testFeatures)\n",
    "\n",
    "sm = 0\n",
    "print(accuracy_score(testCategory, predict))\n",
    "for i in range(len(testCategory)):\n",
    "    if testCategory[i] == predict[i] or \\\n",
    "        parents[str(int(testCategory[i]))] == str(int(predict[i])) or\\\n",
    "        str(int(predict[i])) in childrens[str(int(testCategory[i]))]:\n",
    "        sm += 1\n",
    "print(sm / len(testCategory))"
   ]
  },
  {
   "cell_type": "code",
   "execution_count": 33,
   "metadata": {},
   "outputs": [
    {
     "name": "stdout",
     "output_type": "stream",
     "text": [
      "Fit time:  0.023096323013305664\n",
      "0.109512390088\n",
      "0.31095123900879296\n"
     ]
    }
   ],
   "source": [
    "_time = time.time()\n",
    "clf = KNeighborsClassifier()\n",
    "clf.fit(trainFeatures, trainCategory)\n",
    "print('Fit time: ', time.time() - _time)\n",
    "predict = clf.predict(testFeatures)\n",
    "\n",
    "sm = 0\n",
    "print(accuracy_score(testCategory, predict))\n",
    "for i in range(len(testCategory)):\n",
    "    if testCategory[i] == predict[i] or \\\n",
    "        parents[str(int(testCategory[i]))] == str(int(predict[i])) or\\\n",
    "        str(int(predict[i])) in childrens[str(int(testCategory[i]))]:\n",
    "        sm += 1\n",
    "print(sm / len(testCategory))"
   ]
  },
  {
   "cell_type": "code",
   "execution_count": 34,
   "metadata": {},
   "outputs": [
    {
     "name": "stdout",
     "output_type": "stream",
     "text": [
      "Fit time:  0.020958900451660156\n",
      "0.585131894484\n",
      "0.6994404476418865\n"
     ]
    }
   ],
   "source": [
    "_time = time.time()\n",
    "clf = KNeighborsClassifier(algorithm='brute', metric='cosine')\n",
    "clf.fit(trainFeatures, trainCategory)\n",
    "print('Fit time: ', time.time() - _time)\n",
    "predict = clf.predict(testFeatures)\n",
    "\n",
    "sm = 0\n",
    "print(accuracy_score(testCategory, predict))\n",
    "for i in range(len(testCategory)):\n",
    "    if testCategory[i] == predict[i] or \\\n",
    "        parents[str(int(testCategory[i]))] == str(int(predict[i])) or\\\n",
    "        str(int(predict[i])) in childrens[str(int(testCategory[i]))]:\n",
    "        sm += 1\n",
    "print(sm / len(testCategory))"
   ]
  },
  {
   "cell_type": "code",
   "execution_count": 35,
   "metadata": {},
   "outputs": [
    {
     "name": "stdout",
     "output_type": "stream",
     "text": [
      "Fit time:  118.1530339717865\n",
      "0.116706634692\n",
      "0.1486810551558753\n"
     ]
    }
   ],
   "source": [
    "_time = time.time()\n",
    "clf = SVC()\n",
    "clf.fit(trainFeatures, trainCategory)\n",
    "print('Fit time: ', time.time() - _time)\n",
    "predict = clf.predict(testFeatures)\n",
    "\n",
    "sm = 0\n",
    "print(accuracy_score(testCategory, predict))\n",
    "for i in range(len(testCategory)):\n",
    "    if testCategory[i] == predict[i] or \\\n",
    "        parents[str(int(testCategory[i]))] == str(int(predict[i])) or\\\n",
    "        str(int(predict[i])) in childrens[str(int(testCategory[i]))]:\n",
    "        sm += 1\n",
    "print(sm / len(testCategory))"
   ]
  },
  {
   "cell_type": "code",
   "execution_count": 36,
   "metadata": {},
   "outputs": [
    {
     "name": "stdout",
     "output_type": "stream",
     "text": [
      "Fit time:  279.654146194458\n",
      "0.426059152678\n",
      "0.4660271782573941\n"
     ]
    }
   ],
   "source": [
    "_time = time.time()\n",
    "clf = SVC(gamma=0.5)\n",
    "clf.fit(trainFeatures, trainCategory)\n",
    "print('Fit time: ', time.time() - _time)\n",
    "predict = clf.predict(testFeatures)\n",
    "\n",
    "sm = 0\n",
    "print(accuracy_score(testCategory, predict))\n",
    "for i in range(len(testCategory)):\n",
    "    if testCategory[i] == predict[i] or \\\n",
    "        parents[str(int(testCategory[i]))] == str(int(predict[i])) or\\\n",
    "        str(int(predict[i])) in childrens[str(int(testCategory[i]))]:\n",
    "        sm += 1\n",
    "print(sm / len(testCategory))"
   ]
  },
  {
   "cell_type": "markdown",
   "metadata": {},
   "source": [
    "### 3,3"
   ]
  },
  {
   "cell_type": "code",
   "execution_count": 42,
   "metadata": {},
   "outputs": [
    {
     "name": "stdout",
     "output_type": "stream",
     "text": [
      "Fit time:  3995.5270805358887\n",
      "0.592326139089\n",
      "0.6546762589928058\n"
     ]
    }
   ],
   "source": [
    "_time = time.time()\n",
    "clf = RidgeClassifier()\n",
    "clf.fit(trainFeatures, trainCategory)\n",
    "print('Fit time: ', time.time() - _time)\n",
    "predict = clf.predict(testFeatures)\n",
    "\n",
    "sm = 0\n",
    "print(accuracy_score(testCategory, predict))\n",
    "for i in range(len(testCategory)):\n",
    "    if testCategory[i] == predict[i] or \\\n",
    "        parents[str(int(testCategory[i]))] == str(int(predict[i])) or\\\n",
    "        str(int(predict[i])) in childrens[str(int(testCategory[i]))]:\n",
    "        sm += 1\n",
    "print(sm / len(testCategory))"
   ]
  },
  {
   "cell_type": "code",
   "execution_count": 51,
   "metadata": {},
   "outputs": [
    {
     "name": "stdout",
     "output_type": "stream",
     "text": [
      "Fit time:  1.5285096168518066\n",
      "0.220623501199\n",
      "0.2709832134292566\n"
     ]
    }
   ],
   "source": [
    "_time = time.time()\n",
    "clf = NearestCentroid()\n",
    "clf.fit(trainFeatures, trainCategory)\n",
    "print('Fit time: ', time.time() - _time)\n",
    "predict = clf.predict(testFeatures)\n",
    "\n",
    "sm = 0\n",
    "print(accuracy_score(testCategory, predict))\n",
    "for i in range(len(testCategory)):\n",
    "    if testCategory[i] == predict[i] or \\\n",
    "        parents[str(int(testCategory[i]))] == str(int(predict[i])) or\\\n",
    "        str(int(predict[i])) in childrens[str(int(testCategory[i]))]:\n",
    "        sm += 1\n",
    "print(sm / len(testCategory))"
   ]
  },
  {
   "cell_type": "code",
   "execution_count": 52,
   "metadata": {},
   "outputs": [
    {
     "name": "stdout",
     "output_type": "stream",
     "text": [
      "Fit time:  0.04726719856262207\n",
      "0.139888089528\n",
      "0.4844124700239808\n"
     ]
    }
   ],
   "source": [
    "_time = time.time()\n",
    "clf = KNeighborsClassifier()\n",
    "clf.fit(trainFeatures, trainCategory)\n",
    "print('Fit time: ', time.time() - _time)\n",
    "predict = clf.predict(testFeatures)\n",
    "\n",
    "sm = 0\n",
    "print(accuracy_score(testCategory, predict))\n",
    "for i in range(len(testCategory)):\n",
    "    if testCategory[i] == predict[i] or \\\n",
    "        parents[str(int(testCategory[i]))] == str(int(predict[i])) or\\\n",
    "        str(int(predict[i])) in childrens[str(int(testCategory[i]))]:\n",
    "        sm += 1\n",
    "print(sm / len(testCategory))"
   ]
  },
  {
   "cell_type": "code",
   "execution_count": 53,
   "metadata": {},
   "outputs": [
    {
     "name": "stdout",
     "output_type": "stream",
     "text": [
      "Fit time:  0.013119220733642578\n",
      "0.494004796163\n",
      "0.6091127098321343\n"
     ]
    }
   ],
   "source": [
    "_time = time.time()\n",
    "clf = KNeighborsClassifier(algorithm='brute', metric='cosine')\n",
    "clf.fit(trainFeatures, trainCategory)\n",
    "print('Fit time: ', time.time() - _time)\n",
    "predict = clf.predict(testFeatures)\n",
    "\n",
    "sm = 0\n",
    "print(accuracy_score(testCategory, predict))\n",
    "for i in range(len(testCategory)):\n",
    "    if testCategory[i] == predict[i] or \\\n",
    "        parents[str(int(testCategory[i]))] == str(int(predict[i])) or\\\n",
    "        str(int(predict[i])) in childrens[str(int(testCategory[i]))]:\n",
    "        sm += 1\n",
    "print(sm / len(testCategory))"
   ]
  },
  {
   "cell_type": "code",
   "execution_count": 54,
   "metadata": {},
   "outputs": [
    {
     "name": "stdout",
     "output_type": "stream",
     "text": [
      "Fit time:  114.99397683143616\n",
      "0.113509192646\n",
      "0.14948041566746603\n"
     ]
    }
   ],
   "source": [
    "_time = time.time()\n",
    "clf = SVC()\n",
    "clf.fit(trainFeatures, trainCategory)\n",
    "print('Fit time: ', time.time() - _time)\n",
    "predict = clf.predict(testFeatures)\n",
    "\n",
    "sm = 0\n",
    "print(accuracy_score(testCategory, predict))\n",
    "for i in range(len(testCategory)):\n",
    "    if testCategory[i] == predict[i] or \\\n",
    "        parents[str(int(testCategory[i]))] == str(int(predict[i])) or\\\n",
    "        str(int(predict[i])) in childrens[str(int(testCategory[i]))]:\n",
    "        sm += 1\n",
    "print(sm / len(testCategory))"
   ]
  },
  {
   "cell_type": "code",
   "execution_count": null,
   "metadata": {
    "collapsed": true
   },
   "outputs": [],
   "source": []
  }
 ],
 "metadata": {
  "kernelspec": {
   "display_name": "Python 3",
   "language": "python",
   "name": "python3"
  },
  "language_info": {
   "codemirror_mode": {
    "name": "ipython",
    "version": 3
   },
   "file_extension": ".py",
   "mimetype": "text/x-python",
   "name": "python",
   "nbconvert_exporter": "python",
   "pygments_lexer": "ipython3",
   "version": "3.6.1"
  }
 },
 "nbformat": 4,
 "nbformat_minor": 2
}
